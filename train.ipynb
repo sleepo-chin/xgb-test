{
 "cells": [
  {
   "cell_type": "code",
   "execution_count": 1,
   "metadata": {},
   "outputs": [],
   "source": [
    "#conda install pandas matplotlib scikit-learn -y"
   ]
  },
  {
   "cell_type": "code",
   "execution_count": 2,
   "metadata": {},
   "outputs": [],
   "source": [
    "import pandas as pd\n",
    "import matplotlib.pyplot as plt\n",
    "import numpy"
   ]
  },
  {
   "cell_type": "code",
   "execution_count": 3,
   "metadata": {},
   "outputs": [],
   "source": [
    "train_df = pd.read_csv('train.csv')\n",
    "test_df = pd.read_csv('test.csv')"
   ]
  },
  {
   "cell_type": "code",
   "execution_count": 4,
   "metadata": {},
   "outputs": [
    {
     "data": {
      "text/plain": [
       "date     object\n",
       "store     int64\n",
       "item      int64\n",
       "sales     int64\n",
       "dtype: object"
      ]
     },
     "execution_count": 4,
     "metadata": {},
     "output_type": "execute_result"
    }
   ],
   "source": [
    "train_df.dtypes"
   ]
  },
  {
   "cell_type": "code",
   "execution_count": 5,
   "metadata": {},
   "outputs": [
    {
     "data": {
      "text/html": [
       "<div>\n",
       "<style scoped>\n",
       "    .dataframe tbody tr th:only-of-type {\n",
       "        vertical-align: middle;\n",
       "    }\n",
       "\n",
       "    .dataframe tbody tr th {\n",
       "        vertical-align: top;\n",
       "    }\n",
       "\n",
       "    .dataframe thead th {\n",
       "        text-align: right;\n",
       "    }\n",
       "</style>\n",
       "<table border=\"1\" class=\"dataframe\">\n",
       "  <thead>\n",
       "    <tr style=\"text-align: right;\">\n",
       "      <th></th>\n",
       "      <th>date</th>\n",
       "      <th>store</th>\n",
       "      <th>item</th>\n",
       "      <th>sales</th>\n",
       "    </tr>\n",
       "  </thead>\n",
       "  <tbody>\n",
       "    <tr>\n",
       "      <th>0</th>\n",
       "      <td>2013-01-01</td>\n",
       "      <td>1</td>\n",
       "      <td>1</td>\n",
       "      <td>13</td>\n",
       "    </tr>\n",
       "    <tr>\n",
       "      <th>1</th>\n",
       "      <td>2013-01-02</td>\n",
       "      <td>1</td>\n",
       "      <td>1</td>\n",
       "      <td>11</td>\n",
       "    </tr>\n",
       "    <tr>\n",
       "      <th>2</th>\n",
       "      <td>2013-01-03</td>\n",
       "      <td>1</td>\n",
       "      <td>1</td>\n",
       "      <td>14</td>\n",
       "    </tr>\n",
       "    <tr>\n",
       "      <th>3</th>\n",
       "      <td>2013-01-04</td>\n",
       "      <td>1</td>\n",
       "      <td>1</td>\n",
       "      <td>13</td>\n",
       "    </tr>\n",
       "    <tr>\n",
       "      <th>4</th>\n",
       "      <td>2013-01-05</td>\n",
       "      <td>1</td>\n",
       "      <td>1</td>\n",
       "      <td>10</td>\n",
       "    </tr>\n",
       "  </tbody>\n",
       "</table>\n",
       "</div>"
      ],
      "text/plain": [
       "         date  store  item  sales\n",
       "0  2013-01-01      1     1     13\n",
       "1  2013-01-02      1     1     11\n",
       "2  2013-01-03      1     1     14\n",
       "3  2013-01-04      1     1     13\n",
       "4  2013-01-05      1     1     10"
      ]
     },
     "execution_count": 5,
     "metadata": {},
     "output_type": "execute_result"
    }
   ],
   "source": [
    "train_df.head()"
   ]
  },
  {
   "cell_type": "code",
   "execution_count": 6,
   "metadata": {},
   "outputs": [
    {
     "data": {
      "text/html": [
       "<div>\n",
       "<style scoped>\n",
       "    .dataframe tbody tr th:only-of-type {\n",
       "        vertical-align: middle;\n",
       "    }\n",
       "\n",
       "    .dataframe tbody tr th {\n",
       "        vertical-align: top;\n",
       "    }\n",
       "\n",
       "    .dataframe thead th {\n",
       "        text-align: right;\n",
       "    }\n",
       "</style>\n",
       "<table border=\"1\" class=\"dataframe\">\n",
       "  <thead>\n",
       "    <tr style=\"text-align: right;\">\n",
       "      <th></th>\n",
       "      <th>id</th>\n",
       "      <th>date</th>\n",
       "      <th>store</th>\n",
       "      <th>item</th>\n",
       "    </tr>\n",
       "  </thead>\n",
       "  <tbody>\n",
       "    <tr>\n",
       "      <th>44995</th>\n",
       "      <td>44995</td>\n",
       "      <td>2018-03-27</td>\n",
       "      <td>10</td>\n",
       "      <td>50</td>\n",
       "    </tr>\n",
       "    <tr>\n",
       "      <th>44996</th>\n",
       "      <td>44996</td>\n",
       "      <td>2018-03-28</td>\n",
       "      <td>10</td>\n",
       "      <td>50</td>\n",
       "    </tr>\n",
       "    <tr>\n",
       "      <th>44997</th>\n",
       "      <td>44997</td>\n",
       "      <td>2018-03-29</td>\n",
       "      <td>10</td>\n",
       "      <td>50</td>\n",
       "    </tr>\n",
       "    <tr>\n",
       "      <th>44998</th>\n",
       "      <td>44998</td>\n",
       "      <td>2018-03-30</td>\n",
       "      <td>10</td>\n",
       "      <td>50</td>\n",
       "    </tr>\n",
       "    <tr>\n",
       "      <th>44999</th>\n",
       "      <td>44999</td>\n",
       "      <td>2018-03-31</td>\n",
       "      <td>10</td>\n",
       "      <td>50</td>\n",
       "    </tr>\n",
       "  </tbody>\n",
       "</table>\n",
       "</div>"
      ],
      "text/plain": [
       "          id        date  store  item\n",
       "44995  44995  2018-03-27     10    50\n",
       "44996  44996  2018-03-28     10    50\n",
       "44997  44997  2018-03-29     10    50\n",
       "44998  44998  2018-03-30     10    50\n",
       "44999  44999  2018-03-31     10    50"
      ]
     },
     "execution_count": 6,
     "metadata": {},
     "output_type": "execute_result"
    }
   ],
   "source": [
    "test_df.tail()"
   ]
  },
  {
   "cell_type": "code",
   "execution_count": 7,
   "metadata": {},
   "outputs": [
    {
     "data": {
      "text/html": [
       "<div>\n",
       "<style scoped>\n",
       "    .dataframe tbody tr th:only-of-type {\n",
       "        vertical-align: middle;\n",
       "    }\n",
       "\n",
       "    .dataframe tbody tr th {\n",
       "        vertical-align: top;\n",
       "    }\n",
       "\n",
       "    .dataframe thead th {\n",
       "        text-align: right;\n",
       "    }\n",
       "</style>\n",
       "<table border=\"1\" class=\"dataframe\">\n",
       "  <thead>\n",
       "    <tr style=\"text-align: right;\">\n",
       "      <th></th>\n",
       "      <th>date</th>\n",
       "      <th>store</th>\n",
       "      <th>item</th>\n",
       "      <th>sales</th>\n",
       "      <th>trsin_or_test</th>\n",
       "      <th>id</th>\n",
       "    </tr>\n",
       "  </thead>\n",
       "  <tbody>\n",
       "    <tr>\n",
       "      <th>0</th>\n",
       "      <td>2013-01-01</td>\n",
       "      <td>1</td>\n",
       "      <td>1</td>\n",
       "      <td>13.0</td>\n",
       "      <td>train</td>\n",
       "      <td>NaN</td>\n",
       "    </tr>\n",
       "    <tr>\n",
       "      <th>1</th>\n",
       "      <td>2013-01-02</td>\n",
       "      <td>1</td>\n",
       "      <td>1</td>\n",
       "      <td>11.0</td>\n",
       "      <td>train</td>\n",
       "      <td>NaN</td>\n",
       "    </tr>\n",
       "    <tr>\n",
       "      <th>2</th>\n",
       "      <td>2013-01-03</td>\n",
       "      <td>1</td>\n",
       "      <td>1</td>\n",
       "      <td>14.0</td>\n",
       "      <td>train</td>\n",
       "      <td>NaN</td>\n",
       "    </tr>\n",
       "    <tr>\n",
       "      <th>3</th>\n",
       "      <td>2013-01-04</td>\n",
       "      <td>1</td>\n",
       "      <td>1</td>\n",
       "      <td>13.0</td>\n",
       "      <td>train</td>\n",
       "      <td>NaN</td>\n",
       "    </tr>\n",
       "    <tr>\n",
       "      <th>4</th>\n",
       "      <td>2013-01-05</td>\n",
       "      <td>1</td>\n",
       "      <td>1</td>\n",
       "      <td>10.0</td>\n",
       "      <td>train</td>\n",
       "      <td>NaN</td>\n",
       "    </tr>\n",
       "  </tbody>\n",
       "</table>\n",
       "</div>"
      ],
      "text/plain": [
       "         date  store  item  sales trsin_or_test  id\n",
       "0  2013-01-01      1     1   13.0         train NaN\n",
       "1  2013-01-02      1     1   11.0         train NaN\n",
       "2  2013-01-03      1     1   14.0         train NaN\n",
       "3  2013-01-04      1     1   13.0         train NaN\n",
       "4  2013-01-05      1     1   10.0         train NaN"
      ]
     },
     "execution_count": 7,
     "metadata": {},
     "output_type": "execute_result"
    }
   ],
   "source": [
    "train_df['trsin_or_test'] , test_df['trsin_or_test'] = 'train' , 'test'\n",
    "data_df = pd.concat([train_df,test_df])\n",
    "data_df.head()"
   ]
  },
  {
   "cell_type": "code",
   "execution_count": 8,
   "metadata": {},
   "outputs": [],
   "source": [
    "data_df['date'] = pd.to_datetime(data_df['date'])"
   ]
  },
  {
   "cell_type": "code",
   "execution_count": 9,
   "metadata": {},
   "outputs": [
    {
     "data": {
      "text/plain": [
       "date             datetime64[ns]\n",
       "store                     int64\n",
       "item                      int64\n",
       "sales                   float64\n",
       "trsin_or_test            object\n",
       "id                      float64\n",
       "dtype: object"
      ]
     },
     "execution_count": 9,
     "metadata": {},
     "output_type": "execute_result"
    }
   ],
   "source": [
    "data_df.dtypes"
   ]
  },
  {
   "cell_type": "code",
   "execution_count": 10,
   "metadata": {},
   "outputs": [
    {
     "name": "stderr",
     "output_type": "stream",
     "text": [
      "/home/chin/anaconda3/envs/snapml/lib/python3.7/site-packages/ipykernel_launcher.py:4: FutureWarning: Series.dt.weekofyear and Series.dt.week have been deprecated.  Please use Series.dt.isocalendar().week instead.\n",
      "  after removing the cwd from sys.path.\n"
     ]
    }
   ],
   "source": [
    "data_df['year'] = data_df['date'].dt.year\n",
    "data_df['quarter'] = data_df['date'].dt.quarter\n",
    "data_df['month'] = data_df['date'].dt.month\n",
    "data_df['weekofyear'] = data_df['date'].dt.weekofyear\n",
    "data_df['weekday'] = data_df['date'].dt.weekday\n",
    "data_df['dayofweek'] = data_df['date'].dt.dayofweek"
   ]
  },
  {
   "cell_type": "code",
   "execution_count": 11,
   "metadata": {},
   "outputs": [
    {
     "data": {
      "text/html": [
       "<div>\n",
       "<style scoped>\n",
       "    .dataframe tbody tr th:only-of-type {\n",
       "        vertical-align: middle;\n",
       "    }\n",
       "\n",
       "    .dataframe tbody tr th {\n",
       "        vertical-align: top;\n",
       "    }\n",
       "\n",
       "    .dataframe thead th {\n",
       "        text-align: right;\n",
       "    }\n",
       "</style>\n",
       "<table border=\"1\" class=\"dataframe\">\n",
       "  <thead>\n",
       "    <tr style=\"text-align: right;\">\n",
       "      <th></th>\n",
       "      <th>date</th>\n",
       "      <th>store</th>\n",
       "      <th>item</th>\n",
       "      <th>sales</th>\n",
       "      <th>trsin_or_test</th>\n",
       "      <th>id</th>\n",
       "      <th>year</th>\n",
       "      <th>quarter</th>\n",
       "      <th>month</th>\n",
       "      <th>weekofyear</th>\n",
       "      <th>weekday</th>\n",
       "      <th>dayofweek</th>\n",
       "    </tr>\n",
       "  </thead>\n",
       "  <tbody>\n",
       "    <tr>\n",
       "      <th>0</th>\n",
       "      <td>2013-01-01</td>\n",
       "      <td>1</td>\n",
       "      <td>1</td>\n",
       "      <td>13.0</td>\n",
       "      <td>train</td>\n",
       "      <td>NaN</td>\n",
       "      <td>2013</td>\n",
       "      <td>1</td>\n",
       "      <td>1</td>\n",
       "      <td>1</td>\n",
       "      <td>1</td>\n",
       "      <td>1</td>\n",
       "    </tr>\n",
       "    <tr>\n",
       "      <th>1</th>\n",
       "      <td>2013-01-02</td>\n",
       "      <td>1</td>\n",
       "      <td>1</td>\n",
       "      <td>11.0</td>\n",
       "      <td>train</td>\n",
       "      <td>NaN</td>\n",
       "      <td>2013</td>\n",
       "      <td>1</td>\n",
       "      <td>1</td>\n",
       "      <td>1</td>\n",
       "      <td>2</td>\n",
       "      <td>2</td>\n",
       "    </tr>\n",
       "    <tr>\n",
       "      <th>2</th>\n",
       "      <td>2013-01-03</td>\n",
       "      <td>1</td>\n",
       "      <td>1</td>\n",
       "      <td>14.0</td>\n",
       "      <td>train</td>\n",
       "      <td>NaN</td>\n",
       "      <td>2013</td>\n",
       "      <td>1</td>\n",
       "      <td>1</td>\n",
       "      <td>1</td>\n",
       "      <td>3</td>\n",
       "      <td>3</td>\n",
       "    </tr>\n",
       "    <tr>\n",
       "      <th>3</th>\n",
       "      <td>2013-01-04</td>\n",
       "      <td>1</td>\n",
       "      <td>1</td>\n",
       "      <td>13.0</td>\n",
       "      <td>train</td>\n",
       "      <td>NaN</td>\n",
       "      <td>2013</td>\n",
       "      <td>1</td>\n",
       "      <td>1</td>\n",
       "      <td>1</td>\n",
       "      <td>4</td>\n",
       "      <td>4</td>\n",
       "    </tr>\n",
       "    <tr>\n",
       "      <th>4</th>\n",
       "      <td>2013-01-05</td>\n",
       "      <td>1</td>\n",
       "      <td>1</td>\n",
       "      <td>10.0</td>\n",
       "      <td>train</td>\n",
       "      <td>NaN</td>\n",
       "      <td>2013</td>\n",
       "      <td>1</td>\n",
       "      <td>1</td>\n",
       "      <td>1</td>\n",
       "      <td>5</td>\n",
       "      <td>5</td>\n",
       "    </tr>\n",
       "    <tr>\n",
       "      <th>5</th>\n",
       "      <td>2013-01-06</td>\n",
       "      <td>1</td>\n",
       "      <td>1</td>\n",
       "      <td>12.0</td>\n",
       "      <td>train</td>\n",
       "      <td>NaN</td>\n",
       "      <td>2013</td>\n",
       "      <td>1</td>\n",
       "      <td>1</td>\n",
       "      <td>1</td>\n",
       "      <td>6</td>\n",
       "      <td>6</td>\n",
       "    </tr>\n",
       "    <tr>\n",
       "      <th>6</th>\n",
       "      <td>2013-01-07</td>\n",
       "      <td>1</td>\n",
       "      <td>1</td>\n",
       "      <td>10.0</td>\n",
       "      <td>train</td>\n",
       "      <td>NaN</td>\n",
       "      <td>2013</td>\n",
       "      <td>1</td>\n",
       "      <td>1</td>\n",
       "      <td>2</td>\n",
       "      <td>0</td>\n",
       "      <td>0</td>\n",
       "    </tr>\n",
       "    <tr>\n",
       "      <th>7</th>\n",
       "      <td>2013-01-08</td>\n",
       "      <td>1</td>\n",
       "      <td>1</td>\n",
       "      <td>9.0</td>\n",
       "      <td>train</td>\n",
       "      <td>NaN</td>\n",
       "      <td>2013</td>\n",
       "      <td>1</td>\n",
       "      <td>1</td>\n",
       "      <td>2</td>\n",
       "      <td>1</td>\n",
       "      <td>1</td>\n",
       "    </tr>\n",
       "    <tr>\n",
       "      <th>8</th>\n",
       "      <td>2013-01-09</td>\n",
       "      <td>1</td>\n",
       "      <td>1</td>\n",
       "      <td>12.0</td>\n",
       "      <td>train</td>\n",
       "      <td>NaN</td>\n",
       "      <td>2013</td>\n",
       "      <td>1</td>\n",
       "      <td>1</td>\n",
       "      <td>2</td>\n",
       "      <td>2</td>\n",
       "      <td>2</td>\n",
       "    </tr>\n",
       "    <tr>\n",
       "      <th>9</th>\n",
       "      <td>2013-01-10</td>\n",
       "      <td>1</td>\n",
       "      <td>1</td>\n",
       "      <td>9.0</td>\n",
       "      <td>train</td>\n",
       "      <td>NaN</td>\n",
       "      <td>2013</td>\n",
       "      <td>1</td>\n",
       "      <td>1</td>\n",
       "      <td>2</td>\n",
       "      <td>3</td>\n",
       "      <td>3</td>\n",
       "    </tr>\n",
       "  </tbody>\n",
       "</table>\n",
       "</div>"
      ],
      "text/plain": [
       "        date  store  item  sales trsin_or_test  id  year  quarter  month  \\\n",
       "0 2013-01-01      1     1   13.0         train NaN  2013        1      1   \n",
       "1 2013-01-02      1     1   11.0         train NaN  2013        1      1   \n",
       "2 2013-01-03      1     1   14.0         train NaN  2013        1      1   \n",
       "3 2013-01-04      1     1   13.0         train NaN  2013        1      1   \n",
       "4 2013-01-05      1     1   10.0         train NaN  2013        1      1   \n",
       "5 2013-01-06      1     1   12.0         train NaN  2013        1      1   \n",
       "6 2013-01-07      1     1   10.0         train NaN  2013        1      1   \n",
       "7 2013-01-08      1     1    9.0         train NaN  2013        1      1   \n",
       "8 2013-01-09      1     1   12.0         train NaN  2013        1      1   \n",
       "9 2013-01-10      1     1    9.0         train NaN  2013        1      1   \n",
       "\n",
       "   weekofyear  weekday  dayofweek  \n",
       "0           1        1          1  \n",
       "1           1        2          2  \n",
       "2           1        3          3  \n",
       "3           1        4          4  \n",
       "4           1        5          5  \n",
       "5           1        6          6  \n",
       "6           2        0          0  \n",
       "7           2        1          1  \n",
       "8           2        2          2  \n",
       "9           2        3          3  "
      ]
     },
     "execution_count": 11,
     "metadata": {},
     "output_type": "execute_result"
    }
   ],
   "source": [
    "data_df.head(10)"
   ]
  },
  {
   "cell_type": "code",
   "execution_count": 12,
   "metadata": {},
   "outputs": [],
   "source": [
    "data_df['item_quarter_mean'] = data_df.groupby(['quarter','item'])['sales'].transform('mean')"
   ]
  },
  {
   "cell_type": "code",
   "execution_count": 13,
   "metadata": {},
   "outputs": [
    {
     "data": {
      "text/html": [
       "<div>\n",
       "<style scoped>\n",
       "    .dataframe tbody tr th:only-of-type {\n",
       "        vertical-align: middle;\n",
       "    }\n",
       "\n",
       "    .dataframe tbody tr th {\n",
       "        vertical-align: top;\n",
       "    }\n",
       "\n",
       "    .dataframe thead th {\n",
       "        text-align: right;\n",
       "    }\n",
       "</style>\n",
       "<table border=\"1\" class=\"dataframe\">\n",
       "  <thead>\n",
       "    <tr style=\"text-align: right;\">\n",
       "      <th></th>\n",
       "      <th>date</th>\n",
       "      <th>store</th>\n",
       "      <th>item</th>\n",
       "      <th>sales</th>\n",
       "      <th>trsin_or_test</th>\n",
       "      <th>id</th>\n",
       "      <th>year</th>\n",
       "      <th>quarter</th>\n",
       "      <th>month</th>\n",
       "      <th>weekofyear</th>\n",
       "      <th>weekday</th>\n",
       "      <th>dayofweek</th>\n",
       "      <th>item_quarter_mean</th>\n",
       "    </tr>\n",
       "  </thead>\n",
       "  <tbody>\n",
       "    <tr>\n",
       "      <th>0</th>\n",
       "      <td>2013-01-01</td>\n",
       "      <td>1</td>\n",
       "      <td>1</td>\n",
       "      <td>13.0</td>\n",
       "      <td>train</td>\n",
       "      <td>NaN</td>\n",
       "      <td>2013</td>\n",
       "      <td>1</td>\n",
       "      <td>1</td>\n",
       "      <td>1</td>\n",
       "      <td>1</td>\n",
       "      <td>1</td>\n",
       "      <td>17.044789</td>\n",
       "    </tr>\n",
       "    <tr>\n",
       "      <th>1</th>\n",
       "      <td>2013-01-02</td>\n",
       "      <td>1</td>\n",
       "      <td>1</td>\n",
       "      <td>11.0</td>\n",
       "      <td>train</td>\n",
       "      <td>NaN</td>\n",
       "      <td>2013</td>\n",
       "      <td>1</td>\n",
       "      <td>1</td>\n",
       "      <td>1</td>\n",
       "      <td>2</td>\n",
       "      <td>2</td>\n",
       "      <td>17.044789</td>\n",
       "    </tr>\n",
       "    <tr>\n",
       "      <th>2</th>\n",
       "      <td>2013-01-03</td>\n",
       "      <td>1</td>\n",
       "      <td>1</td>\n",
       "      <td>14.0</td>\n",
       "      <td>train</td>\n",
       "      <td>NaN</td>\n",
       "      <td>2013</td>\n",
       "      <td>1</td>\n",
       "      <td>1</td>\n",
       "      <td>1</td>\n",
       "      <td>3</td>\n",
       "      <td>3</td>\n",
       "      <td>17.044789</td>\n",
       "    </tr>\n",
       "    <tr>\n",
       "      <th>3</th>\n",
       "      <td>2013-01-04</td>\n",
       "      <td>1</td>\n",
       "      <td>1</td>\n",
       "      <td>13.0</td>\n",
       "      <td>train</td>\n",
       "      <td>NaN</td>\n",
       "      <td>2013</td>\n",
       "      <td>1</td>\n",
       "      <td>1</td>\n",
       "      <td>1</td>\n",
       "      <td>4</td>\n",
       "      <td>4</td>\n",
       "      <td>17.044789</td>\n",
       "    </tr>\n",
       "    <tr>\n",
       "      <th>4</th>\n",
       "      <td>2013-01-05</td>\n",
       "      <td>1</td>\n",
       "      <td>1</td>\n",
       "      <td>10.0</td>\n",
       "      <td>train</td>\n",
       "      <td>NaN</td>\n",
       "      <td>2013</td>\n",
       "      <td>1</td>\n",
       "      <td>1</td>\n",
       "      <td>1</td>\n",
       "      <td>5</td>\n",
       "      <td>5</td>\n",
       "      <td>17.044789</td>\n",
       "    </tr>\n",
       "  </tbody>\n",
       "</table>\n",
       "</div>"
      ],
      "text/plain": [
       "        date  store  item  sales trsin_or_test  id  year  quarter  month  \\\n",
       "0 2013-01-01      1     1   13.0         train NaN  2013        1      1   \n",
       "1 2013-01-02      1     1   11.0         train NaN  2013        1      1   \n",
       "2 2013-01-03      1     1   14.0         train NaN  2013        1      1   \n",
       "3 2013-01-04      1     1   13.0         train NaN  2013        1      1   \n",
       "4 2013-01-05      1     1   10.0         train NaN  2013        1      1   \n",
       "\n",
       "   weekofyear  weekday  dayofweek  item_quarter_mean  \n",
       "0           1        1          1          17.044789  \n",
       "1           1        2          2          17.044789  \n",
       "2           1        3          3          17.044789  \n",
       "3           1        4          4          17.044789  \n",
       "4           1        5          5          17.044789  "
      ]
     },
     "execution_count": 13,
     "metadata": {},
     "output_type": "execute_result"
    }
   ],
   "source": [
    "data_df.head()"
   ]
  },
  {
   "cell_type": "code",
   "execution_count": 14,
   "metadata": {},
   "outputs": [],
   "source": [
    "data_df['store_quarter_mean'] = data_df.groupby(['quarter', 'store'])['sales'].transform('mean')\n",
    "data_df['store_item_quarter_mean'] = data_df.groupby(['quarter', 'item', 'store'])['sales'].transform('mean')"
   ]
  },
  {
   "cell_type": "code",
   "execution_count": 15,
   "metadata": {},
   "outputs": [],
   "source": [
    "data_df['item_month_mean'] = data_df.groupby(['month', 'item'])['sales'].transform('mean')\n",
    "data_df['store_month_mean'] = data_df.groupby(['month', 'store'])['sales'].transform('mean')\n",
    "data_df['store_item_month_mean'] = data_df.groupby(['month', 'item', 'store'])['sales'].transform('mean')"
   ]
  },
  {
   "cell_type": "code",
   "execution_count": 16,
   "metadata": {},
   "outputs": [],
   "source": [
    "data_df['item_weekofyear_mean'] = data_df.groupby(['weekofyear', 'item'])['sales'].transform('mean')\n",
    "data_df['store_weekofyear_mean'] = data_df.groupby(['weekofyear', 'store'])['sales'].transform('mean')\n",
    "data_df['store_item_weekofyear_mean'] = data_df.groupby(['weekofyear', 'item', 'store'])['sales'].transform('mean')"
   ]
  },
  {
   "cell_type": "code",
   "execution_count": 17,
   "metadata": {},
   "outputs": [],
   "source": [
    "data_df['itemweekday_mean'] = data_df.groupby(['weekday', 'item'])['sales'].transform('mean')\n",
    "data_df['storeweekday_mean'] = data_df.groupby(['weekday', 'store'])['sales'].transform('mean')\n",
    "data_df['storeitemweekday_mean'] = data_df.groupby(['weekday', 'item', 'store'])['sales'].transform('mean')"
   ]
  },
  {
   "cell_type": "code",
   "execution_count": 18,
   "metadata": {},
   "outputs": [
    {
     "data": {
      "text/html": [
       "<div>\n",
       "<style scoped>\n",
       "    .dataframe tbody tr th:only-of-type {\n",
       "        vertical-align: middle;\n",
       "    }\n",
       "\n",
       "    .dataframe tbody tr th {\n",
       "        vertical-align: top;\n",
       "    }\n",
       "\n",
       "    .dataframe thead th {\n",
       "        text-align: right;\n",
       "    }\n",
       "</style>\n",
       "<table border=\"1\" class=\"dataframe\">\n",
       "  <thead>\n",
       "    <tr style=\"text-align: right;\">\n",
       "      <th></th>\n",
       "      <th>date</th>\n",
       "      <th>store</th>\n",
       "      <th>item</th>\n",
       "      <th>sales</th>\n",
       "      <th>trsin_or_test</th>\n",
       "      <th>id</th>\n",
       "      <th>year</th>\n",
       "      <th>quarter</th>\n",
       "      <th>month</th>\n",
       "      <th>weekofyear</th>\n",
       "      <th>...</th>\n",
       "      <th>store_item_quarter_mean</th>\n",
       "      <th>item_month_mean</th>\n",
       "      <th>store_month_mean</th>\n",
       "      <th>store_item_month_mean</th>\n",
       "      <th>item_weekofyear_mean</th>\n",
       "      <th>store_weekofyear_mean</th>\n",
       "      <th>store_item_weekofyear_mean</th>\n",
       "      <th>itemweekday_mean</th>\n",
       "      <th>storeweekday_mean</th>\n",
       "      <th>storeitemweekday_mean</th>\n",
       "    </tr>\n",
       "  </thead>\n",
       "  <tbody>\n",
       "    <tr>\n",
       "      <th>0</th>\n",
       "      <td>2013-01-01</td>\n",
       "      <td>1</td>\n",
       "      <td>1</td>\n",
       "      <td>13.0</td>\n",
       "      <td>train</td>\n",
       "      <td>NaN</td>\n",
       "      <td>2013</td>\n",
       "      <td>1</td>\n",
       "      <td>1</td>\n",
       "      <td>1</td>\n",
       "      <td>...</td>\n",
       "      <td>15.334812</td>\n",
       "      <td>14.830323</td>\n",
       "      <td>32.174452</td>\n",
       "      <td>13.709677</td>\n",
       "      <td>15.038235</td>\n",
       "      <td>32.529412</td>\n",
       "      <td>13.970588</td>\n",
       "      <td>20.279693</td>\n",
       "      <td>43.559923</td>\n",
       "      <td>18.168582</td>\n",
       "    </tr>\n",
       "    <tr>\n",
       "      <th>1</th>\n",
       "      <td>2013-01-02</td>\n",
       "      <td>1</td>\n",
       "      <td>1</td>\n",
       "      <td>11.0</td>\n",
       "      <td>train</td>\n",
       "      <td>NaN</td>\n",
       "      <td>2013</td>\n",
       "      <td>1</td>\n",
       "      <td>1</td>\n",
       "      <td>1</td>\n",
       "      <td>...</td>\n",
       "      <td>15.334812</td>\n",
       "      <td>14.830323</td>\n",
       "      <td>32.174452</td>\n",
       "      <td>13.709677</td>\n",
       "      <td>15.038235</td>\n",
       "      <td>32.529412</td>\n",
       "      <td>13.970588</td>\n",
       "      <td>20.414176</td>\n",
       "      <td>43.838621</td>\n",
       "      <td>18.793103</td>\n",
       "    </tr>\n",
       "    <tr>\n",
       "      <th>2</th>\n",
       "      <td>2013-01-03</td>\n",
       "      <td>1</td>\n",
       "      <td>1</td>\n",
       "      <td>14.0</td>\n",
       "      <td>train</td>\n",
       "      <td>NaN</td>\n",
       "      <td>2013</td>\n",
       "      <td>1</td>\n",
       "      <td>1</td>\n",
       "      <td>1</td>\n",
       "      <td>...</td>\n",
       "      <td>15.334812</td>\n",
       "      <td>14.830323</td>\n",
       "      <td>32.174452</td>\n",
       "      <td>13.709677</td>\n",
       "      <td>15.038235</td>\n",
       "      <td>32.529412</td>\n",
       "      <td>13.970588</td>\n",
       "      <td>21.687356</td>\n",
       "      <td>46.731188</td>\n",
       "      <td>19.452107</td>\n",
       "    </tr>\n",
       "    <tr>\n",
       "      <th>3</th>\n",
       "      <td>2013-01-04</td>\n",
       "      <td>1</td>\n",
       "      <td>1</td>\n",
       "      <td>13.0</td>\n",
       "      <td>train</td>\n",
       "      <td>NaN</td>\n",
       "      <td>2013</td>\n",
       "      <td>1</td>\n",
       "      <td>1</td>\n",
       "      <td>1</td>\n",
       "      <td>...</td>\n",
       "      <td>15.334812</td>\n",
       "      <td>14.830323</td>\n",
       "      <td>32.174452</td>\n",
       "      <td>13.709677</td>\n",
       "      <td>15.038235</td>\n",
       "      <td>32.529412</td>\n",
       "      <td>13.970588</td>\n",
       "      <td>23.245594</td>\n",
       "      <td>49.841379</td>\n",
       "      <td>21.015326</td>\n",
       "    </tr>\n",
       "    <tr>\n",
       "      <th>4</th>\n",
       "      <td>2013-01-05</td>\n",
       "      <td>1</td>\n",
       "      <td>1</td>\n",
       "      <td>10.0</td>\n",
       "      <td>train</td>\n",
       "      <td>NaN</td>\n",
       "      <td>2013</td>\n",
       "      <td>1</td>\n",
       "      <td>1</td>\n",
       "      <td>1</td>\n",
       "      <td>...</td>\n",
       "      <td>15.334812</td>\n",
       "      <td>14.830323</td>\n",
       "      <td>32.174452</td>\n",
       "      <td>13.709677</td>\n",
       "      <td>15.038235</td>\n",
       "      <td>32.529412</td>\n",
       "      <td>13.970588</td>\n",
       "      <td>24.730268</td>\n",
       "      <td>53.129042</td>\n",
       "      <td>22.973180</td>\n",
       "    </tr>\n",
       "  </tbody>\n",
       "</table>\n",
       "<p>5 rows × 24 columns</p>\n",
       "</div>"
      ],
      "text/plain": [
       "        date  store  item  sales trsin_or_test  id  year  quarter  month  \\\n",
       "0 2013-01-01      1     1   13.0         train NaN  2013        1      1   \n",
       "1 2013-01-02      1     1   11.0         train NaN  2013        1      1   \n",
       "2 2013-01-03      1     1   14.0         train NaN  2013        1      1   \n",
       "3 2013-01-04      1     1   13.0         train NaN  2013        1      1   \n",
       "4 2013-01-05      1     1   10.0         train NaN  2013        1      1   \n",
       "\n",
       "   weekofyear  ...  store_item_quarter_mean  item_month_mean  \\\n",
       "0           1  ...                15.334812        14.830323   \n",
       "1           1  ...                15.334812        14.830323   \n",
       "2           1  ...                15.334812        14.830323   \n",
       "3           1  ...                15.334812        14.830323   \n",
       "4           1  ...                15.334812        14.830323   \n",
       "\n",
       "   store_month_mean  store_item_month_mean  item_weekofyear_mean  \\\n",
       "0         32.174452              13.709677             15.038235   \n",
       "1         32.174452              13.709677             15.038235   \n",
       "2         32.174452              13.709677             15.038235   \n",
       "3         32.174452              13.709677             15.038235   \n",
       "4         32.174452              13.709677             15.038235   \n",
       "\n",
       "   store_weekofyear_mean  store_item_weekofyear_mean  itemweekday_mean  \\\n",
       "0              32.529412                   13.970588         20.279693   \n",
       "1              32.529412                   13.970588         20.414176   \n",
       "2              32.529412                   13.970588         21.687356   \n",
       "3              32.529412                   13.970588         23.245594   \n",
       "4              32.529412                   13.970588         24.730268   \n",
       "\n",
       "   storeweekday_mean  storeitemweekday_mean  \n",
       "0          43.559923              18.168582  \n",
       "1          43.838621              18.793103  \n",
       "2          46.731188              19.452107  \n",
       "3          49.841379              21.015326  \n",
       "4          53.129042              22.973180  \n",
       "\n",
       "[5 rows x 24 columns]"
      ]
     },
     "execution_count": 18,
     "metadata": {},
     "output_type": "execute_result"
    }
   ],
   "source": [
    "data_df.head()"
   ]
  },
  {
   "cell_type": "code",
   "execution_count": 19,
   "metadata": {},
   "outputs": [
    {
     "data": {
      "text/html": [
       "<div>\n",
       "<style scoped>\n",
       "    .dataframe tbody tr th:only-of-type {\n",
       "        vertical-align: middle;\n",
       "    }\n",
       "\n",
       "    .dataframe tbody tr th {\n",
       "        vertical-align: top;\n",
       "    }\n",
       "\n",
       "    .dataframe thead th {\n",
       "        text-align: right;\n",
       "    }\n",
       "</style>\n",
       "<table border=\"1\" class=\"dataframe\">\n",
       "  <thead>\n",
       "    <tr style=\"text-align: right;\">\n",
       "      <th></th>\n",
       "      <th>date</th>\n",
       "      <th>store</th>\n",
       "      <th>item</th>\n",
       "      <th>sales</th>\n",
       "      <th>trsin_or_test</th>\n",
       "      <th>id</th>\n",
       "      <th>year</th>\n",
       "      <th>quarter</th>\n",
       "      <th>month</th>\n",
       "      <th>weekofyear</th>\n",
       "      <th>...</th>\n",
       "      <th>store_item_quarter_mean</th>\n",
       "      <th>item_month_mean</th>\n",
       "      <th>store_month_mean</th>\n",
       "      <th>store_item_month_mean</th>\n",
       "      <th>item_weekofyear_mean</th>\n",
       "      <th>store_weekofyear_mean</th>\n",
       "      <th>store_item_weekofyear_mean</th>\n",
       "      <th>itemweekday_mean</th>\n",
       "      <th>storeweekday_mean</th>\n",
       "      <th>storeitemweekday_mean</th>\n",
       "    </tr>\n",
       "  </thead>\n",
       "  <tbody>\n",
       "    <tr>\n",
       "      <th>44995</th>\n",
       "      <td>2018-03-27</td>\n",
       "      <td>10</td>\n",
       "      <td>50</td>\n",
       "      <td>NaN</td>\n",
       "      <td>test</td>\n",
       "      <td>44995.0</td>\n",
       "      <td>2018</td>\n",
       "      <td>1</td>\n",
       "      <td>3</td>\n",
       "      <td>13</td>\n",
       "      <td>...</td>\n",
       "      <td>57.736142</td>\n",
       "      <td>59.747742</td>\n",
       "      <td>53.158065</td>\n",
       "      <td>67.780645</td>\n",
       "      <td>61.417143</td>\n",
       "      <td>54.788571</td>\n",
       "      <td>68.771429</td>\n",
       "      <td>60.622989</td>\n",
       "      <td>54.180153</td>\n",
       "      <td>67.777778</td>\n",
       "    </tr>\n",
       "    <tr>\n",
       "      <th>44996</th>\n",
       "      <td>2018-03-28</td>\n",
       "      <td>10</td>\n",
       "      <td>50</td>\n",
       "      <td>NaN</td>\n",
       "      <td>test</td>\n",
       "      <td>44996.0</td>\n",
       "      <td>2018</td>\n",
       "      <td>1</td>\n",
       "      <td>3</td>\n",
       "      <td>13</td>\n",
       "      <td>...</td>\n",
       "      <td>57.736142</td>\n",
       "      <td>59.747742</td>\n",
       "      <td>53.158065</td>\n",
       "      <td>67.780645</td>\n",
       "      <td>61.417143</td>\n",
       "      <td>54.788571</td>\n",
       "      <td>68.771429</td>\n",
       "      <td>61.185824</td>\n",
       "      <td>54.288582</td>\n",
       "      <td>68.823755</td>\n",
       "    </tr>\n",
       "    <tr>\n",
       "      <th>44997</th>\n",
       "      <td>2018-03-29</td>\n",
       "      <td>10</td>\n",
       "      <td>50</td>\n",
       "      <td>NaN</td>\n",
       "      <td>test</td>\n",
       "      <td>44997.0</td>\n",
       "      <td>2018</td>\n",
       "      <td>1</td>\n",
       "      <td>3</td>\n",
       "      <td>13</td>\n",
       "      <td>...</td>\n",
       "      <td>57.736142</td>\n",
       "      <td>59.747742</td>\n",
       "      <td>53.158065</td>\n",
       "      <td>67.780645</td>\n",
       "      <td>61.417143</td>\n",
       "      <td>54.788571</td>\n",
       "      <td>68.771429</td>\n",
       "      <td>65.547126</td>\n",
       "      <td>58.119080</td>\n",
       "      <td>73.532567</td>\n",
       "    </tr>\n",
       "    <tr>\n",
       "      <th>44998</th>\n",
       "      <td>2018-03-30</td>\n",
       "      <td>10</td>\n",
       "      <td>50</td>\n",
       "      <td>NaN</td>\n",
       "      <td>test</td>\n",
       "      <td>44998.0</td>\n",
       "      <td>2018</td>\n",
       "      <td>1</td>\n",
       "      <td>3</td>\n",
       "      <td>13</td>\n",
       "      <td>...</td>\n",
       "      <td>57.736142</td>\n",
       "      <td>59.747742</td>\n",
       "      <td>53.158065</td>\n",
       "      <td>67.780645</td>\n",
       "      <td>61.417143</td>\n",
       "      <td>54.788571</td>\n",
       "      <td>68.771429</td>\n",
       "      <td>69.373946</td>\n",
       "      <td>62.082682</td>\n",
       "      <td>78.275862</td>\n",
       "    </tr>\n",
       "    <tr>\n",
       "      <th>44999</th>\n",
       "      <td>2018-03-31</td>\n",
       "      <td>10</td>\n",
       "      <td>50</td>\n",
       "      <td>NaN</td>\n",
       "      <td>test</td>\n",
       "      <td>44999.0</td>\n",
       "      <td>2018</td>\n",
       "      <td>1</td>\n",
       "      <td>3</td>\n",
       "      <td>13</td>\n",
       "      <td>...</td>\n",
       "      <td>57.736142</td>\n",
       "      <td>59.747742</td>\n",
       "      <td>53.158065</td>\n",
       "      <td>67.780645</td>\n",
       "      <td>61.417143</td>\n",
       "      <td>54.788571</td>\n",
       "      <td>68.771429</td>\n",
       "      <td>73.891188</td>\n",
       "      <td>65.829272</td>\n",
       "      <td>82.854406</td>\n",
       "    </tr>\n",
       "  </tbody>\n",
       "</table>\n",
       "<p>5 rows × 24 columns</p>\n",
       "</div>"
      ],
      "text/plain": [
       "            date  store  item  sales trsin_or_test       id  year  quarter  \\\n",
       "44995 2018-03-27     10    50    NaN          test  44995.0  2018        1   \n",
       "44996 2018-03-28     10    50    NaN          test  44996.0  2018        1   \n",
       "44997 2018-03-29     10    50    NaN          test  44997.0  2018        1   \n",
       "44998 2018-03-30     10    50    NaN          test  44998.0  2018        1   \n",
       "44999 2018-03-31     10    50    NaN          test  44999.0  2018        1   \n",
       "\n",
       "       month  weekofyear  ...  store_item_quarter_mean  item_month_mean  \\\n",
       "44995      3          13  ...                57.736142        59.747742   \n",
       "44996      3          13  ...                57.736142        59.747742   \n",
       "44997      3          13  ...                57.736142        59.747742   \n",
       "44998      3          13  ...                57.736142        59.747742   \n",
       "44999      3          13  ...                57.736142        59.747742   \n",
       "\n",
       "       store_month_mean  store_item_month_mean  item_weekofyear_mean  \\\n",
       "44995         53.158065              67.780645             61.417143   \n",
       "44996         53.158065              67.780645             61.417143   \n",
       "44997         53.158065              67.780645             61.417143   \n",
       "44998         53.158065              67.780645             61.417143   \n",
       "44999         53.158065              67.780645             61.417143   \n",
       "\n",
       "       store_weekofyear_mean  store_item_weekofyear_mean  itemweekday_mean  \\\n",
       "44995              54.788571                   68.771429         60.622989   \n",
       "44996              54.788571                   68.771429         61.185824   \n",
       "44997              54.788571                   68.771429         65.547126   \n",
       "44998              54.788571                   68.771429         69.373946   \n",
       "44999              54.788571                   68.771429         73.891188   \n",
       "\n",
       "       storeweekday_mean  storeitemweekday_mean  \n",
       "44995          54.180153              67.777778  \n",
       "44996          54.288582              68.823755  \n",
       "44997          58.119080              73.532567  \n",
       "44998          62.082682              78.275862  \n",
       "44999          65.829272              82.854406  \n",
       "\n",
       "[5 rows x 24 columns]"
      ]
     },
     "execution_count": 19,
     "metadata": {},
     "output_type": "execute_result"
    }
   ],
   "source": [
    "data_df.tail()"
   ]
  },
  {
   "cell_type": "code",
   "execution_count": 20,
   "metadata": {},
   "outputs": [
    {
     "data": {
      "text/plain": [
       "date                               0\n",
       "store                              0\n",
       "item                               0\n",
       "sales                          45000\n",
       "trsin_or_test                      0\n",
       "id                            913000\n",
       "year                               0\n",
       "quarter                            0\n",
       "month                              0\n",
       "weekofyear                         0\n",
       "weekday                            0\n",
       "dayofweek                          0\n",
       "item_quarter_mean                  0\n",
       "store_quarter_mean                 0\n",
       "store_item_quarter_mean            0\n",
       "item_month_mean                    0\n",
       "store_month_mean                   0\n",
       "store_item_month_mean              0\n",
       "item_weekofyear_mean               0\n",
       "store_weekofyear_mean              0\n",
       "store_item_weekofyear_mean         0\n",
       "itemweekday_mean                   0\n",
       "storeweekday_mean                  0\n",
       "storeitemweekday_mean              0\n",
       "dtype: int64"
      ]
     },
     "execution_count": 20,
     "metadata": {},
     "output_type": "execute_result"
    }
   ],
   "source": [
    "data_df.isnull().sum()"
   ]
  },
  {
   "cell_type": "markdown",
   "metadata": {},
   "source": [
    "## Model Predection"
   ]
  },
  {
   "cell_type": "code",
   "execution_count": 21,
   "metadata": {},
   "outputs": [
    {
     "data": {
      "text/plain": [
       "(958000, 24)"
      ]
     },
     "execution_count": 21,
     "metadata": {},
     "output_type": "execute_result"
    }
   ],
   "source": [
    "data_df.shape"
   ]
  },
  {
   "cell_type": "code",
   "execution_count": 22,
   "metadata": {},
   "outputs": [
    {
     "data": {
      "text/plain": [
       "Index(['date', 'store', 'item', 'sales', 'trsin_or_test', 'id', 'year',\n",
       "       'quarter', 'month', 'weekofyear', 'weekday', 'dayofweek',\n",
       "       'item_quarter_mean', 'store_quarter_mean', 'store_item_quarter_mean',\n",
       "       'item_month_mean', 'store_month_mean', 'store_item_month_mean',\n",
       "       'item_weekofyear_mean', 'store_weekofyear_mean',\n",
       "       'store_item_weekofyear_mean', 'itemweekday_mean', 'storeweekday_mean',\n",
       "       'storeitemweekday_mean'],\n",
       "      dtype='object')"
      ]
     },
     "execution_count": 22,
     "metadata": {},
     "output_type": "execute_result"
    }
   ],
   "source": [
    "data_df.columns"
   ]
  },
  {
   "cell_type": "code",
   "execution_count": 23,
   "metadata": {},
   "outputs": [],
   "source": [
    "data_df.drop(['date','id','sales'],axis=1,inplace=True)"
   ]
  },
  {
   "cell_type": "code",
   "execution_count": 24,
   "metadata": {},
   "outputs": [
    {
     "name": "stdout",
     "output_type": "stream",
     "text": [
      "<class 'pandas.core.frame.DataFrame'>\n",
      "Int64Index: 958000 entries, 0 to 44999\n",
      "Data columns (total 21 columns):\n",
      " #   Column                      Non-Null Count   Dtype  \n",
      "---  ------                      --------------   -----  \n",
      " 0   store                       958000 non-null  int64  \n",
      " 1   item                        958000 non-null  int64  \n",
      " 2   trsin_or_test               958000 non-null  object \n",
      " 3   year                        958000 non-null  int64  \n",
      " 4   quarter                     958000 non-null  int64  \n",
      " 5   month                       958000 non-null  int64  \n",
      " 6   weekofyear                  958000 non-null  int64  \n",
      " 7   weekday                     958000 non-null  int64  \n",
      " 8   dayofweek                   958000 non-null  int64  \n",
      " 9   item_quarter_mean           958000 non-null  float64\n",
      " 10  store_quarter_mean          958000 non-null  float64\n",
      " 11  store_item_quarter_mean     958000 non-null  float64\n",
      " 12  item_month_mean             958000 non-null  float64\n",
      " 13  store_month_mean            958000 non-null  float64\n",
      " 14  store_item_month_mean       958000 non-null  float64\n",
      " 15  item_weekofyear_mean        958000 non-null  float64\n",
      " 16  store_weekofyear_mean       958000 non-null  float64\n",
      " 17  store_item_weekofyear_mean  958000 non-null  float64\n",
      " 18  itemweekday_mean            958000 non-null  float64\n",
      " 19  storeweekday_mean           958000 non-null  float64\n",
      " 20  storeitemweekday_mean       958000 non-null  float64\n",
      "dtypes: float64(12), int64(8), object(1)\n",
      "memory usage: 160.8+ MB\n"
     ]
    }
   ],
   "source": [
    "data_df.info()"
   ]
  },
  {
   "cell_type": "code",
   "execution_count": 25,
   "metadata": {},
   "outputs": [],
   "source": [
    "x= data_df[data_df['trsin_or_test'] == 'train']#.dropna().drop(['id', 'sales', 'trsin_or_test', 'date'], axis=1)\n",
    "test = data_df[data_df['trsin_or_test'] == 'train']#.dropna()['sales']"
   ]
  },
  {
   "cell_type": "code",
   "execution_count": 26,
   "metadata": {},
   "outputs": [
    {
     "data": {
      "text/html": [
       "<div>\n",
       "<style scoped>\n",
       "    .dataframe tbody tr th:only-of-type {\n",
       "        vertical-align: middle;\n",
       "    }\n",
       "\n",
       "    .dataframe tbody tr th {\n",
       "        vertical-align: top;\n",
       "    }\n",
       "\n",
       "    .dataframe thead th {\n",
       "        text-align: right;\n",
       "    }\n",
       "</style>\n",
       "<table border=\"1\" class=\"dataframe\">\n",
       "  <thead>\n",
       "    <tr style=\"text-align: right;\">\n",
       "      <th></th>\n",
       "      <th>store</th>\n",
       "      <th>item</th>\n",
       "      <th>trsin_or_test</th>\n",
       "      <th>year</th>\n",
       "      <th>quarter</th>\n",
       "      <th>month</th>\n",
       "      <th>weekofyear</th>\n",
       "      <th>weekday</th>\n",
       "      <th>dayofweek</th>\n",
       "      <th>item_quarter_mean</th>\n",
       "      <th>...</th>\n",
       "      <th>store_item_quarter_mean</th>\n",
       "      <th>item_month_mean</th>\n",
       "      <th>store_month_mean</th>\n",
       "      <th>store_item_month_mean</th>\n",
       "      <th>item_weekofyear_mean</th>\n",
       "      <th>store_weekofyear_mean</th>\n",
       "      <th>store_item_weekofyear_mean</th>\n",
       "      <th>itemweekday_mean</th>\n",
       "      <th>storeweekday_mean</th>\n",
       "      <th>storeitemweekday_mean</th>\n",
       "    </tr>\n",
       "  </thead>\n",
       "  <tbody>\n",
       "    <tr>\n",
       "      <th>0</th>\n",
       "      <td>1</td>\n",
       "      <td>1</td>\n",
       "      <td>train</td>\n",
       "      <td>2013</td>\n",
       "      <td>1</td>\n",
       "      <td>1</td>\n",
       "      <td>1</td>\n",
       "      <td>1</td>\n",
       "      <td>1</td>\n",
       "      <td>17.044789</td>\n",
       "      <td>...</td>\n",
       "      <td>15.334812</td>\n",
       "      <td>14.830323</td>\n",
       "      <td>32.174452</td>\n",
       "      <td>13.709677</td>\n",
       "      <td>15.038235</td>\n",
       "      <td>32.529412</td>\n",
       "      <td>13.970588</td>\n",
       "      <td>20.279693</td>\n",
       "      <td>43.559923</td>\n",
       "      <td>18.168582</td>\n",
       "    </tr>\n",
       "    <tr>\n",
       "      <th>1</th>\n",
       "      <td>1</td>\n",
       "      <td>1</td>\n",
       "      <td>train</td>\n",
       "      <td>2013</td>\n",
       "      <td>1</td>\n",
       "      <td>1</td>\n",
       "      <td>1</td>\n",
       "      <td>2</td>\n",
       "      <td>2</td>\n",
       "      <td>17.044789</td>\n",
       "      <td>...</td>\n",
       "      <td>15.334812</td>\n",
       "      <td>14.830323</td>\n",
       "      <td>32.174452</td>\n",
       "      <td>13.709677</td>\n",
       "      <td>15.038235</td>\n",
       "      <td>32.529412</td>\n",
       "      <td>13.970588</td>\n",
       "      <td>20.414176</td>\n",
       "      <td>43.838621</td>\n",
       "      <td>18.793103</td>\n",
       "    </tr>\n",
       "    <tr>\n",
       "      <th>2</th>\n",
       "      <td>1</td>\n",
       "      <td>1</td>\n",
       "      <td>train</td>\n",
       "      <td>2013</td>\n",
       "      <td>1</td>\n",
       "      <td>1</td>\n",
       "      <td>1</td>\n",
       "      <td>3</td>\n",
       "      <td>3</td>\n",
       "      <td>17.044789</td>\n",
       "      <td>...</td>\n",
       "      <td>15.334812</td>\n",
       "      <td>14.830323</td>\n",
       "      <td>32.174452</td>\n",
       "      <td>13.709677</td>\n",
       "      <td>15.038235</td>\n",
       "      <td>32.529412</td>\n",
       "      <td>13.970588</td>\n",
       "      <td>21.687356</td>\n",
       "      <td>46.731188</td>\n",
       "      <td>19.452107</td>\n",
       "    </tr>\n",
       "    <tr>\n",
       "      <th>3</th>\n",
       "      <td>1</td>\n",
       "      <td>1</td>\n",
       "      <td>train</td>\n",
       "      <td>2013</td>\n",
       "      <td>1</td>\n",
       "      <td>1</td>\n",
       "      <td>1</td>\n",
       "      <td>4</td>\n",
       "      <td>4</td>\n",
       "      <td>17.044789</td>\n",
       "      <td>...</td>\n",
       "      <td>15.334812</td>\n",
       "      <td>14.830323</td>\n",
       "      <td>32.174452</td>\n",
       "      <td>13.709677</td>\n",
       "      <td>15.038235</td>\n",
       "      <td>32.529412</td>\n",
       "      <td>13.970588</td>\n",
       "      <td>23.245594</td>\n",
       "      <td>49.841379</td>\n",
       "      <td>21.015326</td>\n",
       "    </tr>\n",
       "    <tr>\n",
       "      <th>4</th>\n",
       "      <td>1</td>\n",
       "      <td>1</td>\n",
       "      <td>train</td>\n",
       "      <td>2013</td>\n",
       "      <td>1</td>\n",
       "      <td>1</td>\n",
       "      <td>1</td>\n",
       "      <td>5</td>\n",
       "      <td>5</td>\n",
       "      <td>17.044789</td>\n",
       "      <td>...</td>\n",
       "      <td>15.334812</td>\n",
       "      <td>14.830323</td>\n",
       "      <td>32.174452</td>\n",
       "      <td>13.709677</td>\n",
       "      <td>15.038235</td>\n",
       "      <td>32.529412</td>\n",
       "      <td>13.970588</td>\n",
       "      <td>24.730268</td>\n",
       "      <td>53.129042</td>\n",
       "      <td>22.973180</td>\n",
       "    </tr>\n",
       "  </tbody>\n",
       "</table>\n",
       "<p>5 rows × 21 columns</p>\n",
       "</div>"
      ],
      "text/plain": [
       "   store  item trsin_or_test  year  quarter  month  weekofyear  weekday  \\\n",
       "0      1     1         train  2013        1      1           1        1   \n",
       "1      1     1         train  2013        1      1           1        2   \n",
       "2      1     1         train  2013        1      1           1        3   \n",
       "3      1     1         train  2013        1      1           1        4   \n",
       "4      1     1         train  2013        1      1           1        5   \n",
       "\n",
       "   dayofweek  item_quarter_mean  ...  store_item_quarter_mean  \\\n",
       "0          1          17.044789  ...                15.334812   \n",
       "1          2          17.044789  ...                15.334812   \n",
       "2          3          17.044789  ...                15.334812   \n",
       "3          4          17.044789  ...                15.334812   \n",
       "4          5          17.044789  ...                15.334812   \n",
       "\n",
       "   item_month_mean  store_month_mean  store_item_month_mean  \\\n",
       "0        14.830323         32.174452              13.709677   \n",
       "1        14.830323         32.174452              13.709677   \n",
       "2        14.830323         32.174452              13.709677   \n",
       "3        14.830323         32.174452              13.709677   \n",
       "4        14.830323         32.174452              13.709677   \n",
       "\n",
       "   item_weekofyear_mean  store_weekofyear_mean  store_item_weekofyear_mean  \\\n",
       "0             15.038235              32.529412                   13.970588   \n",
       "1             15.038235              32.529412                   13.970588   \n",
       "2             15.038235              32.529412                   13.970588   \n",
       "3             15.038235              32.529412                   13.970588   \n",
       "4             15.038235              32.529412                   13.970588   \n",
       "\n",
       "   itemweekday_mean  storeweekday_mean  storeitemweekday_mean  \n",
       "0         20.279693          43.559923              18.168582  \n",
       "1         20.414176          43.838621              18.793103  \n",
       "2         21.687356          46.731188              19.452107  \n",
       "3         23.245594          49.841379              21.015326  \n",
       "4         24.730268          53.129042              22.973180  \n",
       "\n",
       "[5 rows x 21 columns]"
      ]
     },
     "execution_count": 26,
     "metadata": {},
     "output_type": "execute_result"
    }
   ],
   "source": [
    "x.head()"
   ]
  },
  {
   "cell_type": "code",
   "execution_count": 27,
   "metadata": {},
   "outputs": [
    {
     "data": {
      "text/html": [
       "<div>\n",
       "<style scoped>\n",
       "    .dataframe tbody tr th:only-of-type {\n",
       "        vertical-align: middle;\n",
       "    }\n",
       "\n",
       "    .dataframe tbody tr th {\n",
       "        vertical-align: top;\n",
       "    }\n",
       "\n",
       "    .dataframe thead th {\n",
       "        text-align: right;\n",
       "    }\n",
       "</style>\n",
       "<table border=\"1\" class=\"dataframe\">\n",
       "  <thead>\n",
       "    <tr style=\"text-align: right;\">\n",
       "      <th></th>\n",
       "      <th>store</th>\n",
       "      <th>item</th>\n",
       "      <th>trsin_or_test</th>\n",
       "      <th>year</th>\n",
       "      <th>quarter</th>\n",
       "      <th>month</th>\n",
       "      <th>weekofyear</th>\n",
       "      <th>weekday</th>\n",
       "      <th>dayofweek</th>\n",
       "      <th>item_quarter_mean</th>\n",
       "      <th>...</th>\n",
       "      <th>store_item_quarter_mean</th>\n",
       "      <th>item_month_mean</th>\n",
       "      <th>store_month_mean</th>\n",
       "      <th>store_item_month_mean</th>\n",
       "      <th>item_weekofyear_mean</th>\n",
       "      <th>store_weekofyear_mean</th>\n",
       "      <th>store_item_weekofyear_mean</th>\n",
       "      <th>itemweekday_mean</th>\n",
       "      <th>storeweekday_mean</th>\n",
       "      <th>storeitemweekday_mean</th>\n",
       "    </tr>\n",
       "  </thead>\n",
       "  <tbody>\n",
       "    <tr>\n",
       "      <th>0</th>\n",
       "      <td>1</td>\n",
       "      <td>1</td>\n",
       "      <td>train</td>\n",
       "      <td>2013</td>\n",
       "      <td>1</td>\n",
       "      <td>1</td>\n",
       "      <td>1</td>\n",
       "      <td>1</td>\n",
       "      <td>1</td>\n",
       "      <td>17.044789</td>\n",
       "      <td>...</td>\n",
       "      <td>15.334812</td>\n",
       "      <td>14.830323</td>\n",
       "      <td>32.174452</td>\n",
       "      <td>13.709677</td>\n",
       "      <td>15.038235</td>\n",
       "      <td>32.529412</td>\n",
       "      <td>13.970588</td>\n",
       "      <td>20.279693</td>\n",
       "      <td>43.559923</td>\n",
       "      <td>18.168582</td>\n",
       "    </tr>\n",
       "    <tr>\n",
       "      <th>1</th>\n",
       "      <td>1</td>\n",
       "      <td>1</td>\n",
       "      <td>train</td>\n",
       "      <td>2013</td>\n",
       "      <td>1</td>\n",
       "      <td>1</td>\n",
       "      <td>1</td>\n",
       "      <td>2</td>\n",
       "      <td>2</td>\n",
       "      <td>17.044789</td>\n",
       "      <td>...</td>\n",
       "      <td>15.334812</td>\n",
       "      <td>14.830323</td>\n",
       "      <td>32.174452</td>\n",
       "      <td>13.709677</td>\n",
       "      <td>15.038235</td>\n",
       "      <td>32.529412</td>\n",
       "      <td>13.970588</td>\n",
       "      <td>20.414176</td>\n",
       "      <td>43.838621</td>\n",
       "      <td>18.793103</td>\n",
       "    </tr>\n",
       "    <tr>\n",
       "      <th>2</th>\n",
       "      <td>1</td>\n",
       "      <td>1</td>\n",
       "      <td>train</td>\n",
       "      <td>2013</td>\n",
       "      <td>1</td>\n",
       "      <td>1</td>\n",
       "      <td>1</td>\n",
       "      <td>3</td>\n",
       "      <td>3</td>\n",
       "      <td>17.044789</td>\n",
       "      <td>...</td>\n",
       "      <td>15.334812</td>\n",
       "      <td>14.830323</td>\n",
       "      <td>32.174452</td>\n",
       "      <td>13.709677</td>\n",
       "      <td>15.038235</td>\n",
       "      <td>32.529412</td>\n",
       "      <td>13.970588</td>\n",
       "      <td>21.687356</td>\n",
       "      <td>46.731188</td>\n",
       "      <td>19.452107</td>\n",
       "    </tr>\n",
       "    <tr>\n",
       "      <th>3</th>\n",
       "      <td>1</td>\n",
       "      <td>1</td>\n",
       "      <td>train</td>\n",
       "      <td>2013</td>\n",
       "      <td>1</td>\n",
       "      <td>1</td>\n",
       "      <td>1</td>\n",
       "      <td>4</td>\n",
       "      <td>4</td>\n",
       "      <td>17.044789</td>\n",
       "      <td>...</td>\n",
       "      <td>15.334812</td>\n",
       "      <td>14.830323</td>\n",
       "      <td>32.174452</td>\n",
       "      <td>13.709677</td>\n",
       "      <td>15.038235</td>\n",
       "      <td>32.529412</td>\n",
       "      <td>13.970588</td>\n",
       "      <td>23.245594</td>\n",
       "      <td>49.841379</td>\n",
       "      <td>21.015326</td>\n",
       "    </tr>\n",
       "    <tr>\n",
       "      <th>4</th>\n",
       "      <td>1</td>\n",
       "      <td>1</td>\n",
       "      <td>train</td>\n",
       "      <td>2013</td>\n",
       "      <td>1</td>\n",
       "      <td>1</td>\n",
       "      <td>1</td>\n",
       "      <td>5</td>\n",
       "      <td>5</td>\n",
       "      <td>17.044789</td>\n",
       "      <td>...</td>\n",
       "      <td>15.334812</td>\n",
       "      <td>14.830323</td>\n",
       "      <td>32.174452</td>\n",
       "      <td>13.709677</td>\n",
       "      <td>15.038235</td>\n",
       "      <td>32.529412</td>\n",
       "      <td>13.970588</td>\n",
       "      <td>24.730268</td>\n",
       "      <td>53.129042</td>\n",
       "      <td>22.973180</td>\n",
       "    </tr>\n",
       "  </tbody>\n",
       "</table>\n",
       "<p>5 rows × 21 columns</p>\n",
       "</div>"
      ],
      "text/plain": [
       "   store  item trsin_or_test  year  quarter  month  weekofyear  weekday  \\\n",
       "0      1     1         train  2013        1      1           1        1   \n",
       "1      1     1         train  2013        1      1           1        2   \n",
       "2      1     1         train  2013        1      1           1        3   \n",
       "3      1     1         train  2013        1      1           1        4   \n",
       "4      1     1         train  2013        1      1           1        5   \n",
       "\n",
       "   dayofweek  item_quarter_mean  ...  store_item_quarter_mean  \\\n",
       "0          1          17.044789  ...                15.334812   \n",
       "1          2          17.044789  ...                15.334812   \n",
       "2          3          17.044789  ...                15.334812   \n",
       "3          4          17.044789  ...                15.334812   \n",
       "4          5          17.044789  ...                15.334812   \n",
       "\n",
       "   item_month_mean  store_month_mean  store_item_month_mean  \\\n",
       "0        14.830323         32.174452              13.709677   \n",
       "1        14.830323         32.174452              13.709677   \n",
       "2        14.830323         32.174452              13.709677   \n",
       "3        14.830323         32.174452              13.709677   \n",
       "4        14.830323         32.174452              13.709677   \n",
       "\n",
       "   item_weekofyear_mean  store_weekofyear_mean  store_item_weekofyear_mean  \\\n",
       "0             15.038235              32.529412                   13.970588   \n",
       "1             15.038235              32.529412                   13.970588   \n",
       "2             15.038235              32.529412                   13.970588   \n",
       "3             15.038235              32.529412                   13.970588   \n",
       "4             15.038235              32.529412                   13.970588   \n",
       "\n",
       "   itemweekday_mean  storeweekday_mean  storeitemweekday_mean  \n",
       "0         20.279693          43.559923              18.168582  \n",
       "1         20.414176          43.838621              18.793103  \n",
       "2         21.687356          46.731188              19.452107  \n",
       "3         23.245594          49.841379              21.015326  \n",
       "4         24.730268          53.129042              22.973180  \n",
       "\n",
       "[5 rows x 21 columns]"
      ]
     },
     "execution_count": 27,
     "metadata": {},
     "output_type": "execute_result"
    }
   ],
   "source": [
    "test.head()"
   ]
  },
  {
   "cell_type": "code",
   "execution_count": 28,
   "metadata": {},
   "outputs": [
    {
     "name": "stderr",
     "output_type": "stream",
     "text": [
      "/home/chin/anaconda3/envs/snapml/lib/python3.7/site-packages/pandas/core/frame.py:4170: SettingWithCopyWarning: \n",
      "A value is trying to be set on a copy of a slice from a DataFrame\n",
      "\n",
      "See the caveats in the documentation: https://pandas.pydata.org/pandas-docs/stable/user_guide/indexing.html#returning-a-view-versus-a-copy\n",
      "  errors=errors,\n"
     ]
    }
   ],
   "source": [
    "x.drop(['trsin_or_test'],axis=1,inplace=True)\n",
    "test.drop(['trsin_or_test'],axis=1,inplace=True)"
   ]
  },
  {
   "cell_type": "code",
   "execution_count": 29,
   "metadata": {},
   "outputs": [],
   "source": [
    "y=pd.read_csv('train.csv',usecols=['sales'])\n",
    "y=y.sales"
   ]
  },
  {
   "cell_type": "code",
   "execution_count": 30,
   "metadata": {},
   "outputs": [
    {
     "data": {
      "text/plain": [
       "(913000,)"
      ]
     },
     "execution_count": 30,
     "metadata": {},
     "output_type": "execute_result"
    }
   ],
   "source": [
    "y.shape"
   ]
  },
  {
   "cell_type": "code",
   "execution_count": 31,
   "metadata": {},
   "outputs": [
    {
     "data": {
      "text/plain": [
       "0    13\n",
       "1    11\n",
       "2    14\n",
       "3    13\n",
       "4    10\n",
       "Name: sales, dtype: int64"
      ]
     },
     "execution_count": 31,
     "metadata": {},
     "output_type": "execute_result"
    }
   ],
   "source": [
    "y.head()"
   ]
  },
  {
   "cell_type": "markdown",
   "metadata": {},
   "source": [
    "## XGBOOSTING"
   ]
  },
  {
   "cell_type": "code",
   "execution_count": 32,
   "metadata": {},
   "outputs": [
    {
     "data": {
      "text/plain": [
       "GradientBoostingRegressor(random_state=123)"
      ]
     },
     "execution_count": 32,
     "metadata": {},
     "output_type": "execute_result"
    }
   ],
   "source": [
    "from sklearn import ensemble\n",
    "xbr = ensemble.GradientBoostingRegressor(random_state=123)\n",
    "xbr"
   ]
  },
  {
   "cell_type": "code",
   "execution_count": 33,
   "metadata": {},
   "outputs": [
    {
     "name": "stdout",
     "output_type": "stream",
     "text": [
      "CPU times: user 2min 21s, sys: 34.2 ms, total: 2min 21s\n",
      "Wall time: 2min 21s\n"
     ]
    },
    {
     "data": {
      "text/plain": [
       "GradientBoostingRegressor(random_state=123)"
      ]
     },
     "execution_count": 33,
     "metadata": {},
     "output_type": "execute_result"
    }
   ],
   "source": [
    "%%time\n",
    "xbr.fit(x,y)"
   ]
  },
  {
   "cell_type": "code",
   "execution_count": 34,
   "metadata": {},
   "outputs": [
    {
     "name": "stdout",
     "output_type": "stream",
     "text": [
      "CPU times: user 527 ms, sys: 33.2 ms, total: 560 ms\n",
      "Wall time: 572 ms\n"
     ]
    },
    {
     "data": {
      "text/plain": [
       "0.9363676944124542"
      ]
     },
     "execution_count": 34,
     "metadata": {},
     "output_type": "execute_result"
    }
   ],
   "source": [
    "%%time\n",
    "xbr.score(x,y)"
   ]
  },
  {
   "cell_type": "code",
   "execution_count": 35,
   "metadata": {
    "scrolled": true
   },
   "outputs": [
    {
     "name": "stdout",
     "output_type": "stream",
     "text": [
      "CPU times: user 533 ms, sys: 20 ms, total: 553 ms\n",
      "Wall time: 565 ms\n"
     ]
    }
   ],
   "source": [
    "%%time\n",
    "predict1=pd.DataFrame(xbr.predict(test),columns=['sales'])"
   ]
  },
  {
   "cell_type": "markdown",
   "metadata": {},
   "source": [
    "## BOOSTING MACHINE (SNAPML)"
   ]
  },
  {
   "cell_type": "code",
   "execution_count": 36,
   "metadata": {},
   "outputs": [],
   "source": [
    "import numpy as np"
   ]
  },
  {
   "cell_type": "code",
   "execution_count": 37,
   "metadata": {
    "scrolled": true
   },
   "outputs": [
    {
     "data": {
      "text/plain": [
       "array([[13],\n",
       "       [11],\n",
       "       [14],\n",
       "       ...,\n",
       "       [74],\n",
       "       [62],\n",
       "       [82]])"
      ]
     },
     "execution_count": 37,
     "metadata": {},
     "output_type": "execute_result"
    }
   ],
   "source": [
    "x1 = x.values\n",
    "y1 = y.values\n",
    "y1 = np.reshape(y1,(-1,1))\n",
    "y1"
   ]
  },
  {
   "cell_type": "markdown",
   "metadata": {},
   "source": [
    "print(len(y.values))\n",
    "print(len(x.values))"
   ]
  },
  {
   "cell_type": "code",
   "execution_count": 48,
   "metadata": {
    "scrolled": false
   },
   "outputs": [
    {
     "data": {
      "text/plain": [
       "<_snap_ml.BoostingMachine.BoostingMachine at 0x7fa199a50490>"
      ]
     },
     "execution_count": 48,
     "metadata": {},
     "output_type": "execute_result"
    }
   ],
   "source": [
    "from pai4sk import BoostingMachine\n",
    "bm = BoostingMachine(min_max_depth=8,\n",
    "                     max_max_depth=8,\n",
    "                     num_round=1000,\n",
    "                     random_state=123,\n",
    "                     lambda_l2=0.5)\n",
    "bm"
   ]
  },
  {
   "cell_type": "markdown",
   "metadata": {},
   "source": [
    "x.columns"
   ]
  },
  {
   "cell_type": "markdown",
   "metadata": {},
   "source": [
    "x1 = pd.DataFrame(x.drop(['store', 'item', 'year', 'quarter', 'month', 'weekofyear', 'weekday',\n",
    "      'dayofweek'],axis=1))"
   ]
  },
  {
   "cell_type": "markdown",
   "metadata": {},
   "source": [
    "x[:200000]"
   ]
  },
  {
   "cell_type": "code",
   "execution_count": 49,
   "metadata": {},
   "outputs": [
    {
     "name": "stdout",
     "output_type": "stream",
     "text": [
      "CPU times: user 1min 35s, sys: 1.85 s, total: 1min 37s\n",
      "Wall time: 1min 36s\n"
     ]
    }
   ],
   "source": [
    "%%time\n",
    "bm.fit(x1,y.values)"
   ]
  },
  {
   "cell_type": "code",
   "execution_count": 46,
   "metadata": {},
   "outputs": [
    {
     "name": "stdout",
     "output_type": "stream",
     "text": [
      "CPU times: user 2.93 s, sys: 32 µs, total: 2.93 s\n",
      "Wall time: 2.93 s\n"
     ]
    }
   ],
   "source": [
    "%%time\n",
    "predict = pd.DataFrame(bm.predict(test.values))"
   ]
  },
  {
   "cell_type": "code",
   "execution_count": 47,
   "metadata": {},
   "outputs": [
    {
     "data": {
      "text/plain": [
       "<AxesSubplot:>"
      ]
     },
     "execution_count": 47,
     "metadata": {},
     "output_type": "execute_result"
    },
    {
     "data": {
      "image/png": "[encoded data removed]",
      "text/plain": [
       "<Figure size 432x288 with 1 Axes>"
      ]
     },
     "metadata": {
      "needs_background": "light"
     },
     "output_type": "display_data"
    }
   ],
   "source": [
    "predict.plot()"
   ]
  },
  {
   "cell_type": "code",
   "execution_count": null,
   "metadata": {},
   "outputs": [],
   "source": [
    "ids=pd.read_csv(\"test.csv\",usecols=['id'])\n",
    "sub=ids.join(predict)\n",
    "sub.head()"
   ]
  },
  {
   "cell_type": "code",
   "execution_count": null,
   "metadata": {},
   "outputs": [],
   "source": [
    "sub.to_csv('sample.csv',index=False)"
   ]
  },
  {
   "cell_type": "code",
   "execution_count": null,
   "metadata": {},
   "outputs": [],
   "source": []
  }
 ],
 "metadata": {
  "kernelspec": {
   "display_name": "Python 3",
   "language": "python",
   "name": "python3"
  },
  "language_info": {
   "codemirror_mode": {
    "name": "ipython",
    "version": 3
   },
   "file_extension": ".py",
   "mimetype": "text/x-python",
   "name": "python",
   "nbconvert_exporter": "python",
   "pygments_lexer": "ipython3",
   "version": "3.7.9"
  }
 },
 "nbformat": 4,
 "nbformat_minor": 2
}
