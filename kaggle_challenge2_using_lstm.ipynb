{
  "nbformat": 4,
  "nbformat_minor": 0,
  "metadata": {
    "kernelspec": {
      "language": "python",
      "display_name": "Python 3",
      "name": "python3"
    },
    "language_info": {
      "pygments_lexer": "ipython3",
      "nbconvert_exporter": "python",
      "version": "3.6.4",
      "file_extension": ".py",
      "codemirror_mode": {
        "name": "ipython",
        "version": 3
      },
      "name": "python",
      "mimetype": "text/x-python"
    },
    "colab": {
      "name": "kaggle-challenge2-using-lstm.ipynb",
      "provenance": [],
      "toc_visible": true
    },
    "accelerator": "GPU"
  },
  "cells": [
    {
      "cell_type": "markdown",
      "metadata": {
        "id": "Sqb7c4Ggc49a"
      },
      "source": [
        "# **Import Libraries**"
      ]
    },
    {
      "cell_type": "code",
      "metadata": {
        "_uuid": "d629ff2d2480ee46fbb7e2d37f6b5fab8052498a",
        "_cell_guid": "79c7e3d0-c299-4dcb-8224-4455121ee9b0",
        "trusted": true,
        "id": "afSxH3Q-c49f"
      },
      "source": [
        "import numpy as np\n",
        "import pandas as pd\n",
        "from scipy.stats import describe\n",
        "pd.options.display.max_columns = 12\n",
        "pd.options.display.max_rows = 24\n",
        "%matplotlib inline\n",
        "import matplotlib.pyplot as plt\n",
        "import seaborn as sns\n",
        "sns.set()\n",
        "# use svg for all plots within inline backend\n",
        "%config InlineBackend.figure_format = 'svg'\n",
        "from pylab import rcParams\n",
        "rcParams['figure.figsize'] = 5, 4\n",
        "import pandas as pd\n",
        "pd.options.display.max_columns = 12\n",
        "pd.options.display.max_rows = 24\n",
        "\n",
        "# plots inisde jupyter notebook\n",
        "%matplotlib inline\n",
        "import matplotlib.pyplot as plt\n",
        "\n",
        "import seaborn as sns\n",
        "sns.set()\n",
        "\n",
        "# use svg for all plots within inline backend\n",
        "%config InlineBackend.figure_format = 'svg'\n",
        "\n",
        "# increase default plot size\n",
        "from pylab import rcParams\n",
        "rcParams['figure.figsize'] = 5, 4"
      ],
      "execution_count": 1,
      "outputs": []
    },
    {
      "cell_type": "markdown",
      "metadata": {
        "id": "GpPh6-BZc49g"
      },
      "source": [
        "# Load data"
      ]
    },
    {
      "cell_type": "code",
      "metadata": {
        "trusted": true,
        "colab": {
          "base_uri": "https://localhost:8080/"
        },
        "id": "Sj5nDp_mc49g",
        "outputId": "1693a348-10be-4841-b506-45f15532d199"
      },
      "source": [
        "# Read csv data\n",
        "df_train = pd.read_csv('/content/train.csv')\n",
        "df_train.head()\n",
        "df_train.info()"
      ],
      "execution_count": 2,
      "outputs": [
        {
          "output_type": "stream",
          "text": [
            "<class 'pandas.core.frame.DataFrame'>\n",
            "RangeIndex: 913000 entries, 0 to 912999\n",
            "Data columns (total 4 columns):\n",
            " #   Column  Non-Null Count   Dtype \n",
            "---  ------  --------------   ----- \n",
            " 0   date    913000 non-null  object\n",
            " 1   store   913000 non-null  int64 \n",
            " 2   item    913000 non-null  int64 \n",
            " 3   sales   913000 non-null  int64 \n",
            "dtypes: int64(3), object(1)\n",
            "memory usage: 27.9+ MB\n"
          ],
          "name": "stdout"
        }
      ]
    },
    {
      "cell_type": "markdown",
      "metadata": {
        "id": "hD4IYzoWc49h"
      },
      "source": [
        "# Data Preprocessing\n",
        "## Convert strings to dates"
      ]
    },
    {
      "cell_type": "code",
      "metadata": {
        "trusted": true,
        "id": "Vm4f-Ckhc49h"
      },
      "source": [
        "df_train['date'] = pd.to_datetime(df_train['date'])\n",
        "df_train.index = pd.DatetimeIndex(df_train['date'])\n",
        "df_train.drop('date', axis=1, inplace=True)"
      ],
      "execution_count": 3,
      "outputs": []
    },
    {
      "cell_type": "code",
      "metadata": {
        "trusted": true,
        "colab": {
          "base_uri": "https://localhost:8080/"
        },
        "id": "W35_Hi4nc49h",
        "outputId": "19c5c5db-c527-4e65-88c5-561adb1938b2"
      },
      "source": [
        "df_train.info()"
      ],
      "execution_count": 4,
      "outputs": [
        {
          "output_type": "stream",
          "text": [
            "<class 'pandas.core.frame.DataFrame'>\n",
            "DatetimeIndex: 913000 entries, 2013-01-01 to 2017-12-31\n",
            "Data columns (total 3 columns):\n",
            " #   Column  Non-Null Count   Dtype\n",
            "---  ------  --------------   -----\n",
            " 0   store   913000 non-null  int64\n",
            " 1   item    913000 non-null  int64\n",
            " 2   sales   913000 non-null  int64\n",
            "dtypes: int64(3)\n",
            "memory usage: 27.9 MB\n"
          ],
          "name": "stdout"
        }
      ]
    },
    {
      "cell_type": "code",
      "metadata": {
        "trusted": true,
        "colab": {
          "base_uri": "https://localhost:8080/",
          "height": 235
        },
        "id": "enAFj3SAc49h",
        "outputId": "2c6f7a69-c677-4a05-c6fc-87b0fee22d6a"
      },
      "source": [
        "df_train.head()"
      ],
      "execution_count": 5,
      "outputs": [
        {
          "output_type": "execute_result",
          "data": {
            "text/html": [
              "<div>\n",
              "<style scoped>\n",
              "    .dataframe tbody tr th:only-of-type {\n",
              "        vertical-align: middle;\n",
              "    }\n",
              "\n",
              "    .dataframe tbody tr th {\n",
              "        vertical-align: top;\n",
              "    }\n",
              "\n",
              "    .dataframe thead th {\n",
              "        text-align: right;\n",
              "    }\n",
              "</style>\n",
              "<table border=\"1\" class=\"dataframe\">\n",
              "  <thead>\n",
              "    <tr style=\"text-align: right;\">\n",
              "      <th></th>\n",
              "      <th>store</th>\n",
              "      <th>item</th>\n",
              "      <th>sales</th>\n",
              "    </tr>\n",
              "    <tr>\n",
              "      <th>date</th>\n",
              "      <th></th>\n",
              "      <th></th>\n",
              "      <th></th>\n",
              "    </tr>\n",
              "  </thead>\n",
              "  <tbody>\n",
              "    <tr>\n",
              "      <th>2013-01-01</th>\n",
              "      <td>1</td>\n",
              "      <td>1</td>\n",
              "      <td>13</td>\n",
              "    </tr>\n",
              "    <tr>\n",
              "      <th>2013-01-02</th>\n",
              "      <td>1</td>\n",
              "      <td>1</td>\n",
              "      <td>11</td>\n",
              "    </tr>\n",
              "    <tr>\n",
              "      <th>2013-01-03</th>\n",
              "      <td>1</td>\n",
              "      <td>1</td>\n",
              "      <td>14</td>\n",
              "    </tr>\n",
              "    <tr>\n",
              "      <th>2013-01-04</th>\n",
              "      <td>1</td>\n",
              "      <td>1</td>\n",
              "      <td>13</td>\n",
              "    </tr>\n",
              "    <tr>\n",
              "      <th>2013-01-05</th>\n",
              "      <td>1</td>\n",
              "      <td>1</td>\n",
              "      <td>10</td>\n",
              "    </tr>\n",
              "  </tbody>\n",
              "</table>\n",
              "</div>"
            ],
            "text/plain": [
              "            store  item  sales\n",
              "date                          \n",
              "2013-01-01      1     1     13\n",
              "2013-01-02      1     1     11\n",
              "2013-01-03      1     1     14\n",
              "2013-01-04      1     1     13\n",
              "2013-01-05      1     1     10"
            ]
          },
          "metadata": {
            "tags": []
          },
          "execution_count": 5
        }
      ]
    },
    {
      "cell_type": "markdown",
      "metadata": {
        "id": "EYX9iLEjc49h"
      },
      "source": [
        "## Sales for each storeitem\n",
        "#### Transforming row values to columns corresponding to uniqe item per store"
      ]
    },
    {
      "cell_type": "code",
      "metadata": {
        "trusted": true,
        "id": "Vo53HizAc49i"
      },
      "source": [
        "from itertools import product, starmap\n",
        "\n",
        "\n",
        "def storeitems():\n",
        "    return product(range(1,51), range(1,11))\n",
        "\n",
        "\n",
        "def storeitems_column_names():\n",
        "    return list(starmap(lambda i,s: f'item_{i}_store_{s}_sales', storeitems()))\n",
        "\n",
        "\n",
        "def sales_by_storeitem(df):\n",
        "    ret = pd.DataFrame(index=df.index.unique())\n",
        "    for i, s in storeitems():\n",
        "        ret[f'item_{i}_store_{s}_sales'] = df[(df['item'] == i) & (df['store'] == s)]['sales'].values\n",
        "    return ret"
      ],
      "execution_count": 6,
      "outputs": []
    },
    {
      "cell_type": "code",
      "metadata": {
        "trusted": true,
        "id": "AnwHdyHjc49i"
      },
      "source": [
        "df_train = sales_by_storeitem(df_train)"
      ],
      "execution_count": 7,
      "outputs": []
    },
    {
      "cell_type": "code",
      "metadata": {
        "trusted": true,
        "colab": {
          "base_uri": "https://localhost:8080/"
        },
        "id": "J4KdWs8ac49i",
        "outputId": "8f630e29-324c-41fa-9501-76e266fd5d27"
      },
      "source": [
        "df_train.info()"
      ],
      "execution_count": 8,
      "outputs": [
        {
          "output_type": "stream",
          "text": [
            "<class 'pandas.core.frame.DataFrame'>\n",
            "DatetimeIndex: 1826 entries, 2013-01-01 to 2017-12-31\n",
            "Columns: 500 entries, item_1_store_1_sales to item_50_store_10_sales\n",
            "dtypes: int64(500)\n",
            "memory usage: 7.0 MB\n"
          ],
          "name": "stdout"
        }
      ]
    },
    {
      "cell_type": "code",
      "metadata": {
        "trusted": true,
        "colab": {
          "base_uri": "https://localhost:8080/",
          "height": 369
        },
        "id": "UNWP05Xuc49i",
        "outputId": "3f097938-14f0-4d14-d53b-debf78ed572f"
      },
      "source": [
        "df_train.head()"
      ],
      "execution_count": 9,
      "outputs": [
        {
          "output_type": "execute_result",
          "data": {
            "text/html": [
              "<div>\n",
              "<style scoped>\n",
              "    .dataframe tbody tr th:only-of-type {\n",
              "        vertical-align: middle;\n",
              "    }\n",
              "\n",
              "    .dataframe tbody tr th {\n",
              "        vertical-align: top;\n",
              "    }\n",
              "\n",
              "    .dataframe thead th {\n",
              "        text-align: right;\n",
              "    }\n",
              "</style>\n",
              "<table border=\"1\" class=\"dataframe\">\n",
              "  <thead>\n",
              "    <tr style=\"text-align: right;\">\n",
              "      <th></th>\n",
              "      <th>item_1_store_1_sales</th>\n",
              "      <th>item_1_store_2_sales</th>\n",
              "      <th>item_1_store_3_sales</th>\n",
              "      <th>item_1_store_4_sales</th>\n",
              "      <th>item_1_store_5_sales</th>\n",
              "      <th>item_1_store_6_sales</th>\n",
              "      <th>...</th>\n",
              "      <th>item_50_store_5_sales</th>\n",
              "      <th>item_50_store_6_sales</th>\n",
              "      <th>item_50_store_7_sales</th>\n",
              "      <th>item_50_store_8_sales</th>\n",
              "      <th>item_50_store_9_sales</th>\n",
              "      <th>item_50_store_10_sales</th>\n",
              "    </tr>\n",
              "    <tr>\n",
              "      <th>date</th>\n",
              "      <th></th>\n",
              "      <th></th>\n",
              "      <th></th>\n",
              "      <th></th>\n",
              "      <th></th>\n",
              "      <th></th>\n",
              "      <th></th>\n",
              "      <th></th>\n",
              "      <th></th>\n",
              "      <th></th>\n",
              "      <th></th>\n",
              "      <th></th>\n",
              "      <th></th>\n",
              "    </tr>\n",
              "  </thead>\n",
              "  <tbody>\n",
              "    <tr>\n",
              "      <th>2013-01-01</th>\n",
              "      <td>13</td>\n",
              "      <td>12</td>\n",
              "      <td>19</td>\n",
              "      <td>10</td>\n",
              "      <td>11</td>\n",
              "      <td>20</td>\n",
              "      <td>...</td>\n",
              "      <td>19</td>\n",
              "      <td>20</td>\n",
              "      <td>21</td>\n",
              "      <td>45</td>\n",
              "      <td>36</td>\n",
              "      <td>33</td>\n",
              "    </tr>\n",
              "    <tr>\n",
              "      <th>2013-01-02</th>\n",
              "      <td>11</td>\n",
              "      <td>16</td>\n",
              "      <td>8</td>\n",
              "      <td>12</td>\n",
              "      <td>9</td>\n",
              "      <td>6</td>\n",
              "      <td>...</td>\n",
              "      <td>25</td>\n",
              "      <td>23</td>\n",
              "      <td>30</td>\n",
              "      <td>54</td>\n",
              "      <td>44</td>\n",
              "      <td>37</td>\n",
              "    </tr>\n",
              "    <tr>\n",
              "      <th>2013-01-03</th>\n",
              "      <td>14</td>\n",
              "      <td>16</td>\n",
              "      <td>10</td>\n",
              "      <td>8</td>\n",
              "      <td>12</td>\n",
              "      <td>11</td>\n",
              "      <td>...</td>\n",
              "      <td>28</td>\n",
              "      <td>38</td>\n",
              "      <td>20</td>\n",
              "      <td>54</td>\n",
              "      <td>29</td>\n",
              "      <td>46</td>\n",
              "    </tr>\n",
              "    <tr>\n",
              "      <th>2013-01-04</th>\n",
              "      <td>13</td>\n",
              "      <td>20</td>\n",
              "      <td>15</td>\n",
              "      <td>15</td>\n",
              "      <td>8</td>\n",
              "      <td>7</td>\n",
              "      <td>...</td>\n",
              "      <td>27</td>\n",
              "      <td>33</td>\n",
              "      <td>27</td>\n",
              "      <td>52</td>\n",
              "      <td>43</td>\n",
              "      <td>51</td>\n",
              "    </tr>\n",
              "    <tr>\n",
              "      <th>2013-01-05</th>\n",
              "      <td>10</td>\n",
              "      <td>16</td>\n",
              "      <td>22</td>\n",
              "      <td>19</td>\n",
              "      <td>13</td>\n",
              "      <td>12</td>\n",
              "      <td>...</td>\n",
              "      <td>31</td>\n",
              "      <td>33</td>\n",
              "      <td>18</td>\n",
              "      <td>48</td>\n",
              "      <td>53</td>\n",
              "      <td>41</td>\n",
              "    </tr>\n",
              "  </tbody>\n",
              "</table>\n",
              "<p>5 rows × 500 columns</p>\n",
              "</div>"
            ],
            "text/plain": [
              "            item_1_store_1_sales  item_1_store_2_sales  item_1_store_3_sales  \\\n",
              "date                                                                           \n",
              "2013-01-01                    13                    12                    19   \n",
              "2013-01-02                    11                    16                     8   \n",
              "2013-01-03                    14                    16                    10   \n",
              "2013-01-04                    13                    20                    15   \n",
              "2013-01-05                    10                    16                    22   \n",
              "\n",
              "            item_1_store_4_sales  item_1_store_5_sales  item_1_store_6_sales  \\\n",
              "date                                                                           \n",
              "2013-01-01                    10                    11                    20   \n",
              "2013-01-02                    12                     9                     6   \n",
              "2013-01-03                     8                    12                    11   \n",
              "2013-01-04                    15                     8                     7   \n",
              "2013-01-05                    19                    13                    12   \n",
              "\n",
              "            ...  item_50_store_5_sales  item_50_store_6_sales  \\\n",
              "date        ...                                                 \n",
              "2013-01-01  ...                     19                     20   \n",
              "2013-01-02  ...                     25                     23   \n",
              "2013-01-03  ...                     28                     38   \n",
              "2013-01-04  ...                     27                     33   \n",
              "2013-01-05  ...                     31                     33   \n",
              "\n",
              "            item_50_store_7_sales  item_50_store_8_sales  \\\n",
              "date                                                       \n",
              "2013-01-01                     21                     45   \n",
              "2013-01-02                     30                     54   \n",
              "2013-01-03                     20                     54   \n",
              "2013-01-04                     27                     52   \n",
              "2013-01-05                     18                     48   \n",
              "\n",
              "            item_50_store_9_sales  item_50_store_10_sales  \n",
              "date                                                       \n",
              "2013-01-01                     36                      33  \n",
              "2013-01-02                     44                      37  \n",
              "2013-01-03                     29                      46  \n",
              "2013-01-04                     43                      51  \n",
              "2013-01-05                     53                      41  \n",
              "\n",
              "[5 rows x 500 columns]"
            ]
          },
          "metadata": {
            "tags": []
          },
          "execution_count": 9
        }
      ]
    },
    {
      "cell_type": "markdown",
      "metadata": {
        "id": "93to2Xrpc49i"
      },
      "source": [
        "# Load test data and preprocess\n",
        "## Test data\n"
      ]
    },
    {
      "cell_type": "code",
      "metadata": {
        "trusted": true,
        "colab": {
          "base_uri": "https://localhost:8080/",
          "height": 204
        },
        "id": "gRUyVntDc49i",
        "outputId": "bb37f9a4-5742-4d2d-f055-934a6c28d621"
      },
      "source": [
        "# load data\n",
        "df_test = pd.read_csv('/content/test.csv')\n",
        "df_test.head()"
      ],
      "execution_count": 10,
      "outputs": [
        {
          "output_type": "execute_result",
          "data": {
            "text/html": [
              "<div>\n",
              "<style scoped>\n",
              "    .dataframe tbody tr th:only-of-type {\n",
              "        vertical-align: middle;\n",
              "    }\n",
              "\n",
              "    .dataframe tbody tr th {\n",
              "        vertical-align: top;\n",
              "    }\n",
              "\n",
              "    .dataframe thead th {\n",
              "        text-align: right;\n",
              "    }\n",
              "</style>\n",
              "<table border=\"1\" class=\"dataframe\">\n",
              "  <thead>\n",
              "    <tr style=\"text-align: right;\">\n",
              "      <th></th>\n",
              "      <th>id</th>\n",
              "      <th>date</th>\n",
              "      <th>store</th>\n",
              "      <th>item</th>\n",
              "    </tr>\n",
              "  </thead>\n",
              "  <tbody>\n",
              "    <tr>\n",
              "      <th>0</th>\n",
              "      <td>0</td>\n",
              "      <td>2018-01-01</td>\n",
              "      <td>1</td>\n",
              "      <td>1</td>\n",
              "    </tr>\n",
              "    <tr>\n",
              "      <th>1</th>\n",
              "      <td>1</td>\n",
              "      <td>2018-01-02</td>\n",
              "      <td>1</td>\n",
              "      <td>1</td>\n",
              "    </tr>\n",
              "    <tr>\n",
              "      <th>2</th>\n",
              "      <td>2</td>\n",
              "      <td>2018-01-03</td>\n",
              "      <td>1</td>\n",
              "      <td>1</td>\n",
              "    </tr>\n",
              "    <tr>\n",
              "      <th>3</th>\n",
              "      <td>3</td>\n",
              "      <td>2018-01-04</td>\n",
              "      <td>1</td>\n",
              "      <td>1</td>\n",
              "    </tr>\n",
              "    <tr>\n",
              "      <th>4</th>\n",
              "      <td>4</td>\n",
              "      <td>2018-01-05</td>\n",
              "      <td>1</td>\n",
              "      <td>1</td>\n",
              "    </tr>\n",
              "  </tbody>\n",
              "</table>\n",
              "</div>"
            ],
            "text/plain": [
              "   id        date  store  item\n",
              "0   0  2018-01-01      1     1\n",
              "1   1  2018-01-02      1     1\n",
              "2   2  2018-01-03      1     1\n",
              "3   3  2018-01-04      1     1\n",
              "4   4  2018-01-05      1     1"
            ]
          },
          "metadata": {
            "tags": []
          },
          "execution_count": 10
        }
      ]
    },
    {
      "cell_type": "code",
      "metadata": {
        "trusted": true,
        "colab": {
          "base_uri": "https://localhost:8080/"
        },
        "id": "PG3v0IcQc49j",
        "outputId": "acb5c260-2b7c-4b6c-98f1-ffad43ae6dcd"
      },
      "source": [
        "# strings to dates\n",
        "df_test['date'] = pd.to_datetime(df_test['date'])\n",
        "df_test.index = pd.DatetimeIndex(df_test['date'])\n",
        "df_test.drop('date', axis=1, inplace=True)\n",
        "df_test.info()"
      ],
      "execution_count": 11,
      "outputs": [
        {
          "output_type": "stream",
          "text": [
            "<class 'pandas.core.frame.DataFrame'>\n",
            "DatetimeIndex: 45000 entries, 2018-01-01 to 2018-03-31\n",
            "Data columns (total 3 columns):\n",
            " #   Column  Non-Null Count  Dtype\n",
            "---  ------  --------------  -----\n",
            " 0   id      45000 non-null  int64\n",
            " 1   store   45000 non-null  int64\n",
            " 2   item    45000 non-null  int64\n",
            "dtypes: int64(3)\n",
            "memory usage: 1.4 MB\n"
          ],
          "name": "stdout"
        }
      ]
    },
    {
      "cell_type": "code",
      "metadata": {
        "trusted": true,
        "colab": {
          "base_uri": "https://localhost:8080/"
        },
        "id": "mYuy5-uEc49j",
        "outputId": "c3a829a0-e89f-492a-86b6-cb2f9470e7b6"
      },
      "source": [
        "# mock sales to use same transformations as in df_train\n",
        "df_test['sales'] = np.zeros(df_test.shape[0])\n",
        "df_test = sales_by_storeitem(df_test)\n",
        "df_test.info()"
      ],
      "execution_count": 12,
      "outputs": [
        {
          "output_type": "stream",
          "text": [
            "<class 'pandas.core.frame.DataFrame'>\n",
            "DatetimeIndex: 90 entries, 2018-01-01 to 2018-03-31\n",
            "Columns: 500 entries, item_1_store_1_sales to item_50_store_10_sales\n",
            "dtypes: float64(500)\n",
            "memory usage: 352.3 KB\n"
          ],
          "name": "stdout"
        }
      ]
    },
    {
      "cell_type": "code",
      "metadata": {
        "trusted": true,
        "colab": {
          "base_uri": "https://localhost:8080/",
          "height": 369
        },
        "id": "FEHlsp4ac49j",
        "outputId": "8ad0164d-a35a-448e-bb44-69733fc7d091"
      },
      "source": [
        "df_test.head()"
      ],
      "execution_count": 13,
      "outputs": [
        {
          "output_type": "execute_result",
          "data": {
            "text/html": [
              "<div>\n",
              "<style scoped>\n",
              "    .dataframe tbody tr th:only-of-type {\n",
              "        vertical-align: middle;\n",
              "    }\n",
              "\n",
              "    .dataframe tbody tr th {\n",
              "        vertical-align: top;\n",
              "    }\n",
              "\n",
              "    .dataframe thead th {\n",
              "        text-align: right;\n",
              "    }\n",
              "</style>\n",
              "<table border=\"1\" class=\"dataframe\">\n",
              "  <thead>\n",
              "    <tr style=\"text-align: right;\">\n",
              "      <th></th>\n",
              "      <th>item_1_store_1_sales</th>\n",
              "      <th>item_1_store_2_sales</th>\n",
              "      <th>item_1_store_3_sales</th>\n",
              "      <th>item_1_store_4_sales</th>\n",
              "      <th>item_1_store_5_sales</th>\n",
              "      <th>item_1_store_6_sales</th>\n",
              "      <th>...</th>\n",
              "      <th>item_50_store_5_sales</th>\n",
              "      <th>item_50_store_6_sales</th>\n",
              "      <th>item_50_store_7_sales</th>\n",
              "      <th>item_50_store_8_sales</th>\n",
              "      <th>item_50_store_9_sales</th>\n",
              "      <th>item_50_store_10_sales</th>\n",
              "    </tr>\n",
              "    <tr>\n",
              "      <th>date</th>\n",
              "      <th></th>\n",
              "      <th></th>\n",
              "      <th></th>\n",
              "      <th></th>\n",
              "      <th></th>\n",
              "      <th></th>\n",
              "      <th></th>\n",
              "      <th></th>\n",
              "      <th></th>\n",
              "      <th></th>\n",
              "      <th></th>\n",
              "      <th></th>\n",
              "      <th></th>\n",
              "    </tr>\n",
              "  </thead>\n",
              "  <tbody>\n",
              "    <tr>\n",
              "      <th>2018-01-01</th>\n",
              "      <td>0.0</td>\n",
              "      <td>0.0</td>\n",
              "      <td>0.0</td>\n",
              "      <td>0.0</td>\n",
              "      <td>0.0</td>\n",
              "      <td>0.0</td>\n",
              "      <td>...</td>\n",
              "      <td>0.0</td>\n",
              "      <td>0.0</td>\n",
              "      <td>0.0</td>\n",
              "      <td>0.0</td>\n",
              "      <td>0.0</td>\n",
              "      <td>0.0</td>\n",
              "    </tr>\n",
              "    <tr>\n",
              "      <th>2018-01-02</th>\n",
              "      <td>0.0</td>\n",
              "      <td>0.0</td>\n",
              "      <td>0.0</td>\n",
              "      <td>0.0</td>\n",
              "      <td>0.0</td>\n",
              "      <td>0.0</td>\n",
              "      <td>...</td>\n",
              "      <td>0.0</td>\n",
              "      <td>0.0</td>\n",
              "      <td>0.0</td>\n",
              "      <td>0.0</td>\n",
              "      <td>0.0</td>\n",
              "      <td>0.0</td>\n",
              "    </tr>\n",
              "    <tr>\n",
              "      <th>2018-01-03</th>\n",
              "      <td>0.0</td>\n",
              "      <td>0.0</td>\n",
              "      <td>0.0</td>\n",
              "      <td>0.0</td>\n",
              "      <td>0.0</td>\n",
              "      <td>0.0</td>\n",
              "      <td>...</td>\n",
              "      <td>0.0</td>\n",
              "      <td>0.0</td>\n",
              "      <td>0.0</td>\n",
              "      <td>0.0</td>\n",
              "      <td>0.0</td>\n",
              "      <td>0.0</td>\n",
              "    </tr>\n",
              "    <tr>\n",
              "      <th>2018-01-04</th>\n",
              "      <td>0.0</td>\n",
              "      <td>0.0</td>\n",
              "      <td>0.0</td>\n",
              "      <td>0.0</td>\n",
              "      <td>0.0</td>\n",
              "      <td>0.0</td>\n",
              "      <td>...</td>\n",
              "      <td>0.0</td>\n",
              "      <td>0.0</td>\n",
              "      <td>0.0</td>\n",
              "      <td>0.0</td>\n",
              "      <td>0.0</td>\n",
              "      <td>0.0</td>\n",
              "    </tr>\n",
              "    <tr>\n",
              "      <th>2018-01-05</th>\n",
              "      <td>0.0</td>\n",
              "      <td>0.0</td>\n",
              "      <td>0.0</td>\n",
              "      <td>0.0</td>\n",
              "      <td>0.0</td>\n",
              "      <td>0.0</td>\n",
              "      <td>...</td>\n",
              "      <td>0.0</td>\n",
              "      <td>0.0</td>\n",
              "      <td>0.0</td>\n",
              "      <td>0.0</td>\n",
              "      <td>0.0</td>\n",
              "      <td>0.0</td>\n",
              "    </tr>\n",
              "  </tbody>\n",
              "</table>\n",
              "<p>5 rows × 500 columns</p>\n",
              "</div>"
            ],
            "text/plain": [
              "            item_1_store_1_sales  item_1_store_2_sales  item_1_store_3_sales  \\\n",
              "date                                                                           \n",
              "2018-01-01                   0.0                   0.0                   0.0   \n",
              "2018-01-02                   0.0                   0.0                   0.0   \n",
              "2018-01-03                   0.0                   0.0                   0.0   \n",
              "2018-01-04                   0.0                   0.0                   0.0   \n",
              "2018-01-05                   0.0                   0.0                   0.0   \n",
              "\n",
              "            item_1_store_4_sales  item_1_store_5_sales  item_1_store_6_sales  \\\n",
              "date                                                                           \n",
              "2018-01-01                   0.0                   0.0                   0.0   \n",
              "2018-01-02                   0.0                   0.0                   0.0   \n",
              "2018-01-03                   0.0                   0.0                   0.0   \n",
              "2018-01-04                   0.0                   0.0                   0.0   \n",
              "2018-01-05                   0.0                   0.0                   0.0   \n",
              "\n",
              "            ...  item_50_store_5_sales  item_50_store_6_sales  \\\n",
              "date        ...                                                 \n",
              "2018-01-01  ...                    0.0                    0.0   \n",
              "2018-01-02  ...                    0.0                    0.0   \n",
              "2018-01-03  ...                    0.0                    0.0   \n",
              "2018-01-04  ...                    0.0                    0.0   \n",
              "2018-01-05  ...                    0.0                    0.0   \n",
              "\n",
              "            item_50_store_7_sales  item_50_store_8_sales  \\\n",
              "date                                                       \n",
              "2018-01-01                    0.0                    0.0   \n",
              "2018-01-02                    0.0                    0.0   \n",
              "2018-01-03                    0.0                    0.0   \n",
              "2018-01-04                    0.0                    0.0   \n",
              "2018-01-05                    0.0                    0.0   \n",
              "\n",
              "            item_50_store_9_sales  item_50_store_10_sales  \n",
              "date                                                       \n",
              "2018-01-01                    0.0                     0.0  \n",
              "2018-01-02                    0.0                     0.0  \n",
              "2018-01-03                    0.0                     0.0  \n",
              "2018-01-04                    0.0                     0.0  \n",
              "2018-01-05                    0.0                     0.0  \n",
              "\n",
              "[5 rows x 500 columns]"
            ]
          },
          "metadata": {
            "tags": []
          },
          "execution_count": 13
        }
      ]
    },
    {
      "cell_type": "markdown",
      "metadata": {
        "id": "1Y39iMASc49j"
      },
      "source": [
        "## Combine test and train datasets"
      ]
    },
    {
      "cell_type": "code",
      "metadata": {
        "trusted": true,
        "id": "E9aafFZ5c49j"
      },
      "source": [
        "# make sure all column names are the same and in the same order\n",
        "col_names = list(zip(df_test.columns, df_train.columns))\n",
        "for cn in col_names:\n",
        "    assert cn[0] == cn[1]"
      ],
      "execution_count": 14,
      "outputs": []
    },
    {
      "cell_type": "code",
      "metadata": {
        "trusted": true,
        "colab": {
          "base_uri": "https://localhost:8080/"
        },
        "id": "IMqcjXRSc49j",
        "outputId": "d0d8959d-782a-4d72-c3a7-7d90beb952b4"
      },
      "source": [
        "df_test['is_test'] = np.repeat(True, df_test.shape[0])\n",
        "df_train['is_test'] = np.repeat(False, df_train.shape[0])\n",
        "df_total = pd.concat([df_train, df_test])\n",
        "df_total.info()"
      ],
      "execution_count": 15,
      "outputs": [
        {
          "output_type": "stream",
          "text": [
            "<class 'pandas.core.frame.DataFrame'>\n",
            "DatetimeIndex: 1916 entries, 2013-01-01 to 2018-03-31\n",
            "Columns: 501 entries, item_1_store_1_sales to is_test\n",
            "dtypes: bool(1), float64(500)\n",
            "memory usage: 7.3 MB\n"
          ],
          "name": "stdout"
        }
      ]
    },
    {
      "cell_type": "markdown",
      "metadata": {
        "id": "xAzwJBk6c49k"
      },
      "source": [
        "## Onehot encoding weekdays and months"
      ]
    },
    {
      "cell_type": "code",
      "metadata": {
        "trusted": true,
        "colab": {
          "base_uri": "https://localhost:8080/",
          "height": 0
        },
        "id": "O0Zv6S3nc49k",
        "outputId": "72ac9817-62e1-4a12-9be0-b87b14dcf2e6"
      },
      "source": [
        "weekday_df = pd.get_dummies(df_total.index.weekday, prefix='weekday')\n",
        "weekday_df.index = df_total.index\n",
        "weekday_df.head()"
      ],
      "execution_count": 16,
      "outputs": [
        {
          "output_type": "execute_result",
          "data": {
            "text/html": [
              "<div>\n",
              "<style scoped>\n",
              "    .dataframe tbody tr th:only-of-type {\n",
              "        vertical-align: middle;\n",
              "    }\n",
              "\n",
              "    .dataframe tbody tr th {\n",
              "        vertical-align: top;\n",
              "    }\n",
              "\n",
              "    .dataframe thead th {\n",
              "        text-align: right;\n",
              "    }\n",
              "</style>\n",
              "<table border=\"1\" class=\"dataframe\">\n",
              "  <thead>\n",
              "    <tr style=\"text-align: right;\">\n",
              "      <th></th>\n",
              "      <th>weekday_0</th>\n",
              "      <th>weekday_1</th>\n",
              "      <th>weekday_2</th>\n",
              "      <th>weekday_3</th>\n",
              "      <th>weekday_4</th>\n",
              "      <th>weekday_5</th>\n",
              "      <th>weekday_6</th>\n",
              "    </tr>\n",
              "    <tr>\n",
              "      <th>date</th>\n",
              "      <th></th>\n",
              "      <th></th>\n",
              "      <th></th>\n",
              "      <th></th>\n",
              "      <th></th>\n",
              "      <th></th>\n",
              "      <th></th>\n",
              "    </tr>\n",
              "  </thead>\n",
              "  <tbody>\n",
              "    <tr>\n",
              "      <th>2013-01-01</th>\n",
              "      <td>0</td>\n",
              "      <td>1</td>\n",
              "      <td>0</td>\n",
              "      <td>0</td>\n",
              "      <td>0</td>\n",
              "      <td>0</td>\n",
              "      <td>0</td>\n",
              "    </tr>\n",
              "    <tr>\n",
              "      <th>2013-01-02</th>\n",
              "      <td>0</td>\n",
              "      <td>0</td>\n",
              "      <td>1</td>\n",
              "      <td>0</td>\n",
              "      <td>0</td>\n",
              "      <td>0</td>\n",
              "      <td>0</td>\n",
              "    </tr>\n",
              "    <tr>\n",
              "      <th>2013-01-03</th>\n",
              "      <td>0</td>\n",
              "      <td>0</td>\n",
              "      <td>0</td>\n",
              "      <td>1</td>\n",
              "      <td>0</td>\n",
              "      <td>0</td>\n",
              "      <td>0</td>\n",
              "    </tr>\n",
              "    <tr>\n",
              "      <th>2013-01-04</th>\n",
              "      <td>0</td>\n",
              "      <td>0</td>\n",
              "      <td>0</td>\n",
              "      <td>0</td>\n",
              "      <td>1</td>\n",
              "      <td>0</td>\n",
              "      <td>0</td>\n",
              "    </tr>\n",
              "    <tr>\n",
              "      <th>2013-01-05</th>\n",
              "      <td>0</td>\n",
              "      <td>0</td>\n",
              "      <td>0</td>\n",
              "      <td>0</td>\n",
              "      <td>0</td>\n",
              "      <td>1</td>\n",
              "      <td>0</td>\n",
              "    </tr>\n",
              "  </tbody>\n",
              "</table>\n",
              "</div>"
            ],
            "text/plain": [
              "            weekday_0  weekday_1  weekday_2  weekday_3  weekday_4  weekday_5  \\\n",
              "date                                                                           \n",
              "2013-01-01          0          1          0          0          0          0   \n",
              "2013-01-02          0          0          1          0          0          0   \n",
              "2013-01-03          0          0          0          1          0          0   \n",
              "2013-01-04          0          0          0          0          1          0   \n",
              "2013-01-05          0          0          0          0          0          1   \n",
              "\n",
              "            weekday_6  \n",
              "date                   \n",
              "2013-01-01          0  \n",
              "2013-01-02          0  \n",
              "2013-01-03          0  \n",
              "2013-01-04          0  \n",
              "2013-01-05          0  "
            ]
          },
          "metadata": {
            "tags": []
          },
          "execution_count": 16
        }
      ]
    },
    {
      "cell_type": "code",
      "metadata": {
        "trusted": true,
        "colab": {
          "base_uri": "https://localhost:8080/",
          "height": 0
        },
        "id": "6a-d9s_Yc49k",
        "outputId": "57420fb2-f148-4803-d77e-7d6f17216cd9"
      },
      "source": [
        "month_df = pd.get_dummies(df_total.index.month, prefix='month')\n",
        "month_df.index =  df_total.index\n",
        "month_df.head()"
      ],
      "execution_count": 17,
      "outputs": [
        {
          "output_type": "execute_result",
          "data": {
            "text/html": [
              "<div>\n",
              "<style scoped>\n",
              "    .dataframe tbody tr th:only-of-type {\n",
              "        vertical-align: middle;\n",
              "    }\n",
              "\n",
              "    .dataframe tbody tr th {\n",
              "        vertical-align: top;\n",
              "    }\n",
              "\n",
              "    .dataframe thead th {\n",
              "        text-align: right;\n",
              "    }\n",
              "</style>\n",
              "<table border=\"1\" class=\"dataframe\">\n",
              "  <thead>\n",
              "    <tr style=\"text-align: right;\">\n",
              "      <th></th>\n",
              "      <th>month_1</th>\n",
              "      <th>month_2</th>\n",
              "      <th>month_3</th>\n",
              "      <th>month_4</th>\n",
              "      <th>month_5</th>\n",
              "      <th>month_6</th>\n",
              "      <th>month_7</th>\n",
              "      <th>month_8</th>\n",
              "      <th>month_9</th>\n",
              "      <th>month_10</th>\n",
              "      <th>month_11</th>\n",
              "      <th>month_12</th>\n",
              "    </tr>\n",
              "    <tr>\n",
              "      <th>date</th>\n",
              "      <th></th>\n",
              "      <th></th>\n",
              "      <th></th>\n",
              "      <th></th>\n",
              "      <th></th>\n",
              "      <th></th>\n",
              "      <th></th>\n",
              "      <th></th>\n",
              "      <th></th>\n",
              "      <th></th>\n",
              "      <th></th>\n",
              "      <th></th>\n",
              "    </tr>\n",
              "  </thead>\n",
              "  <tbody>\n",
              "    <tr>\n",
              "      <th>2013-01-01</th>\n",
              "      <td>1</td>\n",
              "      <td>0</td>\n",
              "      <td>0</td>\n",
              "      <td>0</td>\n",
              "      <td>0</td>\n",
              "      <td>0</td>\n",
              "      <td>0</td>\n",
              "      <td>0</td>\n",
              "      <td>0</td>\n",
              "      <td>0</td>\n",
              "      <td>0</td>\n",
              "      <td>0</td>\n",
              "    </tr>\n",
              "    <tr>\n",
              "      <th>2013-01-02</th>\n",
              "      <td>1</td>\n",
              "      <td>0</td>\n",
              "      <td>0</td>\n",
              "      <td>0</td>\n",
              "      <td>0</td>\n",
              "      <td>0</td>\n",
              "      <td>0</td>\n",
              "      <td>0</td>\n",
              "      <td>0</td>\n",
              "      <td>0</td>\n",
              "      <td>0</td>\n",
              "      <td>0</td>\n",
              "    </tr>\n",
              "    <tr>\n",
              "      <th>2013-01-03</th>\n",
              "      <td>1</td>\n",
              "      <td>0</td>\n",
              "      <td>0</td>\n",
              "      <td>0</td>\n",
              "      <td>0</td>\n",
              "      <td>0</td>\n",
              "      <td>0</td>\n",
              "      <td>0</td>\n",
              "      <td>0</td>\n",
              "      <td>0</td>\n",
              "      <td>0</td>\n",
              "      <td>0</td>\n",
              "    </tr>\n",
              "    <tr>\n",
              "      <th>2013-01-04</th>\n",
              "      <td>1</td>\n",
              "      <td>0</td>\n",
              "      <td>0</td>\n",
              "      <td>0</td>\n",
              "      <td>0</td>\n",
              "      <td>0</td>\n",
              "      <td>0</td>\n",
              "      <td>0</td>\n",
              "      <td>0</td>\n",
              "      <td>0</td>\n",
              "      <td>0</td>\n",
              "      <td>0</td>\n",
              "    </tr>\n",
              "    <tr>\n",
              "      <th>2013-01-05</th>\n",
              "      <td>1</td>\n",
              "      <td>0</td>\n",
              "      <td>0</td>\n",
              "      <td>0</td>\n",
              "      <td>0</td>\n",
              "      <td>0</td>\n",
              "      <td>0</td>\n",
              "      <td>0</td>\n",
              "      <td>0</td>\n",
              "      <td>0</td>\n",
              "      <td>0</td>\n",
              "      <td>0</td>\n",
              "    </tr>\n",
              "  </tbody>\n",
              "</table>\n",
              "</div>"
            ],
            "text/plain": [
              "            month_1  month_2  month_3  month_4  month_5  month_6  month_7  \\\n",
              "date                                                                        \n",
              "2013-01-01        1        0        0        0        0        0        0   \n",
              "2013-01-02        1        0        0        0        0        0        0   \n",
              "2013-01-03        1        0        0        0        0        0        0   \n",
              "2013-01-04        1        0        0        0        0        0        0   \n",
              "2013-01-05        1        0        0        0        0        0        0   \n",
              "\n",
              "            month_8  month_9  month_10  month_11  month_12  \n",
              "date                                                        \n",
              "2013-01-01        0        0         0         0         0  \n",
              "2013-01-02        0        0         0         0         0  \n",
              "2013-01-03        0        0         0         0         0  \n",
              "2013-01-04        0        0         0         0         0  \n",
              "2013-01-05        0        0         0         0         0  "
            ]
          },
          "metadata": {
            "tags": []
          },
          "execution_count": 17
        }
      ]
    },
    {
      "cell_type": "code",
      "metadata": {
        "trusted": true,
        "colab": {
          "base_uri": "https://localhost:8080/"
        },
        "id": "TDEgsxNsc49k",
        "outputId": "14c320da-0eb7-4820-88c6-ce30bfee7d51"
      },
      "source": [
        "df_total = pd.concat([weekday_df, month_df, df_total], axis=1)\n",
        "df_total.info()"
      ],
      "execution_count": 18,
      "outputs": [
        {
          "output_type": "stream",
          "text": [
            "<class 'pandas.core.frame.DataFrame'>\n",
            "DatetimeIndex: 1916 entries, 2013-01-01 to 2018-03-31\n",
            "Columns: 520 entries, weekday_0 to is_test\n",
            "dtypes: bool(1), float64(500), uint8(19)\n",
            "memory usage: 7.4 MB\n"
          ],
          "name": "stdout"
        }
      ]
    },
    {
      "cell_type": "code",
      "metadata": {
        "trusted": true,
        "id": "U8J2Xajyc49k"
      },
      "source": [
        "assert df_total.isna().any().any() == False"
      ],
      "execution_count": 19,
      "outputs": []
    },
    {
      "cell_type": "markdown",
      "metadata": {
        "id": "9TyHWwoHc49k"
      },
      "source": [
        "## Shift sales \n",
        "\n",
        "Calculate the first values of the test set.\n",
        "Shift columns in df with names in series_names by days_delta. Negative days_delta will prepend future values to current date, positive days_delta wil prepend past values to current date."
      ]
    },
    {
      "cell_type": "code",
      "metadata": {
        "trusted": true,
        "id": "uGotKSrrc49k"
      },
      "source": [
        "def shift_series(series, days):\n",
        "    return series.transform(lambda x: x.shift(days))\n",
        "\n",
        "\n",
        "def shift_series_in_df(df, series_names=[], days_delta=90):\n",
        "\n",
        "    ret = pd.DataFrame(index=df.index.copy())\n",
        "    str_sgn = 'future' if np.sign(days_delta) < 0 else 'past'\n",
        "    for sn in series_names:\n",
        "        ret[f'{sn}_{str_sgn}_{np.abs(days_delta)}'] = shift_series(df[sn], days_delta)\n",
        "    return ret\n",
        "\n",
        "    \n",
        "def stack_shifted_sales(df, days_delta=90):\n",
        "    names = storeitems_column_names()\n",
        "    dfs = [df.copy()]\n",
        "    abs_range = range(1, days_delta+1) if days_delta > 0 else range(days_delta, 0)\n",
        "    for day_offset in abs_range:\n",
        "        delta = -day_offset\n",
        "        shifted = shift_series_in_df(df, series_names=names, days_delta=delta)\n",
        "        dfs.append(shifted)\n",
        "    return pd.concat(dfs, axis=1, copy=False)"
      ],
      "execution_count": 20,
      "outputs": []
    },
    {
      "cell_type": "code",
      "metadata": {
        "trusted": true,
        "id": "GdUGbHI6c49l"
      },
      "source": [
        "df_total = stack_shifted_sales(df_total, days_delta=-1)"
      ],
      "execution_count": 21,
      "outputs": []
    },
    {
      "cell_type": "code",
      "metadata": {
        "trusted": true,
        "colab": {
          "base_uri": "https://localhost:8080/"
        },
        "id": "BGo6WGY5c49l",
        "outputId": "c6fdbf6b-0932-44f6-d80f-809404c9e3a1"
      },
      "source": [
        "df_total = df_total.dropna()  # remove 1st row\n",
        "df_total.info()"
      ],
      "execution_count": 22,
      "outputs": [
        {
          "output_type": "stream",
          "text": [
            "<class 'pandas.core.frame.DataFrame'>\n",
            "DatetimeIndex: 1915 entries, 2013-01-02 to 2018-03-31\n",
            "Columns: 1020 entries, weekday_0 to item_50_store_10_sales_past_1\n",
            "dtypes: bool(1), float64(1000), uint8(19)\n",
            "memory usage: 14.7 MB\n"
          ],
          "name": "stdout"
        }
      ]
    },
    {
      "cell_type": "code",
      "metadata": {
        "trusted": true,
        "id": "kNI9RApEc49l"
      },
      "source": [
        "# make sure stacked and standard sales columns appear in the same order:\n",
        "sales_cols = [col for col in df_total.columns if '_sales' in col and '_sales_' not in col]\n",
        "stacked_sales_cols = [col for col in df_total.columns if '_sales_' in col]\n",
        "other_cols = [col for col in df_total.columns if col not in set(sales_cols) and col not in set(stacked_sales_cols)]\n",
        "\n",
        "sales_cols = sorted(sales_cols)\n",
        "stacked_sales_cols = sorted(stacked_sales_cols)\n",
        "\n",
        "new_cols = other_cols + stacked_sales_cols + sales_cols"
      ],
      "execution_count": 23,
      "outputs": []
    },
    {
      "cell_type": "code",
      "metadata": {
        "trusted": true,
        "id": "7m5FPOsec49l"
      },
      "source": [
        "df_total = df_total.reindex(columns=new_cols)"
      ],
      "execution_count": 24,
      "outputs": []
    },
    {
      "cell_type": "code",
      "metadata": {
        "trusted": true,
        "colab": {
          "base_uri": "https://localhost:8080/",
          "height": 0
        },
        "id": "m0fLjrQBc49l",
        "outputId": "1fccc713-2322-48ff-e8f2-110e839363be"
      },
      "source": [
        "df_total.head()"
      ],
      "execution_count": 25,
      "outputs": [
        {
          "output_type": "execute_result",
          "data": {
            "text/html": [
              "<div>\n",
              "<style scoped>\n",
              "    .dataframe tbody tr th:only-of-type {\n",
              "        vertical-align: middle;\n",
              "    }\n",
              "\n",
              "    .dataframe tbody tr th {\n",
              "        vertical-align: top;\n",
              "    }\n",
              "\n",
              "    .dataframe thead th {\n",
              "        text-align: right;\n",
              "    }\n",
              "</style>\n",
              "<table border=\"1\" class=\"dataframe\">\n",
              "  <thead>\n",
              "    <tr style=\"text-align: right;\">\n",
              "      <th></th>\n",
              "      <th>weekday_0</th>\n",
              "      <th>weekday_1</th>\n",
              "      <th>weekday_2</th>\n",
              "      <th>weekday_3</th>\n",
              "      <th>weekday_4</th>\n",
              "      <th>weekday_5</th>\n",
              "      <th>...</th>\n",
              "      <th>item_9_store_4_sales</th>\n",
              "      <th>item_9_store_5_sales</th>\n",
              "      <th>item_9_store_6_sales</th>\n",
              "      <th>item_9_store_7_sales</th>\n",
              "      <th>item_9_store_8_sales</th>\n",
              "      <th>item_9_store_9_sales</th>\n",
              "    </tr>\n",
              "    <tr>\n",
              "      <th>date</th>\n",
              "      <th></th>\n",
              "      <th></th>\n",
              "      <th></th>\n",
              "      <th></th>\n",
              "      <th></th>\n",
              "      <th></th>\n",
              "      <th></th>\n",
              "      <th></th>\n",
              "      <th></th>\n",
              "      <th></th>\n",
              "      <th></th>\n",
              "      <th></th>\n",
              "      <th></th>\n",
              "    </tr>\n",
              "  </thead>\n",
              "  <tbody>\n",
              "    <tr>\n",
              "      <th>2013-01-02</th>\n",
              "      <td>0</td>\n",
              "      <td>0</td>\n",
              "      <td>1</td>\n",
              "      <td>0</td>\n",
              "      <td>0</td>\n",
              "      <td>0</td>\n",
              "      <td>...</td>\n",
              "      <td>21.0</td>\n",
              "      <td>20.0</td>\n",
              "      <td>17.0</td>\n",
              "      <td>20.0</td>\n",
              "      <td>28.0</td>\n",
              "      <td>36.0</td>\n",
              "    </tr>\n",
              "    <tr>\n",
              "      <th>2013-01-03</th>\n",
              "      <td>0</td>\n",
              "      <td>0</td>\n",
              "      <td>0</td>\n",
              "      <td>1</td>\n",
              "      <td>0</td>\n",
              "      <td>0</td>\n",
              "      <td>...</td>\n",
              "      <td>25.0</td>\n",
              "      <td>15.0</td>\n",
              "      <td>28.0</td>\n",
              "      <td>18.0</td>\n",
              "      <td>31.0</td>\n",
              "      <td>25.0</td>\n",
              "    </tr>\n",
              "    <tr>\n",
              "      <th>2013-01-04</th>\n",
              "      <td>0</td>\n",
              "      <td>0</td>\n",
              "      <td>0</td>\n",
              "      <td>0</td>\n",
              "      <td>1</td>\n",
              "      <td>0</td>\n",
              "      <td>...</td>\n",
              "      <td>37.0</td>\n",
              "      <td>20.0</td>\n",
              "      <td>33.0</td>\n",
              "      <td>24.0</td>\n",
              "      <td>46.0</td>\n",
              "      <td>31.0</td>\n",
              "    </tr>\n",
              "    <tr>\n",
              "      <th>2013-01-05</th>\n",
              "      <td>0</td>\n",
              "      <td>0</td>\n",
              "      <td>0</td>\n",
              "      <td>0</td>\n",
              "      <td>0</td>\n",
              "      <td>1</td>\n",
              "      <td>...</td>\n",
              "      <td>37.0</td>\n",
              "      <td>23.0</td>\n",
              "      <td>27.0</td>\n",
              "      <td>14.0</td>\n",
              "      <td>35.0</td>\n",
              "      <td>30.0</td>\n",
              "    </tr>\n",
              "    <tr>\n",
              "      <th>2013-01-06</th>\n",
              "      <td>0</td>\n",
              "      <td>0</td>\n",
              "      <td>0</td>\n",
              "      <td>0</td>\n",
              "      <td>0</td>\n",
              "      <td>0</td>\n",
              "      <td>...</td>\n",
              "      <td>37.0</td>\n",
              "      <td>29.0</td>\n",
              "      <td>20.0</td>\n",
              "      <td>24.0</td>\n",
              "      <td>34.0</td>\n",
              "      <td>35.0</td>\n",
              "    </tr>\n",
              "  </tbody>\n",
              "</table>\n",
              "<p>5 rows × 1020 columns</p>\n",
              "</div>"
            ],
            "text/plain": [
              "            weekday_0  weekday_1  weekday_2  weekday_3  weekday_4  weekday_5  \\\n",
              "date                                                                           \n",
              "2013-01-02          0          0          1          0          0          0   \n",
              "2013-01-03          0          0          0          1          0          0   \n",
              "2013-01-04          0          0          0          0          1          0   \n",
              "2013-01-05          0          0          0          0          0          1   \n",
              "2013-01-06          0          0          0          0          0          0   \n",
              "\n",
              "            ...  item_9_store_4_sales  item_9_store_5_sales  \\\n",
              "date        ...                                               \n",
              "2013-01-02  ...                  21.0                  20.0   \n",
              "2013-01-03  ...                  25.0                  15.0   \n",
              "2013-01-04  ...                  37.0                  20.0   \n",
              "2013-01-05  ...                  37.0                  23.0   \n",
              "2013-01-06  ...                  37.0                  29.0   \n",
              "\n",
              "            item_9_store_6_sales  item_9_store_7_sales  item_9_store_8_sales  \\\n",
              "date                                                                           \n",
              "2013-01-02                  17.0                  20.0                  28.0   \n",
              "2013-01-03                  28.0                  18.0                  31.0   \n",
              "2013-01-04                  33.0                  24.0                  46.0   \n",
              "2013-01-05                  27.0                  14.0                  35.0   \n",
              "2013-01-06                  20.0                  24.0                  34.0   \n",
              "\n",
              "            item_9_store_9_sales  \n",
              "date                              \n",
              "2013-01-02                  36.0  \n",
              "2013-01-03                  25.0  \n",
              "2013-01-04                  31.0  \n",
              "2013-01-05                  30.0  \n",
              "2013-01-06                  35.0  \n",
              "\n",
              "[5 rows x 1020 columns]"
            ]
          },
          "metadata": {
            "tags": []
          },
          "execution_count": 25
        }
      ]
    },
    {
      "cell_type": "code",
      "metadata": {
        "trusted": true,
        "colab": {
          "base_uri": "https://localhost:8080/",
          "height": 0
        },
        "id": "k5edd-Cbc49l",
        "outputId": "c13aad7f-40b6-4a71-c387-6eb3c587ee1a"
      },
      "source": [
        "df_total.tail()"
      ],
      "execution_count": 26,
      "outputs": [
        {
          "output_type": "execute_result",
          "data": {
            "text/html": [
              "<div>\n",
              "<style scoped>\n",
              "    .dataframe tbody tr th:only-of-type {\n",
              "        vertical-align: middle;\n",
              "    }\n",
              "\n",
              "    .dataframe tbody tr th {\n",
              "        vertical-align: top;\n",
              "    }\n",
              "\n",
              "    .dataframe thead th {\n",
              "        text-align: right;\n",
              "    }\n",
              "</style>\n",
              "<table border=\"1\" class=\"dataframe\">\n",
              "  <thead>\n",
              "    <tr style=\"text-align: right;\">\n",
              "      <th></th>\n",
              "      <th>weekday_0</th>\n",
              "      <th>weekday_1</th>\n",
              "      <th>weekday_2</th>\n",
              "      <th>weekday_3</th>\n",
              "      <th>weekday_4</th>\n",
              "      <th>weekday_5</th>\n",
              "      <th>...</th>\n",
              "      <th>item_9_store_4_sales</th>\n",
              "      <th>item_9_store_5_sales</th>\n",
              "      <th>item_9_store_6_sales</th>\n",
              "      <th>item_9_store_7_sales</th>\n",
              "      <th>item_9_store_8_sales</th>\n",
              "      <th>item_9_store_9_sales</th>\n",
              "    </tr>\n",
              "    <tr>\n",
              "      <th>date</th>\n",
              "      <th></th>\n",
              "      <th></th>\n",
              "      <th></th>\n",
              "      <th></th>\n",
              "      <th></th>\n",
              "      <th></th>\n",
              "      <th></th>\n",
              "      <th></th>\n",
              "      <th></th>\n",
              "      <th></th>\n",
              "      <th></th>\n",
              "      <th></th>\n",
              "      <th></th>\n",
              "    </tr>\n",
              "  </thead>\n",
              "  <tbody>\n",
              "    <tr>\n",
              "      <th>2018-03-27</th>\n",
              "      <td>0</td>\n",
              "      <td>1</td>\n",
              "      <td>0</td>\n",
              "      <td>0</td>\n",
              "      <td>0</td>\n",
              "      <td>0</td>\n",
              "      <td>...</td>\n",
              "      <td>0.0</td>\n",
              "      <td>0.0</td>\n",
              "      <td>0.0</td>\n",
              "      <td>0.0</td>\n",
              "      <td>0.0</td>\n",
              "      <td>0.0</td>\n",
              "    </tr>\n",
              "    <tr>\n",
              "      <th>2018-03-28</th>\n",
              "      <td>0</td>\n",
              "      <td>0</td>\n",
              "      <td>1</td>\n",
              "      <td>0</td>\n",
              "      <td>0</td>\n",
              "      <td>0</td>\n",
              "      <td>...</td>\n",
              "      <td>0.0</td>\n",
              "      <td>0.0</td>\n",
              "      <td>0.0</td>\n",
              "      <td>0.0</td>\n",
              "      <td>0.0</td>\n",
              "      <td>0.0</td>\n",
              "    </tr>\n",
              "    <tr>\n",
              "      <th>2018-03-29</th>\n",
              "      <td>0</td>\n",
              "      <td>0</td>\n",
              "      <td>0</td>\n",
              "      <td>1</td>\n",
              "      <td>0</td>\n",
              "      <td>0</td>\n",
              "      <td>...</td>\n",
              "      <td>0.0</td>\n",
              "      <td>0.0</td>\n",
              "      <td>0.0</td>\n",
              "      <td>0.0</td>\n",
              "      <td>0.0</td>\n",
              "      <td>0.0</td>\n",
              "    </tr>\n",
              "    <tr>\n",
              "      <th>2018-03-30</th>\n",
              "      <td>0</td>\n",
              "      <td>0</td>\n",
              "      <td>0</td>\n",
              "      <td>0</td>\n",
              "      <td>1</td>\n",
              "      <td>0</td>\n",
              "      <td>...</td>\n",
              "      <td>0.0</td>\n",
              "      <td>0.0</td>\n",
              "      <td>0.0</td>\n",
              "      <td>0.0</td>\n",
              "      <td>0.0</td>\n",
              "      <td>0.0</td>\n",
              "    </tr>\n",
              "    <tr>\n",
              "      <th>2018-03-31</th>\n",
              "      <td>0</td>\n",
              "      <td>0</td>\n",
              "      <td>0</td>\n",
              "      <td>0</td>\n",
              "      <td>0</td>\n",
              "      <td>1</td>\n",
              "      <td>...</td>\n",
              "      <td>0.0</td>\n",
              "      <td>0.0</td>\n",
              "      <td>0.0</td>\n",
              "      <td>0.0</td>\n",
              "      <td>0.0</td>\n",
              "      <td>0.0</td>\n",
              "    </tr>\n",
              "  </tbody>\n",
              "</table>\n",
              "<p>5 rows × 1020 columns</p>\n",
              "</div>"
            ],
            "text/plain": [
              "            weekday_0  weekday_1  weekday_2  weekday_3  weekday_4  weekday_5  \\\n",
              "date                                                                           \n",
              "2018-03-27          0          1          0          0          0          0   \n",
              "2018-03-28          0          0          1          0          0          0   \n",
              "2018-03-29          0          0          0          1          0          0   \n",
              "2018-03-30          0          0          0          0          1          0   \n",
              "2018-03-31          0          0          0          0          0          1   \n",
              "\n",
              "            ...  item_9_store_4_sales  item_9_store_5_sales  \\\n",
              "date        ...                                               \n",
              "2018-03-27  ...                   0.0                   0.0   \n",
              "2018-03-28  ...                   0.0                   0.0   \n",
              "2018-03-29  ...                   0.0                   0.0   \n",
              "2018-03-30  ...                   0.0                   0.0   \n",
              "2018-03-31  ...                   0.0                   0.0   \n",
              "\n",
              "            item_9_store_6_sales  item_9_store_7_sales  item_9_store_8_sales  \\\n",
              "date                                                                           \n",
              "2018-03-27                   0.0                   0.0                   0.0   \n",
              "2018-03-28                   0.0                   0.0                   0.0   \n",
              "2018-03-29                   0.0                   0.0                   0.0   \n",
              "2018-03-30                   0.0                   0.0                   0.0   \n",
              "2018-03-31                   0.0                   0.0                   0.0   \n",
              "\n",
              "            item_9_store_9_sales  \n",
              "date                              \n",
              "2018-03-27                   0.0  \n",
              "2018-03-28                   0.0  \n",
              "2018-03-29                   0.0  \n",
              "2018-03-30                   0.0  \n",
              "2018-03-31                   0.0  \n",
              "\n",
              "[5 rows x 1020 columns]"
            ]
          },
          "metadata": {
            "tags": []
          },
          "execution_count": 26
        }
      ]
    },
    {
      "cell_type": "code",
      "metadata": {
        "trusted": true,
        "colab": {
          "base_uri": "https://localhost:8080/",
          "height": 0
        },
        "id": "tuyh2kcdc49l",
        "outputId": "25a5c15e-f133-4c52-8f88-8cdccdef8374"
      },
      "source": [
        "df_total.describe()"
      ],
      "execution_count": 27,
      "outputs": [
        {
          "output_type": "execute_result",
          "data": {
            "text/html": [
              "<div>\n",
              "<style scoped>\n",
              "    .dataframe tbody tr th:only-of-type {\n",
              "        vertical-align: middle;\n",
              "    }\n",
              "\n",
              "    .dataframe tbody tr th {\n",
              "        vertical-align: top;\n",
              "    }\n",
              "\n",
              "    .dataframe thead th {\n",
              "        text-align: right;\n",
              "    }\n",
              "</style>\n",
              "<table border=\"1\" class=\"dataframe\">\n",
              "  <thead>\n",
              "    <tr style=\"text-align: right;\">\n",
              "      <th></th>\n",
              "      <th>weekday_0</th>\n",
              "      <th>weekday_1</th>\n",
              "      <th>weekday_2</th>\n",
              "      <th>weekday_3</th>\n",
              "      <th>weekday_4</th>\n",
              "      <th>weekday_5</th>\n",
              "      <th>...</th>\n",
              "      <th>item_9_store_4_sales</th>\n",
              "      <th>item_9_store_5_sales</th>\n",
              "      <th>item_9_store_6_sales</th>\n",
              "      <th>item_9_store_7_sales</th>\n",
              "      <th>item_9_store_8_sales</th>\n",
              "      <th>item_9_store_9_sales</th>\n",
              "    </tr>\n",
              "  </thead>\n",
              "  <tbody>\n",
              "    <tr>\n",
              "      <th>count</th>\n",
              "      <td>1915.000000</td>\n",
              "      <td>1915.000000</td>\n",
              "      <td>1915.000000</td>\n",
              "      <td>1915.000000</td>\n",
              "      <td>1915.000000</td>\n",
              "      <td>1915.000000</td>\n",
              "      <td>...</td>\n",
              "      <td>1915.000000</td>\n",
              "      <td>1915.000000</td>\n",
              "      <td>1915.000000</td>\n",
              "      <td>1915.000000</td>\n",
              "      <td>1915.000000</td>\n",
              "      <td>1915.000000</td>\n",
              "    </tr>\n",
              "    <tr>\n",
              "      <th>mean</th>\n",
              "      <td>0.142559</td>\n",
              "      <td>0.142559</td>\n",
              "      <td>0.143081</td>\n",
              "      <td>0.143081</td>\n",
              "      <td>0.143081</td>\n",
              "      <td>0.143081</td>\n",
              "      <td>...</td>\n",
              "      <td>51.522193</td>\n",
              "      <td>37.021410</td>\n",
              "      <td>37.613055</td>\n",
              "      <td>34.219321</td>\n",
              "      <td>60.241253</td>\n",
              "      <td>51.577023</td>\n",
              "    </tr>\n",
              "    <tr>\n",
              "      <th>std</th>\n",
              "      <td>0.349714</td>\n",
              "      <td>0.349714</td>\n",
              "      <td>0.350247</td>\n",
              "      <td>0.350247</td>\n",
              "      <td>0.350247</td>\n",
              "      <td>0.350247</td>\n",
              "      <td>...</td>\n",
              "      <td>18.707446</td>\n",
              "      <td>13.864136</td>\n",
              "      <td>13.968996</td>\n",
              "      <td>12.788732</td>\n",
              "      <td>21.714863</td>\n",
              "      <td>18.706826</td>\n",
              "    </tr>\n",
              "    <tr>\n",
              "      <th>min</th>\n",
              "      <td>0.000000</td>\n",
              "      <td>0.000000</td>\n",
              "      <td>0.000000</td>\n",
              "      <td>0.000000</td>\n",
              "      <td>0.000000</td>\n",
              "      <td>0.000000</td>\n",
              "      <td>...</td>\n",
              "      <td>0.000000</td>\n",
              "      <td>0.000000</td>\n",
              "      <td>0.000000</td>\n",
              "      <td>0.000000</td>\n",
              "      <td>0.000000</td>\n",
              "      <td>0.000000</td>\n",
              "    </tr>\n",
              "    <tr>\n",
              "      <th>25%</th>\n",
              "      <td>0.000000</td>\n",
              "      <td>0.000000</td>\n",
              "      <td>0.000000</td>\n",
              "      <td>0.000000</td>\n",
              "      <td>0.000000</td>\n",
              "      <td>0.000000</td>\n",
              "      <td>...</td>\n",
              "      <td>41.000000</td>\n",
              "      <td>29.000000</td>\n",
              "      <td>30.000000</td>\n",
              "      <td>27.000000</td>\n",
              "      <td>48.000000</td>\n",
              "      <td>41.000000</td>\n",
              "    </tr>\n",
              "    <tr>\n",
              "      <th>50%</th>\n",
              "      <td>0.000000</td>\n",
              "      <td>0.000000</td>\n",
              "      <td>0.000000</td>\n",
              "      <td>0.000000</td>\n",
              "      <td>0.000000</td>\n",
              "      <td>0.000000</td>\n",
              "      <td>...</td>\n",
              "      <td>52.000000</td>\n",
              "      <td>38.000000</td>\n",
              "      <td>38.000000</td>\n",
              "      <td>35.000000</td>\n",
              "      <td>61.000000</td>\n",
              "      <td>52.000000</td>\n",
              "    </tr>\n",
              "    <tr>\n",
              "      <th>75%</th>\n",
              "      <td>0.000000</td>\n",
              "      <td>0.000000</td>\n",
              "      <td>0.000000</td>\n",
              "      <td>0.000000</td>\n",
              "      <td>0.000000</td>\n",
              "      <td>0.000000</td>\n",
              "      <td>...</td>\n",
              "      <td>64.000000</td>\n",
              "      <td>46.000000</td>\n",
              "      <td>46.000000</td>\n",
              "      <td>42.000000</td>\n",
              "      <td>74.000000</td>\n",
              "      <td>63.000000</td>\n",
              "    </tr>\n",
              "    <tr>\n",
              "      <th>max</th>\n",
              "      <td>1.000000</td>\n",
              "      <td>1.000000</td>\n",
              "      <td>1.000000</td>\n",
              "      <td>1.000000</td>\n",
              "      <td>1.000000</td>\n",
              "      <td>1.000000</td>\n",
              "      <td>...</td>\n",
              "      <td>111.000000</td>\n",
              "      <td>84.000000</td>\n",
              "      <td>81.000000</td>\n",
              "      <td>78.000000</td>\n",
              "      <td>134.000000</td>\n",
              "      <td>110.000000</td>\n",
              "    </tr>\n",
              "  </tbody>\n",
              "</table>\n",
              "<p>8 rows × 1019 columns</p>\n",
              "</div>"
            ],
            "text/plain": [
              "         weekday_0    weekday_1    weekday_2    weekday_3    weekday_4  \\\n",
              "count  1915.000000  1915.000000  1915.000000  1915.000000  1915.000000   \n",
              "mean      0.142559     0.142559     0.143081     0.143081     0.143081   \n",
              "std       0.349714     0.349714     0.350247     0.350247     0.350247   \n",
              "min       0.000000     0.000000     0.000000     0.000000     0.000000   \n",
              "25%       0.000000     0.000000     0.000000     0.000000     0.000000   \n",
              "50%       0.000000     0.000000     0.000000     0.000000     0.000000   \n",
              "75%       0.000000     0.000000     0.000000     0.000000     0.000000   \n",
              "max       1.000000     1.000000     1.000000     1.000000     1.000000   \n",
              "\n",
              "         weekday_5  ...  item_9_store_4_sales  item_9_store_5_sales  \\\n",
              "count  1915.000000  ...           1915.000000           1915.000000   \n",
              "mean      0.143081  ...             51.522193             37.021410   \n",
              "std       0.350247  ...             18.707446             13.864136   \n",
              "min       0.000000  ...              0.000000              0.000000   \n",
              "25%       0.000000  ...             41.000000             29.000000   \n",
              "50%       0.000000  ...             52.000000             38.000000   \n",
              "75%       0.000000  ...             64.000000             46.000000   \n",
              "max       1.000000  ...            111.000000             84.000000   \n",
              "\n",
              "       item_9_store_6_sales  item_9_store_7_sales  item_9_store_8_sales  \\\n",
              "count           1915.000000           1915.000000           1915.000000   \n",
              "mean              37.613055             34.219321             60.241253   \n",
              "std               13.968996             12.788732             21.714863   \n",
              "min                0.000000              0.000000              0.000000   \n",
              "25%               30.000000             27.000000             48.000000   \n",
              "50%               38.000000             35.000000             61.000000   \n",
              "75%               46.000000             42.000000             74.000000   \n",
              "max               81.000000             78.000000            134.000000   \n",
              "\n",
              "       item_9_store_9_sales  \n",
              "count           1915.000000  \n",
              "mean              51.577023  \n",
              "std               18.706826  \n",
              "min                0.000000  \n",
              "25%               41.000000  \n",
              "50%               52.000000  \n",
              "75%               63.000000  \n",
              "max              110.000000  \n",
              "\n",
              "[8 rows x 1019 columns]"
            ]
          },
          "metadata": {
            "tags": []
          },
          "execution_count": 27
        }
      ]
    },
    {
      "cell_type": "code",
      "metadata": {
        "trusted": true,
        "id": "OoaP71ikc49l"
      },
      "source": [
        "assert df_total.isna().any().any() == False"
      ],
      "execution_count": 28,
      "outputs": []
    },
    {
      "cell_type": "markdown",
      "metadata": {
        "id": "Qfax3X-5c49m"
      },
      "source": [
        "## Scaling\n",
        "With combined datasets and shifted sales, we can now correctly min-max scale all data."
      ]
    },
    {
      "cell_type": "code",
      "metadata": {
        "trusted": true,
        "id": "FlBIa4tHc49m"
      },
      "source": [
        "from sklearn.preprocessing import MinMaxScaler\n",
        "from sklearn.model_selection import train_test_split"
      ],
      "execution_count": 29,
      "outputs": []
    },
    {
      "cell_type": "code",
      "metadata": {
        "trusted": true,
        "id": "8vuNjb0Qc49m"
      },
      "source": [
        "cols_to_scale = [col for col in df_total.columns if 'weekday' not in col and 'month' not in col]"
      ],
      "execution_count": 30,
      "outputs": []
    },
    {
      "cell_type": "code",
      "metadata": {
        "trusted": true,
        "colab": {
          "base_uri": "https://localhost:8080/",
          "height": 0
        },
        "id": "npMTcC8Ac49m",
        "outputId": "62e82c5a-6cd8-4d6a-e866-ff52d7983b50"
      },
      "source": [
        "scaler = MinMaxScaler(feature_range=(0,1))\n",
        "scaled_cols = scaler.fit_transform(df_total[cols_to_scale])\n",
        "df_total[cols_to_scale] = scaled_cols\n",
        "df_total.head()"
      ],
      "execution_count": 31,
      "outputs": [
        {
          "output_type": "execute_result",
          "data": {
            "text/html": [
              "<div>\n",
              "<style scoped>\n",
              "    .dataframe tbody tr th:only-of-type {\n",
              "        vertical-align: middle;\n",
              "    }\n",
              "\n",
              "    .dataframe tbody tr th {\n",
              "        vertical-align: top;\n",
              "    }\n",
              "\n",
              "    .dataframe thead th {\n",
              "        text-align: right;\n",
              "    }\n",
              "</style>\n",
              "<table border=\"1\" class=\"dataframe\">\n",
              "  <thead>\n",
              "    <tr style=\"text-align: right;\">\n",
              "      <th></th>\n",
              "      <th>weekday_0</th>\n",
              "      <th>weekday_1</th>\n",
              "      <th>weekday_2</th>\n",
              "      <th>weekday_3</th>\n",
              "      <th>weekday_4</th>\n",
              "      <th>weekday_5</th>\n",
              "      <th>...</th>\n",
              "      <th>item_9_store_4_sales</th>\n",
              "      <th>item_9_store_5_sales</th>\n",
              "      <th>item_9_store_6_sales</th>\n",
              "      <th>item_9_store_7_sales</th>\n",
              "      <th>item_9_store_8_sales</th>\n",
              "      <th>item_9_store_9_sales</th>\n",
              "    </tr>\n",
              "    <tr>\n",
              "      <th>date</th>\n",
              "      <th></th>\n",
              "      <th></th>\n",
              "      <th></th>\n",
              "      <th></th>\n",
              "      <th></th>\n",
              "      <th></th>\n",
              "      <th></th>\n",
              "      <th></th>\n",
              "      <th></th>\n",
              "      <th></th>\n",
              "      <th></th>\n",
              "      <th></th>\n",
              "      <th></th>\n",
              "    </tr>\n",
              "  </thead>\n",
              "  <tbody>\n",
              "    <tr>\n",
              "      <th>2013-01-02</th>\n",
              "      <td>0</td>\n",
              "      <td>0</td>\n",
              "      <td>1</td>\n",
              "      <td>0</td>\n",
              "      <td>0</td>\n",
              "      <td>0</td>\n",
              "      <td>...</td>\n",
              "      <td>0.189189</td>\n",
              "      <td>0.238095</td>\n",
              "      <td>0.209877</td>\n",
              "      <td>0.256410</td>\n",
              "      <td>0.208955</td>\n",
              "      <td>0.327273</td>\n",
              "    </tr>\n",
              "    <tr>\n",
              "      <th>2013-01-03</th>\n",
              "      <td>0</td>\n",
              "      <td>0</td>\n",
              "      <td>0</td>\n",
              "      <td>1</td>\n",
              "      <td>0</td>\n",
              "      <td>0</td>\n",
              "      <td>...</td>\n",
              "      <td>0.225225</td>\n",
              "      <td>0.178571</td>\n",
              "      <td>0.345679</td>\n",
              "      <td>0.230769</td>\n",
              "      <td>0.231343</td>\n",
              "      <td>0.227273</td>\n",
              "    </tr>\n",
              "    <tr>\n",
              "      <th>2013-01-04</th>\n",
              "      <td>0</td>\n",
              "      <td>0</td>\n",
              "      <td>0</td>\n",
              "      <td>0</td>\n",
              "      <td>1</td>\n",
              "      <td>0</td>\n",
              "      <td>...</td>\n",
              "      <td>0.333333</td>\n",
              "      <td>0.238095</td>\n",
              "      <td>0.407407</td>\n",
              "      <td>0.307692</td>\n",
              "      <td>0.343284</td>\n",
              "      <td>0.281818</td>\n",
              "    </tr>\n",
              "    <tr>\n",
              "      <th>2013-01-05</th>\n",
              "      <td>0</td>\n",
              "      <td>0</td>\n",
              "      <td>0</td>\n",
              "      <td>0</td>\n",
              "      <td>0</td>\n",
              "      <td>1</td>\n",
              "      <td>...</td>\n",
              "      <td>0.333333</td>\n",
              "      <td>0.273810</td>\n",
              "      <td>0.333333</td>\n",
              "      <td>0.179487</td>\n",
              "      <td>0.261194</td>\n",
              "      <td>0.272727</td>\n",
              "    </tr>\n",
              "    <tr>\n",
              "      <th>2013-01-06</th>\n",
              "      <td>0</td>\n",
              "      <td>0</td>\n",
              "      <td>0</td>\n",
              "      <td>0</td>\n",
              "      <td>0</td>\n",
              "      <td>0</td>\n",
              "      <td>...</td>\n",
              "      <td>0.333333</td>\n",
              "      <td>0.345238</td>\n",
              "      <td>0.246914</td>\n",
              "      <td>0.307692</td>\n",
              "      <td>0.253731</td>\n",
              "      <td>0.318182</td>\n",
              "    </tr>\n",
              "  </tbody>\n",
              "</table>\n",
              "<p>5 rows × 1020 columns</p>\n",
              "</div>"
            ],
            "text/plain": [
              "            weekday_0  weekday_1  weekday_2  weekday_3  weekday_4  weekday_5  \\\n",
              "date                                                                           \n",
              "2013-01-02          0          0          1          0          0          0   \n",
              "2013-01-03          0          0          0          1          0          0   \n",
              "2013-01-04          0          0          0          0          1          0   \n",
              "2013-01-05          0          0          0          0          0          1   \n",
              "2013-01-06          0          0          0          0          0          0   \n",
              "\n",
              "            ...  item_9_store_4_sales  item_9_store_5_sales  \\\n",
              "date        ...                                               \n",
              "2013-01-02  ...              0.189189              0.238095   \n",
              "2013-01-03  ...              0.225225              0.178571   \n",
              "2013-01-04  ...              0.333333              0.238095   \n",
              "2013-01-05  ...              0.333333              0.273810   \n",
              "2013-01-06  ...              0.333333              0.345238   \n",
              "\n",
              "            item_9_store_6_sales  item_9_store_7_sales  item_9_store_8_sales  \\\n",
              "date                                                                           \n",
              "2013-01-02              0.209877              0.256410              0.208955   \n",
              "2013-01-03              0.345679              0.230769              0.231343   \n",
              "2013-01-04              0.407407              0.307692              0.343284   \n",
              "2013-01-05              0.333333              0.179487              0.261194   \n",
              "2013-01-06              0.246914              0.307692              0.253731   \n",
              "\n",
              "            item_9_store_9_sales  \n",
              "date                              \n",
              "2013-01-02              0.327273  \n",
              "2013-01-03              0.227273  \n",
              "2013-01-04              0.281818  \n",
              "2013-01-05              0.272727  \n",
              "2013-01-06              0.318182  \n",
              "\n",
              "[5 rows x 1020 columns]"
            ]
          },
          "metadata": {
            "tags": []
          },
          "execution_count": 31
        }
      ]
    },
    {
      "cell_type": "code",
      "metadata": {
        "trusted": true,
        "colab": {
          "base_uri": "https://localhost:8080/",
          "height": 0
        },
        "id": "C4IF4q1jc49m",
        "outputId": "b20213c2-fb55-4225-8be2-3e280116aee6"
      },
      "source": [
        "df_total.describe()"
      ],
      "execution_count": 32,
      "outputs": [
        {
          "output_type": "execute_result",
          "data": {
            "text/html": [
              "<div>\n",
              "<style scoped>\n",
              "    .dataframe tbody tr th:only-of-type {\n",
              "        vertical-align: middle;\n",
              "    }\n",
              "\n",
              "    .dataframe tbody tr th {\n",
              "        vertical-align: top;\n",
              "    }\n",
              "\n",
              "    .dataframe thead th {\n",
              "        text-align: right;\n",
              "    }\n",
              "</style>\n",
              "<table border=\"1\" class=\"dataframe\">\n",
              "  <thead>\n",
              "    <tr style=\"text-align: right;\">\n",
              "      <th></th>\n",
              "      <th>weekday_0</th>\n",
              "      <th>weekday_1</th>\n",
              "      <th>weekday_2</th>\n",
              "      <th>weekday_3</th>\n",
              "      <th>weekday_4</th>\n",
              "      <th>weekday_5</th>\n",
              "      <th>...</th>\n",
              "      <th>item_9_store_4_sales</th>\n",
              "      <th>item_9_store_5_sales</th>\n",
              "      <th>item_9_store_6_sales</th>\n",
              "      <th>item_9_store_7_sales</th>\n",
              "      <th>item_9_store_8_sales</th>\n",
              "      <th>item_9_store_9_sales</th>\n",
              "    </tr>\n",
              "  </thead>\n",
              "  <tbody>\n",
              "    <tr>\n",
              "      <th>count</th>\n",
              "      <td>1915.000000</td>\n",
              "      <td>1915.000000</td>\n",
              "      <td>1915.000000</td>\n",
              "      <td>1915.000000</td>\n",
              "      <td>1915.000000</td>\n",
              "      <td>1915.000000</td>\n",
              "      <td>...</td>\n",
              "      <td>1915.000000</td>\n",
              "      <td>1915.000000</td>\n",
              "      <td>1915.000000</td>\n",
              "      <td>1915.000000</td>\n",
              "      <td>1915.000000</td>\n",
              "      <td>1915.000000</td>\n",
              "    </tr>\n",
              "    <tr>\n",
              "      <th>mean</th>\n",
              "      <td>0.142559</td>\n",
              "      <td>0.142559</td>\n",
              "      <td>0.143081</td>\n",
              "      <td>0.143081</td>\n",
              "      <td>0.143081</td>\n",
              "      <td>0.143081</td>\n",
              "      <td>...</td>\n",
              "      <td>0.464164</td>\n",
              "      <td>0.440731</td>\n",
              "      <td>0.464359</td>\n",
              "      <td>0.438709</td>\n",
              "      <td>0.449562</td>\n",
              "      <td>0.468882</td>\n",
              "    </tr>\n",
              "    <tr>\n",
              "      <th>std</th>\n",
              "      <td>0.349714</td>\n",
              "      <td>0.349714</td>\n",
              "      <td>0.350247</td>\n",
              "      <td>0.350247</td>\n",
              "      <td>0.350247</td>\n",
              "      <td>0.350247</td>\n",
              "      <td>...</td>\n",
              "      <td>0.168536</td>\n",
              "      <td>0.165049</td>\n",
              "      <td>0.172457</td>\n",
              "      <td>0.163958</td>\n",
              "      <td>0.162051</td>\n",
              "      <td>0.170062</td>\n",
              "    </tr>\n",
              "    <tr>\n",
              "      <th>min</th>\n",
              "      <td>0.000000</td>\n",
              "      <td>0.000000</td>\n",
              "      <td>0.000000</td>\n",
              "      <td>0.000000</td>\n",
              "      <td>0.000000</td>\n",
              "      <td>0.000000</td>\n",
              "      <td>...</td>\n",
              "      <td>0.000000</td>\n",
              "      <td>0.000000</td>\n",
              "      <td>0.000000</td>\n",
              "      <td>0.000000</td>\n",
              "      <td>0.000000</td>\n",
              "      <td>0.000000</td>\n",
              "    </tr>\n",
              "    <tr>\n",
              "      <th>25%</th>\n",
              "      <td>0.000000</td>\n",
              "      <td>0.000000</td>\n",
              "      <td>0.000000</td>\n",
              "      <td>0.000000</td>\n",
              "      <td>0.000000</td>\n",
              "      <td>0.000000</td>\n",
              "      <td>...</td>\n",
              "      <td>0.369369</td>\n",
              "      <td>0.345238</td>\n",
              "      <td>0.370370</td>\n",
              "      <td>0.346154</td>\n",
              "      <td>0.358209</td>\n",
              "      <td>0.372727</td>\n",
              "    </tr>\n",
              "    <tr>\n",
              "      <th>50%</th>\n",
              "      <td>0.000000</td>\n",
              "      <td>0.000000</td>\n",
              "      <td>0.000000</td>\n",
              "      <td>0.000000</td>\n",
              "      <td>0.000000</td>\n",
              "      <td>0.000000</td>\n",
              "      <td>...</td>\n",
              "      <td>0.468468</td>\n",
              "      <td>0.452381</td>\n",
              "      <td>0.469136</td>\n",
              "      <td>0.448718</td>\n",
              "      <td>0.455224</td>\n",
              "      <td>0.472727</td>\n",
              "    </tr>\n",
              "    <tr>\n",
              "      <th>75%</th>\n",
              "      <td>0.000000</td>\n",
              "      <td>0.000000</td>\n",
              "      <td>0.000000</td>\n",
              "      <td>0.000000</td>\n",
              "      <td>0.000000</td>\n",
              "      <td>0.000000</td>\n",
              "      <td>...</td>\n",
              "      <td>0.576577</td>\n",
              "      <td>0.547619</td>\n",
              "      <td>0.567901</td>\n",
              "      <td>0.538462</td>\n",
              "      <td>0.552239</td>\n",
              "      <td>0.572727</td>\n",
              "    </tr>\n",
              "    <tr>\n",
              "      <th>max</th>\n",
              "      <td>1.000000</td>\n",
              "      <td>1.000000</td>\n",
              "      <td>1.000000</td>\n",
              "      <td>1.000000</td>\n",
              "      <td>1.000000</td>\n",
              "      <td>1.000000</td>\n",
              "      <td>...</td>\n",
              "      <td>1.000000</td>\n",
              "      <td>1.000000</td>\n",
              "      <td>1.000000</td>\n",
              "      <td>1.000000</td>\n",
              "      <td>1.000000</td>\n",
              "      <td>1.000000</td>\n",
              "    </tr>\n",
              "  </tbody>\n",
              "</table>\n",
              "<p>8 rows × 1020 columns</p>\n",
              "</div>"
            ],
            "text/plain": [
              "         weekday_0    weekday_1    weekday_2    weekday_3    weekday_4  \\\n",
              "count  1915.000000  1915.000000  1915.000000  1915.000000  1915.000000   \n",
              "mean      0.142559     0.142559     0.143081     0.143081     0.143081   \n",
              "std       0.349714     0.349714     0.350247     0.350247     0.350247   \n",
              "min       0.000000     0.000000     0.000000     0.000000     0.000000   \n",
              "25%       0.000000     0.000000     0.000000     0.000000     0.000000   \n",
              "50%       0.000000     0.000000     0.000000     0.000000     0.000000   \n",
              "75%       0.000000     0.000000     0.000000     0.000000     0.000000   \n",
              "max       1.000000     1.000000     1.000000     1.000000     1.000000   \n",
              "\n",
              "         weekday_5  ...  item_9_store_4_sales  item_9_store_5_sales  \\\n",
              "count  1915.000000  ...           1915.000000           1915.000000   \n",
              "mean      0.143081  ...              0.464164              0.440731   \n",
              "std       0.350247  ...              0.168536              0.165049   \n",
              "min       0.000000  ...              0.000000              0.000000   \n",
              "25%       0.000000  ...              0.369369              0.345238   \n",
              "50%       0.000000  ...              0.468468              0.452381   \n",
              "75%       0.000000  ...              0.576577              0.547619   \n",
              "max       1.000000  ...              1.000000              1.000000   \n",
              "\n",
              "       item_9_store_6_sales  item_9_store_7_sales  item_9_store_8_sales  \\\n",
              "count           1915.000000           1915.000000           1915.000000   \n",
              "mean               0.464359              0.438709              0.449562   \n",
              "std                0.172457              0.163958              0.162051   \n",
              "min                0.000000              0.000000              0.000000   \n",
              "25%                0.370370              0.346154              0.358209   \n",
              "50%                0.469136              0.448718              0.455224   \n",
              "75%                0.567901              0.538462              0.552239   \n",
              "max                1.000000              1.000000              1.000000   \n",
              "\n",
              "       item_9_store_9_sales  \n",
              "count           1915.000000  \n",
              "mean               0.468882  \n",
              "std                0.170062  \n",
              "min                0.000000  \n",
              "25%                0.372727  \n",
              "50%                0.472727  \n",
              "75%                0.572727  \n",
              "max                1.000000  \n",
              "\n",
              "[8 rows x 1020 columns]"
            ]
          },
          "metadata": {
            "tags": []
          },
          "execution_count": 32
        }
      ]
    },
    {
      "cell_type": "markdown",
      "metadata": {
        "id": "G0a2JoMbc49m"
      },
      "source": [
        "## Split data to train and test set\n",
        "`df_total` will be still available - it will be necessary to reverse scaling on output data (sales predictions from the model)"
      ]
    },
    {
      "cell_type": "code",
      "metadata": {
        "trusted": true,
        "id": "jjR7EtmPc49m"
      },
      "source": [
        "df_train = df_total[df_total['is_test'] == False].drop('is_test', axis=1)\n",
        "df_test = df_total[df_total['is_test'] == True].drop('is_test', axis=1)"
      ],
      "execution_count": 33,
      "outputs": []
    },
    {
      "cell_type": "code",
      "metadata": {
        "trusted": true,
        "colab": {
          "base_uri": "https://localhost:8080/"
        },
        "id": "NhxIuqY4c49n",
        "outputId": "7a28b72a-c582-48b8-ee46-01aac54a2270"
      },
      "source": [
        "df_train.info()"
      ],
      "execution_count": 34,
      "outputs": [
        {
          "output_type": "stream",
          "text": [
            "<class 'pandas.core.frame.DataFrame'>\n",
            "DatetimeIndex: 1825 entries, 2013-01-02 to 2017-12-31\n",
            "Columns: 1019 entries, weekday_0 to item_9_store_9_sales\n",
            "dtypes: float64(1000), uint8(19)\n",
            "memory usage: 14.0 MB\n"
          ],
          "name": "stdout"
        }
      ]
    },
    {
      "cell_type": "markdown",
      "metadata": {
        "id": "mXwCZCSkc49n"
      },
      "source": [
        "## Split to X and y (for training)"
      ]
    },
    {
      "cell_type": "code",
      "metadata": {
        "trusted": true,
        "id": "gcxeUqrWc49n"
      },
      "source": [
        "X_cols_stacked = [col for col in df_train.columns if '_past_' in col]\n",
        "X_cols_caldata = [col for col in df_train.columns if 'weekday_' in col or 'month_' in col]\n",
        "X_cols = X_cols_stacked + X_cols_caldata\n",
        "\n",
        "X = df_train[X_cols]"
      ],
      "execution_count": 35,
      "outputs": []
    },
    {
      "cell_type": "code",
      "metadata": {
        "trusted": true,
        "id": "cSfjz15Uc49n"
      },
      "source": [
        "X_colset = set(X_cols)\n",
        "y_cols = [col for col in df_train.columns if col not in X_colset]\n",
        "\n",
        "y = df_train[y_cols]"
      ],
      "execution_count": 36,
      "outputs": []
    },
    {
      "cell_type": "code",
      "metadata": {
        "trusted": true,
        "colab": {
          "base_uri": "https://localhost:8080/"
        },
        "id": "rTlzUvEHc49o",
        "outputId": "eeb7e9a4-fb98-4ee6-bbf4-803e61ab89d2"
      },
      "source": [
        "X.info()"
      ],
      "execution_count": 37,
      "outputs": [
        {
          "output_type": "stream",
          "text": [
            "<class 'pandas.core.frame.DataFrame'>\n",
            "DatetimeIndex: 1825 entries, 2013-01-02 to 2017-12-31\n",
            "Columns: 519 entries, item_10_store_10_sales_past_1 to month_12\n",
            "dtypes: float64(500), uint8(19)\n",
            "memory usage: 7.0 MB\n"
          ],
          "name": "stdout"
        }
      ]
    },
    {
      "cell_type": "code",
      "metadata": {
        "trusted": true,
        "colab": {
          "base_uri": "https://localhost:8080/"
        },
        "id": "iWBOmasLc49o",
        "outputId": "cb0eaf23-2e09-4e38-9254-302f18b21799"
      },
      "source": [
        "y.info()"
      ],
      "execution_count": 38,
      "outputs": [
        {
          "output_type": "stream",
          "text": [
            "<class 'pandas.core.frame.DataFrame'>\n",
            "DatetimeIndex: 1825 entries, 2013-01-02 to 2017-12-31\n",
            "Columns: 500 entries, item_10_store_10_sales to item_9_store_9_sales\n",
            "dtypes: float64(500)\n",
            "memory usage: 7.0 MB\n"
          ],
          "name": "stdout"
        }
      ]
    },
    {
      "cell_type": "markdown",
      "metadata": {
        "id": "fa_5uk3Tc49o"
      },
      "source": [
        "## Shape for Keras LSTM"
      ]
    },
    {
      "cell_type": "code",
      "metadata": {
        "trusted": true,
        "id": "UQfWT3dfc49o"
      },
      "source": [
        "# split values to train and test, use np arrays to allow reshaping\n",
        "X_train, X_valid, y_train, y_valid = train_test_split(X, y, test_size=0.2, shuffle=False)"
      ],
      "execution_count": 39,
      "outputs": []
    },
    {
      "cell_type": "code",
      "metadata": {
        "trusted": true,
        "id": "FAdHRfeKc49o"
      },
      "source": [
        "# reshape inputs to be 3d, as in: https://machinelearningmastery.com/multivariate-time-series-forecasting-lstms-keras/\n",
        "X_train_vals = X_train.values.reshape((X_train.shape[0], 1, X_train.shape[1]))\n",
        "X_valid_vals = X_valid.values.reshape((X_valid.shape[0], 1, X_valid.shape[1]))"
      ],
      "execution_count": 40,
      "outputs": []
    },
    {
      "cell_type": "markdown",
      "metadata": {
        "id": "OyvhCAUrc49o"
      },
      "source": [
        "## Training LSTM\n",
        "Using features for all storeitems (stacked sales from previous day) to predict sales for one storeitem (sales for current day).\n"
      ]
    },
    {
      "cell_type": "code",
      "metadata": {
        "trusted": true,
        "id": "AUqnOukIc49o"
      },
      "source": [
        "from keras.models import Sequential, Model\n",
        "from keras.layers import *"
      ],
      "execution_count": 41,
      "outputs": []
    },
    {
      "cell_type": "code",
      "metadata": {
        "trusted": true,
        "id": "osllHLeEc49o"
      },
      "source": [
        "# model alternative 2 - double with conv1ds TODO\n",
        "# https://arxiv.org/pdf/1709.05206.pdf\n",
        "def build_model():\n",
        "    inputs = Input(shape=(X_train_vals.shape[1], X_train_vals.shape[2]))\n",
        "    # top pipeline\n",
        "    top_lstm = LSTM(500, return_sequences=True)(inputs)\n",
        "    top_dense = Dense(500, activation='relu')(top_lstm)\n",
        "    # bottom pipeline\n",
        "    bottom_dense = Dense(500)(inputs)\n",
        "    bottom_conv1 = Conv1D(\n",
        "        500, \n",
        "        kernel_size=1,\n",
        "        input_shape=(X_train_vals.shape[1], X_train_vals.shape[2])\n",
        "    )(bottom_dense)\n",
        "    bottom_conv2 = Conv1D(\n",
        "        1000,\n",
        "        kernel_size=50,\n",
        "        padding='same',\n",
        "        activation='relu'\n",
        "    )(bottom_conv1)\n",
        "    bottom_conv3 = Conv1D(\n",
        "        500,\n",
        "        kernel_size=10,\n",
        "        padding='same',\n",
        "        activation='relu'\n",
        "    )(bottom_conv2)\n",
        "    bottom_pooling = AvgPool1D(\n",
        "        pool_size=10, \n",
        "        padding='same'\n",
        "    )(bottom_conv3)\n",
        "#     bottom_reshape = Reshape(\n",
        "#         target_shape=[500]\n",
        "#     )(bottom_conv3)\n",
        "    # concat output\n",
        "    final_concat = Concatenate()([top_dense, bottom_pooling])\n",
        "    final_lstm = LSTM(1000, dropout=0.2)(final_concat)\n",
        "    final_dense = Dense(500)(final_lstm)\n",
        "    # compile and return\n",
        "    model = Model(inputs=inputs, outputs=final_dense)\n",
        "    model.compile(loss='mean_absolute_error', optimizer='adam', metrics=['mape'])\n",
        "    return model\n",
        "\n",
        "model = build_model()"
      ],
      "execution_count": 42,
      "outputs": []
    },
    {
      "cell_type": "code",
      "metadata": {
        "trusted": true,
        "colab": {
          "base_uri": "https://localhost:8080/",
          "height": 391
        },
        "id": "G6T656e9h-ch",
        "outputId": "225dc524-af5e-4d7a-a5ba-78bb54fca6f8"
      },
      "source": [
        "%%timeit\n",
        "history = model.fit(\n",
        "      X_train_vals, \n",
        "      y_train.values, \n",
        "      epochs=130, \n",
        "      batch_size=70,\n",
        "      validation_data=(X_valid_vals, y_valid.values),\n",
        "      verbose=2,\n",
        "      shuffle=False\n",
        ")"
      ],
      "execution_count": 6,
      "outputs": [
        {
          "output_type": "error",
          "ename": "NameError",
          "evalue": "ignored",
          "traceback": [
            "\u001b[0;31m---------------------------------------------------------------------------\u001b[0m",
            "\u001b[0;31mNameError\u001b[0m                                 Traceback (most recent call last)",
            "\u001b[0;32m<ipython-input-6-35a7a5966b07>\u001b[0m in \u001b[0;36m<module>\u001b[0;34m()\u001b[0m\n\u001b[0;32m----> 1\u001b[0;31m \u001b[0mget_ipython\u001b[0m\u001b[0;34m(\u001b[0m\u001b[0;34m)\u001b[0m\u001b[0;34m.\u001b[0m\u001b[0mrun_cell_magic\u001b[0m\u001b[0;34m(\u001b[0m\u001b[0;34m'timeit'\u001b[0m\u001b[0;34m,\u001b[0m \u001b[0;34m''\u001b[0m\u001b[0;34m,\u001b[0m \u001b[0;34m'history = model.fit(\\n      X_train_vals, \\n      y_train.values, \\n      epochs=130, \\n      batch_size=70,\\n      validation_data=(X_valid_vals, y_valid.values),\\n      verbose=2,\\n      shuffle=False\\n)'\u001b[0m\u001b[0;34m)\u001b[0m\u001b[0;34m\u001b[0m\u001b[0;34m\u001b[0m\u001b[0m\n\u001b[0m",
            "\u001b[0;32m/usr/local/lib/python3.6/dist-packages/IPython/core/interactiveshell.py\u001b[0m in \u001b[0;36mrun_cell_magic\u001b[0;34m(self, magic_name, line, cell)\u001b[0m\n\u001b[1;32m   2115\u001b[0m             \u001b[0mmagic_arg_s\u001b[0m \u001b[0;34m=\u001b[0m \u001b[0mself\u001b[0m\u001b[0;34m.\u001b[0m\u001b[0mvar_expand\u001b[0m\u001b[0;34m(\u001b[0m\u001b[0mline\u001b[0m\u001b[0;34m,\u001b[0m \u001b[0mstack_depth\u001b[0m\u001b[0;34m)\u001b[0m\u001b[0;34m\u001b[0m\u001b[0;34m\u001b[0m\u001b[0m\n\u001b[1;32m   2116\u001b[0m             \u001b[0;32mwith\u001b[0m \u001b[0mself\u001b[0m\u001b[0;34m.\u001b[0m\u001b[0mbuiltin_trap\u001b[0m\u001b[0;34m:\u001b[0m\u001b[0;34m\u001b[0m\u001b[0;34m\u001b[0m\u001b[0m\n\u001b[0;32m-> 2117\u001b[0;31m                 \u001b[0mresult\u001b[0m \u001b[0;34m=\u001b[0m \u001b[0mfn\u001b[0m\u001b[0;34m(\u001b[0m\u001b[0mmagic_arg_s\u001b[0m\u001b[0;34m,\u001b[0m \u001b[0mcell\u001b[0m\u001b[0;34m)\u001b[0m\u001b[0;34m\u001b[0m\u001b[0;34m\u001b[0m\u001b[0m\n\u001b[0m\u001b[1;32m   2118\u001b[0m             \u001b[0;32mreturn\u001b[0m \u001b[0mresult\u001b[0m\u001b[0;34m\u001b[0m\u001b[0;34m\u001b[0m\u001b[0m\n\u001b[1;32m   2119\u001b[0m \u001b[0;34m\u001b[0m\u001b[0m\n",
            "\u001b[0;32m<decorator-gen-59>\u001b[0m in \u001b[0;36mtimeit\u001b[0;34m(self, line, cell)\u001b[0m\n",
            "\u001b[0;32m/usr/local/lib/python3.6/dist-packages/IPython/core/magic.py\u001b[0m in \u001b[0;36m<lambda>\u001b[0;34m(f, *a, **k)\u001b[0m\n\u001b[1;32m    186\u001b[0m     \u001b[0;31m# but it's overkill for just that one bit of state.\u001b[0m\u001b[0;34m\u001b[0m\u001b[0;34m\u001b[0m\u001b[0;34m\u001b[0m\u001b[0m\n\u001b[1;32m    187\u001b[0m     \u001b[0;32mdef\u001b[0m \u001b[0mmagic_deco\u001b[0m\u001b[0;34m(\u001b[0m\u001b[0marg\u001b[0m\u001b[0;34m)\u001b[0m\u001b[0;34m:\u001b[0m\u001b[0;34m\u001b[0m\u001b[0;34m\u001b[0m\u001b[0m\n\u001b[0;32m--> 188\u001b[0;31m         \u001b[0mcall\u001b[0m \u001b[0;34m=\u001b[0m \u001b[0;32mlambda\u001b[0m \u001b[0mf\u001b[0m\u001b[0;34m,\u001b[0m \u001b[0;34m*\u001b[0m\u001b[0ma\u001b[0m\u001b[0;34m,\u001b[0m \u001b[0;34m**\u001b[0m\u001b[0mk\u001b[0m\u001b[0;34m:\u001b[0m \u001b[0mf\u001b[0m\u001b[0;34m(\u001b[0m\u001b[0;34m*\u001b[0m\u001b[0ma\u001b[0m\u001b[0;34m,\u001b[0m \u001b[0;34m**\u001b[0m\u001b[0mk\u001b[0m\u001b[0;34m)\u001b[0m\u001b[0;34m\u001b[0m\u001b[0;34m\u001b[0m\u001b[0m\n\u001b[0m\u001b[1;32m    189\u001b[0m \u001b[0;34m\u001b[0m\u001b[0m\n\u001b[1;32m    190\u001b[0m         \u001b[0;32mif\u001b[0m \u001b[0mcallable\u001b[0m\u001b[0;34m(\u001b[0m\u001b[0marg\u001b[0m\u001b[0;34m)\u001b[0m\u001b[0;34m:\u001b[0m\u001b[0;34m\u001b[0m\u001b[0;34m\u001b[0m\u001b[0m\n",
            "\u001b[0;32m/usr/local/lib/python3.6/dist-packages/IPython/core/magics/execution.py\u001b[0m in \u001b[0;36mtimeit\u001b[0;34m(self, line, cell)\u001b[0m\n\u001b[1;32m   1055\u001b[0m             \u001b[0mnumber\u001b[0m \u001b[0;34m=\u001b[0m \u001b[0;36m1\u001b[0m\u001b[0;34m\u001b[0m\u001b[0;34m\u001b[0m\u001b[0m\n\u001b[1;32m   1056\u001b[0m             \u001b[0;32mfor\u001b[0m \u001b[0m_\u001b[0m \u001b[0;32min\u001b[0m \u001b[0mrange\u001b[0m\u001b[0;34m(\u001b[0m\u001b[0;36m1\u001b[0m\u001b[0;34m,\u001b[0m \u001b[0;36m10\u001b[0m\u001b[0;34m)\u001b[0m\u001b[0;34m:\u001b[0m\u001b[0;34m\u001b[0m\u001b[0;34m\u001b[0m\u001b[0m\n\u001b[0;32m-> 1057\u001b[0;31m                 \u001b[0mtime_number\u001b[0m \u001b[0;34m=\u001b[0m \u001b[0mtimer\u001b[0m\u001b[0;34m.\u001b[0m\u001b[0mtimeit\u001b[0m\u001b[0;34m(\u001b[0m\u001b[0mnumber\u001b[0m\u001b[0;34m)\u001b[0m\u001b[0;34m\u001b[0m\u001b[0;34m\u001b[0m\u001b[0m\n\u001b[0m\u001b[1;32m   1058\u001b[0m                 \u001b[0mworst_tuning\u001b[0m \u001b[0;34m=\u001b[0m \u001b[0mmax\u001b[0m\u001b[0;34m(\u001b[0m\u001b[0mworst_tuning\u001b[0m\u001b[0;34m,\u001b[0m \u001b[0mtime_number\u001b[0m \u001b[0;34m/\u001b[0m \u001b[0mnumber\u001b[0m\u001b[0;34m)\u001b[0m\u001b[0;34m\u001b[0m\u001b[0;34m\u001b[0m\u001b[0m\n\u001b[1;32m   1059\u001b[0m                 \u001b[0;32mif\u001b[0m \u001b[0mtime_number\u001b[0m \u001b[0;34m>=\u001b[0m \u001b[0;36m0.2\u001b[0m\u001b[0;34m:\u001b[0m\u001b[0;34m\u001b[0m\u001b[0;34m\u001b[0m\u001b[0m\n",
            "\u001b[0;32m/usr/local/lib/python3.6/dist-packages/IPython/core/magics/execution.py\u001b[0m in \u001b[0;36mtimeit\u001b[0;34m(self, number)\u001b[0m\n\u001b[1;32m    137\u001b[0m         \u001b[0mgc\u001b[0m\u001b[0;34m.\u001b[0m\u001b[0mdisable\u001b[0m\u001b[0;34m(\u001b[0m\u001b[0;34m)\u001b[0m\u001b[0;34m\u001b[0m\u001b[0;34m\u001b[0m\u001b[0m\n\u001b[1;32m    138\u001b[0m         \u001b[0;32mtry\u001b[0m\u001b[0;34m:\u001b[0m\u001b[0;34m\u001b[0m\u001b[0;34m\u001b[0m\u001b[0m\n\u001b[0;32m--> 139\u001b[0;31m             \u001b[0mtiming\u001b[0m \u001b[0;34m=\u001b[0m \u001b[0mself\u001b[0m\u001b[0;34m.\u001b[0m\u001b[0minner\u001b[0m\u001b[0;34m(\u001b[0m\u001b[0mit\u001b[0m\u001b[0;34m,\u001b[0m \u001b[0mself\u001b[0m\u001b[0;34m.\u001b[0m\u001b[0mtimer\u001b[0m\u001b[0;34m)\u001b[0m\u001b[0;34m\u001b[0m\u001b[0;34m\u001b[0m\u001b[0m\n\u001b[0m\u001b[1;32m    140\u001b[0m         \u001b[0;32mfinally\u001b[0m\u001b[0;34m:\u001b[0m\u001b[0;34m\u001b[0m\u001b[0;34m\u001b[0m\u001b[0m\n\u001b[1;32m    141\u001b[0m             \u001b[0;32mif\u001b[0m \u001b[0mgcold\u001b[0m\u001b[0;34m:\u001b[0m\u001b[0;34m\u001b[0m\u001b[0;34m\u001b[0m\u001b[0m\n",
            "\u001b[0;32m<magic-timeit>\u001b[0m in \u001b[0;36minner\u001b[0;34m(_it, _timer)\u001b[0m\n",
            "\u001b[0;31mNameError\u001b[0m: name 'model' is not defined"
          ]
        }
      ]
    },
    {
      "cell_type": "code",
      "metadata": {
        "trusted": true,
        "id": "35MAxMJbc49p"
      },
      "source": [
        "%%timeit\n",
        "with tf.device('/device:GPU:0'):\n",
        "  history = model.fit(\n",
        "      X_train_vals, \n",
        "      y_train.values, \n",
        "      epochs=130, \n",
        "      batch_size=70,\n",
        "      validation_data=(X_valid_vals, y_valid.values),\n",
        "      verbose=2,\n",
        "      shuffle=False\n",
        "  )"
      ],
      "execution_count": null,
      "outputs": []
    },
    {
      "cell_type": "markdown",
      "metadata": {
        "id": "iF1ZCAnTc49p"
      },
      "source": [
        "## Model Evaluation\n",
        "Calculate SMAPE for the model\n",
        "SMAPE is calculated on a validation set for the model"
      ]
    },
    {
      "cell_type": "code",
      "metadata": {
        "trusted": true,
        "id": "x-mvJxXlc49p"
      },
      "source": [
        "def model_eval(model, X_test, y_test, log_all=False):\n",
        "    \"\"\"\n",
        "    Model must have #predict method.\n",
        "    X_test, y_test - instances of pd.DataFrame\n",
        "    \n",
        "    Note that this function assumes that sales columns for previous values appear \n",
        "    in the same order as sales columns for current values.\n",
        "    \"\"\"\n",
        "    # prepare data\n",
        "    sales_x_cols = [col for col in X_test.columns if 'sales' in col]\n",
        "    sales_x_idxs = [X_test.columns.get_loc(col) for col in sales_x_cols]\n",
        "    sales_y_cols = [col for col in y_test.columns if 'sales' in col]\n",
        "    sales_y_idxs = [y_test.columns.get_loc(col) for col in sales_y_cols]\n",
        "    n_samples = y_test.shape[0]\n",
        "    y_pred = np.zeros(y_test.shape)\n",
        "    # iterate\n",
        "    x_next = X_test.iloc[0].values\n",
        "    for i in range(0, n_samples):\n",
        "        if log_all:\n",
        "            print('[x]', x_next)\n",
        "        x_arr = np.array([x_next])\n",
        "        x_arr = x_arr.reshape(x_arr.shape[0], 1, x_arr.shape[1])\n",
        "        y_pred[i] = model.predict(x_arr)[0]\n",
        "        try:\n",
        "            x_next = X_test.iloc[i+1].values\n",
        "            x_next[sales_x_idxs] = y_pred[i][sales_y_idxs]\n",
        "        except IndexError:\n",
        "            pass  # this happens on last iteration, and x_next does not matter anymore\n",
        "    return y_pred, y_test.values\n",
        "\n",
        "def vector_smape(y_pred, y_real):\n",
        "    nom = np.abs(y_pred-y_real)\n",
        "    denom = (np.abs(y_pred) + np.abs(y_real)) / 2\n",
        "    results = nom / denom\n",
        "    return 100*np.mean(results)  # in percent, same as at kaggle"
      ],
      "execution_count": null,
      "outputs": []
    },
    {
      "cell_type": "code",
      "metadata": {
        "trusted": true,
        "id": "3bU90F4fc49p"
      },
      "source": [
        "def unscale(y_arr, scaler, template_df, toint=False):\n",
        "    \"\"\"\n",
        "    Unscale array y_arr of model predictions, based on a scaler fitted \n",
        "    to template_df.\n",
        "    \"\"\"\n",
        "    tmp = template_df.copy()\n",
        "    tmp[y_cols] = pd.DataFrame(y_arr, index=tmp.index)\n",
        "    tmp[cols_to_scale] = scaler.inverse_transform(tmp[cols_to_scale])\n",
        "    if toint:\n",
        "        return tmp[y_cols].astype(int)\n",
        "    return tmp[y_cols]"
      ],
      "execution_count": null,
      "outputs": []
    },
    {
      "cell_type": "code",
      "metadata": {
        "trusted": true,
        "id": "4871sH4ic49p"
      },
      "source": [
        "X_valid, y_valid = X_valid.head(90), y_valid.head(90)"
      ],
      "execution_count": null,
      "outputs": []
    },
    {
      "cell_type": "code",
      "metadata": {
        "trusted": true,
        "id": "W3LEw-oXc49q"
      },
      "source": [
        "%%timeit\r\n",
        "y_pred, y_real = model_eval(model, X_valid, y_valid)"
      ],
      "execution_count": null,
      "outputs": []
    },
    {
      "cell_type": "code",
      "metadata": {
        "id": "iuxkYPrvhug_"
      },
      "source": [
        "%%timeit\r\n",
        "with tf.device('/device:GPU:0'):\r\n",
        "  y_pred, y_real = model_eval(model, X_valid, y_valid)"
      ],
      "execution_count": null,
      "outputs": []
    },
    {
      "cell_type": "code",
      "metadata": {
        "trusted": true,
        "id": "xXx3XBL1c49q"
      },
      "source": [
        "template_df = pd.concat([X_valid, y_valid], axis=1)\n",
        "template_df['is_test'] = np.repeat(True, template_df.shape[0])\n",
        "\n",
        "pred = unscale(y_pred, scaler, template_df, toint=True)\n",
        "real = unscale(y_real, scaler, template_df, toint=True)"
      ],
      "execution_count": null,
      "outputs": []
    },
    {
      "cell_type": "markdown",
      "metadata": {
        "id": "zLNgJjFAc49q"
      },
      "source": [
        "Calculate SMAPE for each item."
      ]
    },
    {
      "cell_type": "code",
      "metadata": {
        "trusted": true,
        "id": "r0qZzHZrc49q"
      },
      "source": [
        "smapes = [vector_smape(pred[col], real[col]) for col in pred.columns]"
      ],
      "execution_count": null,
      "outputs": []
    },
    {
      "cell_type": "code",
      "metadata": {
        "trusted": true,
        "id": "evlzDKwyc49q"
      },
      "source": [
        "sns.distplot(smapes)"
      ],
      "execution_count": null,
      "outputs": []
    },
    {
      "cell_type": "code",
      "metadata": {
        "trusted": true,
        "id": "RXpeVtPrc49q"
      },
      "source": [
        "describe(smapes)"
      ],
      "execution_count": null,
      "outputs": []
    },
    {
      "cell_type": "markdown",
      "metadata": {
        "id": "qom12GIbc49q"
      },
      "source": [
        " ## Submitting final results\n",
        "Train model on test set (already loaded and formatted) and save results in Kaggle format."
      ]
    },
    {
      "cell_type": "code",
      "metadata": {
        "trusted": true,
        "id": "qGtlpybAc49q"
      },
      "source": [
        "# make sure 1st row has correctly stacked sales\n",
        "df_test[stacked_sales_cols].head(2)"
      ],
      "execution_count": null,
      "outputs": []
    },
    {
      "cell_type": "code",
      "metadata": {
        "trusted": true,
        "id": "3NOWrt9Nc49q"
      },
      "source": [
        "# split to X and y\n",
        "X_test, y_test = df_test[X_cols], df_test[y_cols]"
      ],
      "execution_count": null,
      "outputs": []
    },
    {
      "cell_type": "code",
      "metadata": {
        "trusted": true,
        "id": "jKHLSH3Yc49r"
      },
      "source": [
        "# y_test is basically blank, but allows us to use the same function\n",
        "y_test_pred, _ = model_eval(model, X_test, y_test)"
      ],
      "execution_count": null,
      "outputs": []
    },
    {
      "cell_type": "code",
      "metadata": {
        "trusted": true,
        "id": "2FvdB_qJc49r"
      },
      "source": [
        "test_template_df = pd.concat([X_test, y_test], axis=1)\n",
        "test_template_df['is_test'] = np.repeat(True, test_template_df.shape[0])\n",
        "\n",
        "test_pred = unscale(y_test_pred, scaler, test_template_df, toint=True)"
      ],
      "execution_count": null,
      "outputs": []
    },
    {
      "cell_type": "code",
      "metadata": {
        "trusted": true,
        "id": "uLFjyovnc49r"
      },
      "source": [
        "test_pred.head()"
      ],
      "execution_count": null,
      "outputs": []
    },
    {
      "cell_type": "code",
      "metadata": {
        "trusted": true,
        "id": "rbQUQrdnc49r"
      },
      "source": [
        "plt.plot(test_pred['item_1_store_1_sales'].values)\n",
        "plt.show()"
      ],
      "execution_count": null,
      "outputs": []
    },
    {
      "cell_type": "code",
      "metadata": {
        "trusted": true,
        "id": "2DHrcXHRc49r"
      },
      "source": [
        "result = np.zeros(45000, dtype=np.int)\n",
        "for i, s in storeitems():\n",
        "    slice_start_idx = 90*10*(i-1) + 90*(s-1)\n",
        "    slice_end_idx = slice_start_idx + 90\n",
        "    col_name = f'item_{i}_store_{s}_sales'\n",
        "    result[slice_start_idx:slice_end_idx] = test_pred[col_name].values\n",
        "result = pd.DataFrame(result, columns=['sales'])\n",
        "result.index.name = 'id'\n",
        "result.head()\n",
        "\n",
        "result.to_csv('/content/submission.csv')"
      ],
      "execution_count": null,
      "outputs": []
    }
  ]
}