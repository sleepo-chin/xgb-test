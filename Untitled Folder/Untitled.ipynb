{
 "cells": [
  {
   "cell_type": "code",
   "execution_count": 1,
   "metadata": {},
   "outputs": [],
   "source": [
    "from sklearn.datasets import load_boston\n",
    "boston = load_boston()"
   ]
  },
  {
   "cell_type": "code",
   "execution_count": 2,
   "metadata": {},
   "outputs": [
    {
     "name": "stdout",
     "output_type": "stream",
     "text": [
      "dict_keys(['data', 'target', 'feature_names', 'DESCR', 'filename'])\n"
     ]
    }
   ],
   "source": [
    "print(boston.keys())"
   ]
  },
  {
   "cell_type": "code",
   "execution_count": 3,
   "metadata": {},
   "outputs": [
    {
     "name": "stdout",
     "output_type": "stream",
     "text": [
      "(506, 13)\n"
     ]
    }
   ],
   "source": [
    "print(boston.data.shape)"
   ]
  },
  {
   "cell_type": "code",
   "execution_count": 4,
   "metadata": {},
   "outputs": [
    {
     "name": "stdout",
     "output_type": "stream",
     "text": [
      "['CRIM' 'ZN' 'INDUS' 'CHAS' 'NOX' 'RM' 'AGE' 'DIS' 'RAD' 'TAX' 'PTRATIO'\n",
      " 'B' 'LSTAT']\n"
     ]
    }
   ],
   "source": [
    "print(boston.feature_names)"
   ]
  },
  {
   "cell_type": "code",
   "execution_count": 5,
   "metadata": {},
   "outputs": [],
   "source": [
    "import pandas as pd\n",
    "\n",
    "data = pd.DataFrame(boston.data)\n",
    "data.columns = boston.feature_names"
   ]
  },
  {
   "cell_type": "code",
   "execution_count": 6,
   "metadata": {},
   "outputs": [
    {
     "data": {
      "text/html": [
       "<div>\n",
       "<style scoped>\n",
       "    .dataframe tbody tr th:only-of-type {\n",
       "        vertical-align: middle;\n",
       "    }\n",
       "\n",
       "    .dataframe tbody tr th {\n",
       "        vertical-align: top;\n",
       "    }\n",
       "\n",
       "    .dataframe thead th {\n",
       "        text-align: right;\n",
       "    }\n",
       "</style>\n",
       "<table border=\"1\" class=\"dataframe\">\n",
       "  <thead>\n",
       "    <tr style=\"text-align: right;\">\n",
       "      <th></th>\n",
       "      <th>CRIM</th>\n",
       "      <th>ZN</th>\n",
       "      <th>INDUS</th>\n",
       "      <th>CHAS</th>\n",
       "      <th>NOX</th>\n",
       "      <th>RM</th>\n",
       "      <th>AGE</th>\n",
       "      <th>DIS</th>\n",
       "      <th>RAD</th>\n",
       "      <th>TAX</th>\n",
       "      <th>PTRATIO</th>\n",
       "      <th>B</th>\n",
       "      <th>LSTAT</th>\n",
       "    </tr>\n",
       "  </thead>\n",
       "  <tbody>\n",
       "    <tr>\n",
       "      <th>0</th>\n",
       "      <td>0.00632</td>\n",
       "      <td>18.0</td>\n",
       "      <td>2.31</td>\n",
       "      <td>0.0</td>\n",
       "      <td>0.538</td>\n",
       "      <td>6.575</td>\n",
       "      <td>65.2</td>\n",
       "      <td>4.0900</td>\n",
       "      <td>1.0</td>\n",
       "      <td>296.0</td>\n",
       "      <td>15.3</td>\n",
       "      <td>396.90</td>\n",
       "      <td>4.98</td>\n",
       "    </tr>\n",
       "    <tr>\n",
       "      <th>1</th>\n",
       "      <td>0.02731</td>\n",
       "      <td>0.0</td>\n",
       "      <td>7.07</td>\n",
       "      <td>0.0</td>\n",
       "      <td>0.469</td>\n",
       "      <td>6.421</td>\n",
       "      <td>78.9</td>\n",
       "      <td>4.9671</td>\n",
       "      <td>2.0</td>\n",
       "      <td>242.0</td>\n",
       "      <td>17.8</td>\n",
       "      <td>396.90</td>\n",
       "      <td>9.14</td>\n",
       "    </tr>\n",
       "    <tr>\n",
       "      <th>2</th>\n",
       "      <td>0.02729</td>\n",
       "      <td>0.0</td>\n",
       "      <td>7.07</td>\n",
       "      <td>0.0</td>\n",
       "      <td>0.469</td>\n",
       "      <td>7.185</td>\n",
       "      <td>61.1</td>\n",
       "      <td>4.9671</td>\n",
       "      <td>2.0</td>\n",
       "      <td>242.0</td>\n",
       "      <td>17.8</td>\n",
       "      <td>392.83</td>\n",
       "      <td>4.03</td>\n",
       "    </tr>\n",
       "    <tr>\n",
       "      <th>3</th>\n",
       "      <td>0.03237</td>\n",
       "      <td>0.0</td>\n",
       "      <td>2.18</td>\n",
       "      <td>0.0</td>\n",
       "      <td>0.458</td>\n",
       "      <td>6.998</td>\n",
       "      <td>45.8</td>\n",
       "      <td>6.0622</td>\n",
       "      <td>3.0</td>\n",
       "      <td>222.0</td>\n",
       "      <td>18.7</td>\n",
       "      <td>394.63</td>\n",
       "      <td>2.94</td>\n",
       "    </tr>\n",
       "    <tr>\n",
       "      <th>4</th>\n",
       "      <td>0.06905</td>\n",
       "      <td>0.0</td>\n",
       "      <td>2.18</td>\n",
       "      <td>0.0</td>\n",
       "      <td>0.458</td>\n",
       "      <td>7.147</td>\n",
       "      <td>54.2</td>\n",
       "      <td>6.0622</td>\n",
       "      <td>3.0</td>\n",
       "      <td>222.0</td>\n",
       "      <td>18.7</td>\n",
       "      <td>396.90</td>\n",
       "      <td>5.33</td>\n",
       "    </tr>\n",
       "  </tbody>\n",
       "</table>\n",
       "</div>"
      ],
      "text/plain": [
       "      CRIM    ZN  INDUS  CHAS    NOX     RM   AGE     DIS  RAD    TAX  \\\n",
       "0  0.00632  18.0   2.31   0.0  0.538  6.575  65.2  4.0900  1.0  296.0   \n",
       "1  0.02731   0.0   7.07   0.0  0.469  6.421  78.9  4.9671  2.0  242.0   \n",
       "2  0.02729   0.0   7.07   0.0  0.469  7.185  61.1  4.9671  2.0  242.0   \n",
       "3  0.03237   0.0   2.18   0.0  0.458  6.998  45.8  6.0622  3.0  222.0   \n",
       "4  0.06905   0.0   2.18   0.0  0.458  7.147  54.2  6.0622  3.0  222.0   \n",
       "\n",
       "   PTRATIO       B  LSTAT  \n",
       "0     15.3  396.90   4.98  \n",
       "1     17.8  396.90   9.14  \n",
       "2     17.8  392.83   4.03  \n",
       "3     18.7  394.63   2.94  \n",
       "4     18.7  396.90   5.33  "
      ]
     },
     "execution_count": 6,
     "metadata": {},
     "output_type": "execute_result"
    }
   ],
   "source": [
    "data.head()"
   ]
  },
  {
   "cell_type": "code",
   "execution_count": 7,
   "metadata": {},
   "outputs": [],
   "source": [
    "data['PRICE'] = boston.target"
   ]
  },
  {
   "cell_type": "code",
   "execution_count": 9,
   "metadata": {},
   "outputs": [
    {
     "name": "stdout",
     "output_type": "stream",
     "text": [
      "<class 'pandas.core.frame.DataFrame'>\n",
      "RangeIndex: 506 entries, 0 to 505\n",
      "Data columns (total 14 columns):\n",
      " #   Column   Non-Null Count  Dtype  \n",
      "---  ------   --------------  -----  \n",
      " 0   CRIM     506 non-null    float64\n",
      " 1   ZN       506 non-null    float64\n",
      " 2   INDUS    506 non-null    float64\n",
      " 3   CHAS     506 non-null    float64\n",
      " 4   NOX      506 non-null    float64\n",
      " 5   RM       506 non-null    float64\n",
      " 6   AGE      506 non-null    float64\n",
      " 7   DIS      506 non-null    float64\n",
      " 8   RAD      506 non-null    float64\n",
      " 9   TAX      506 non-null    float64\n",
      " 10  PTRATIO  506 non-null    float64\n",
      " 11  B        506 non-null    float64\n",
      " 12  LSTAT    506 non-null    float64\n",
      " 13  PRICE    506 non-null    float64\n",
      "dtypes: float64(14)\n",
      "memory usage: 55.5 KB\n"
     ]
    }
   ],
   "source": [
    "data.info()"
   ]
  },
  {
   "cell_type": "code",
   "execution_count": 12,
   "metadata": {},
   "outputs": [
    {
     "name": "stdout",
     "output_type": "stream",
     "text": [
      "Collecting package metadata (current_repodata.json): done\n",
      "Solving environment: done\n",
      "\n",
      "\n",
      "==> WARNING: A newer version of conda exists. <==\n",
      "  current version: 4.8.3\n",
      "  latest version: 4.9.2\n",
      "\n",
      "Please update conda by running\n",
      "\n",
      "    $ conda update -n base -c defaults conda\n",
      "\n",
      "\n",
      "\n",
      "## Package Plan ##\n",
      "\n",
      "  environment location: /home/chin/anaconda3/envs/snapml\n",
      "\n",
      "  added / updated specs:\n",
      "    - py-xgboost\n",
      "\n",
      "\n",
      "The following packages will be downloaded:\n",
      "\n",
      "    package                    |            build\n",
      "    ---------------------------|-----------------\n",
      "    _py-xgboost-mutex-2.0      |            cpu_0           9 KB  anaconda\n",
      "    ca-certificates-2020.10.14 |                0         128 KB  anaconda\n",
      "    certifi-2020.6.20          |           py37_0         159 KB  anaconda\n",
      "    libxgboost-0.90            |       he6710b0_1         3.8 MB  anaconda\n",
      "    openssl-1.1.1h             |       h7b6447c_0         3.8 MB  anaconda\n",
      "    py-xgboost-0.90            |   py37he6710b0_1          77 KB  anaconda\n",
      "    ------------------------------------------------------------\n",
      "                                           Total:         8.0 MB\n",
      "\n",
      "The following NEW packages will be INSTALLED:\n",
      "\n",
      "  _py-xgboost-mutex  anaconda/linux-64::_py-xgboost-mutex-2.0-cpu_0\n",
      "  libxgboost         anaconda/linux-64::libxgboost-0.90-he6710b0_1\n",
      "  py-xgboost         anaconda/linux-64::py-xgboost-0.90-py37he6710b0_1\n",
      "\n",
      "The following packages will be SUPERSEDED by a higher-priority channel:\n",
      "\n",
      "  ca-certificates    pkgs/main::ca-certificates-2020.12.8-~ --> anaconda::ca-certificates-2020.10.14-0\n",
      "  certifi            pkgs/main::certifi-2020.12.5-py37h06a~ --> anaconda::certifi-2020.6.20-py37_0\n",
      "  openssl              pkgs/main::openssl-1.1.1i-h27cfd23_0 --> anaconda::openssl-1.1.1h-h7b6447c_0\n",
      "\n",
      "\n",
      "\n",
      "Downloading and Extracting Packages\n",
      "py-xgboost-0.90      | 77 KB     | ##################################### | 100% \n",
      "_py-xgboost-mutex-2. | 9 KB      | ##################################### | 100% \n",
      "certifi-2020.6.20    | 159 KB    | ##################################### | 100% \n",
      "openssl-1.1.1h       | 3.8 MB    | ##################################### | 100% \n",
      "ca-certificates-2020 | 128 KB    | ##################################### | 100% \n",
      "libxgboost-0.90      | 3.8 MB    | ##################################### | 100% \n",
      "Preparing transaction: done\n",
      "Verifying transaction: done\n",
      "Executing transaction: done\n",
      "\n",
      "Note: you may need to restart the kernel to use updated packages.\n"
     ]
    }
   ],
   "source": [
    "conda install -c anaconda py-xgboost"
   ]
  },
  {
   "cell_type": "markdown",
   "metadata": {},
   "source": [
    "# XGB"
   ]
  },
  {
   "cell_type": "code",
   "execution_count": 13,
   "metadata": {
    "scrolled": true
   },
   "outputs": [],
   "source": [
    "import xgboost as xgb\n",
    "from sklearn.metrics import mean_squared_error\n",
    "import pandas as pd\n",
    "import numpy as np"
   ]
  },
  {
   "cell_type": "code",
   "execution_count": 14,
   "metadata": {},
   "outputs": [],
   "source": [
    "X, y = data.iloc[:,:-1],data.iloc[:,-1]"
   ]
  },
  {
   "cell_type": "code",
   "execution_count": 15,
   "metadata": {},
   "outputs": [],
   "source": [
    "data_dmatrix = xgb.DMatrix(data=X,label=y)"
   ]
  },
  {
   "cell_type": "code",
   "execution_count": 17,
   "metadata": {},
   "outputs": [],
   "source": [
    "from sklearn.model_selection import train_test_split\n",
    "\n",
    "X_train, X_test, y_train, y_test = train_test_split(X, y, test_size=0.2, random_state=123)"
   ]
  },
  {
   "cell_type": "code",
   "execution_count": 19,
   "metadata": {},
   "outputs": [],
   "source": [
    "xg_reg = xgb.XGBRegressor(objective ='reg:linear', colsample_bytree = 0.3, learning_rate = 0.1,\n",
    "                max_depth = 5, alpha = 10, n_estimators = 10)"
   ]
  },
  {
   "cell_type": "code",
   "execution_count": 20,
   "metadata": {},
   "outputs": [
    {
     "name": "stdout",
     "output_type": "stream",
     "text": [
      "[00:25:53] WARNING: src/objective/regression_obj.cu:152: reg:linear is now deprecated in favor of reg:squarederror.\n"
     ]
    }
   ],
   "source": [
    "xg_reg.fit(X_train,y_train)\n",
    "\n",
    "preds = xg_reg.predict(X_test)"
   ]
  },
  {
   "cell_type": "code",
   "execution_count": 26,
   "metadata": {},
   "outputs": [
    {
     "data": {
      "text/plain": [
       "array([ 7.60113  , 15.793603 , 22.668156 , 10.711307 , 20.284124 ,\n",
       "       17.278101 , 19.987595 ,  7.0576205, 12.019715 , 20.428122 ,\n",
       "       19.703703 , 15.065924 , 10.453451 , 15.162821 , 13.753126 ,\n",
       "       13.80457  , 13.60567  , 23.350962 , 13.3337755, 11.92468  ,\n",
       "       11.441481 ,  9.760246 , 20.055288 , 21.358515 , 21.197512 ,\n",
       "       14.601301 , 10.12657  , 14.000828 , 16.252613 , 11.168313 ,\n",
       "       14.606691 , 18.7431   ,  5.610203 , 15.248766 , 15.694658 ,\n",
       "       21.059914 , 14.960728 , 10.154016 , 11.0985775, 23.01969  ,\n",
       "       18.070578 , 13.952026 ,  8.543556 , 19.853659 , 12.213979 ,\n",
       "       18.36008  , 13.689107 , 14.238811 , 12.675356 ,  9.895996 ,\n",
       "       18.7431   , 17.188452 , 13.63444  ,  8.228918 , 12.994171 ,\n",
       "       10.348196 , 12.775676 ,  7.906559 , 19.241035 ,  8.228918 ,\n",
       "       11.417037 , 13.272791 , 10.453577 , 10.530934 , 14.753566 ,\n",
       "       16.119217 , 16.305573 , 11.116796 , 14.694129 , 18.923328 ,\n",
       "       13.8013935, 15.619229 , 12.193913 , 16.802341 , 10.928394 ,\n",
       "       10.961043 , 10.026568 , 14.321586 , 16.805128 ,  6.457931 ,\n",
       "       20.383615 ,  9.335532 , 15.173635 , 13.736708 , 12.797706 ,\n",
       "       15.658327 , 10.807214 , 17.335659 , 13.60567  , 19.822887 ,\n",
       "        8.626165 , 19.290619 , 12.687983 , 15.861645 , 21.391516 ,\n",
       "       16.344437 , 11.598497 , 22.150152 , 15.604803 , 23.11377  ,\n",
       "       15.747263 ,  9.974862 ], dtype=float32)"
      ]
     },
     "execution_count": 26,
     "metadata": {},
     "output_type": "execute_result"
    }
   ],
   "source": [
    "preds"
   ]
  },
  {
   "cell_type": "code",
   "execution_count": 21,
   "metadata": {},
   "outputs": [
    {
     "name": "stdout",
     "output_type": "stream",
     "text": [
      "RMSE: 10.731339\n"
     ]
    }
   ],
   "source": [
    "rmse = np.sqrt(mean_squared_error(y_test, preds))\n",
    "print(\"RMSE: %f\" % (rmse))"
   ]
  },
  {
   "cell_type": "markdown",
   "metadata": {},
   "source": [
    "# SnapML Boosting Machine"
   ]
  },
  {
   "cell_type": "code",
   "execution_count": 22,
   "metadata": {},
   "outputs": [],
   "source": [
    "from pai4sk import BoostingMachine"
   ]
  },
  {
   "cell_type": "code",
   "execution_count": 30,
   "metadata": {},
   "outputs": [],
   "source": [
    "X_trainA = X_train.to_numpy()\n",
    "y_trainA = y_train.to_numpy()\n",
    "X_testA = X_test.to_numpy()"
   ]
  },
  {
   "cell_type": "code",
   "execution_count": 23,
   "metadata": {},
   "outputs": [],
   "source": [
    "bm = BoostingMachine()"
   ]
  },
  {
   "cell_type": "code",
   "execution_count": 28,
   "metadata": {},
   "outputs": [],
   "source": [
    "bm.fit(X_trainA,y_trainA)"
   ]
  },
  {
   "cell_type": "code",
   "execution_count": 33,
   "metadata": {},
   "outputs": [],
   "source": [
    "predsA = bm.predict(X_testA)"
   ]
  },
  {
   "cell_type": "code",
   "execution_count": 34,
   "metadata": {},
   "outputs": [
    {
     "name": "stdout",
     "output_type": "stream",
     "text": [
      "RMSE: 11.693543\n"
     ]
    }
   ],
   "source": [
    "rmseA = np.sqrt(mean_squared_error(y_test,predsA))\n",
    "print(\"RMSE: %f\" % (rmseA))"
   ]
  },
  {
   "cell_type": "code",
   "execution_count": 39,
   "metadata": {},
   "outputs": [
    {
     "data": {
      "text/plain": [
       "array([[3.51000e-02, 9.50000e+01, 2.68000e+00, ..., 1.47000e+01,\n",
       "        3.92780e+02, 3.81000e+00],\n",
       "       [9.72418e+00, 0.00000e+00, 1.81000e+01, ..., 2.02000e+01,\n",
       "        3.85960e+02, 1.95200e+01],\n",
       "       [1.39140e-01, 0.00000e+00, 4.05000e+00, ..., 1.66000e+01,\n",
       "        3.96900e+02, 1.46900e+01],\n",
       "       ...,\n",
       "       [3.51140e-01, 0.00000e+00, 7.38000e+00, ..., 1.96000e+01,\n",
       "        3.96900e+02, 7.70000e+00],\n",
       "       [9.18702e+00, 0.00000e+00, 1.81000e+01, ..., 2.02000e+01,\n",
       "        3.96900e+02, 2.36000e+01],\n",
       "       [4.55587e+00, 0.00000e+00, 1.81000e+01, ..., 2.02000e+01,\n",
       "        3.54700e+02, 7.12000e+00]])"
      ]
     },
     "execution_count": 39,
     "metadata": {},
     "output_type": "execute_result"
    }
   ],
   "source": [
    "X_trainA"
   ]
  },
  {
   "cell_type": "code",
   "execution_count": 40,
   "metadata": {},
   "outputs": [
    {
     "data": {
      "text/plain": [
       "array([48.5, 17.1, 23.1, 28.4, 18.9, 13. , 17.2, 24.1, 18.5, 21.8, 13.3,\n",
       "       23. , 14.1, 23.9, 24. , 17.2, 21.5, 19.1, 20.8, 36. , 20.1,  8.7,\n",
       "       13.6, 22. , 22.2, 21.1, 13.4, 17.4, 20.1, 10.2, 23.1, 10.2, 13.1,\n",
       "       14.3, 14.5,  7.2, 19.6, 20.6, 22.7, 26.4,  7.5, 20.3, 50. ,  8.5,\n",
       "       20.3, 16.1, 22. , 19.6, 10.2, 23.2, 35.2, 25. , 36.2, 16.1, 10.9,\n",
       "       36.4, 25. , 20.1, 16.8, 23.7, 42.3, 17.9, 12.7, 50. , 18.4, 33.4,\n",
       "       22.9, 14.6, 29.9, 22.6, 22.5, 29. , 50. , 37.9, 21.4, 29.4, 20.3,\n",
       "       23. , 30.1, 21.7, 36.5, 25. , 24.5, 37.3, 33.8, 24.7, 32.7, 23.1,\n",
       "       25.1, 21.7, 13.4, 24.8, 12.7, 11.8,  8.3, 20.2, 41.3, 23.2, 23.1,\n",
       "       24.3, 19.3, 10.8, 18.6, 29. , 23.9, 19.5, 13.1, 31.7, 21. , 18.2,\n",
       "       21. , 21.2, 14.1, 33.2, 13.8, 19.9, 21.7, 20.6, 21.2, 13.6, 18.9,\n",
       "       18. , 24.1, 28.7, 23.4, 15.2, 23.6, 13.8, 11.7, 16.3, 50. , 13.5,\n",
       "       50. , 31.5, 22.6, 12.1, 21.7, 14.1, 22.4, 13.4, 33.1, 20.6,  8.3,\n",
       "       36.2,  6.3, 21.5, 23.3, 24. , 19.1, 29.6, 27.9, 16.2,  9.5, 24.6,\n",
       "       15.6,  8.1, 15.3, 19. , 22. , 28. , 19.2, 14.5,  9.7, 30.7, 20.6,\n",
       "       16. , 19.8, 17.8, 21.2, 28.7, 41.7,  7.2, 13.4, 17.7, 26.7, 23.8,\n",
       "       21.8, 27.1, 18.3,  5. , 10.4, 18.5, 17.4, 28.6, 50. , 14.2, 31.2,\n",
       "        8.4, 23. , 35.1, 23.9, 20.3, 46.7, 15. , 18.4, 17.8, 22.5, 18.8,\n",
       "       20.9, 50. , 29.1, 17.1, 10.5, 18.8, 27.5, 19.5, 22. ,  5. , 21.7,\n",
       "       50. , 35.4, 32. , 20.5, 16.8, 22.9,  8.5, 50. , 22.2, 15.2, 22.6,\n",
       "        7. , 19.3, 26.4, 12.8, 19.2, 19.7, 38.7, 30.3, 25. , 23.7, 11.7,\n",
       "       17.5,  5.6, 25. , 14.9, 22.3, 20.5, 50. , 24.8, 20.7, 23.2, 19.7,\n",
       "       19.4, 29.8, 34.9, 11. , 12.5, 23.5, 24.4, 16.5, 20.8, 23.3, 24.4,\n",
       "       19.3, 19.6, 21. , 14.4, 23.6, 21.4, 28.2, 24.8, 18.5, 21.9, 23.1,\n",
       "       18.7, 26.6, 25. , 44. , 22. , 27.1, 16.2,  8.4, 20. , 22.5, 19.4,\n",
       "       25. , 18.4, 23.1, 33.1, 31.1, 19.5, 21.2, 20.6, 19.8, 21.9, 21.7,\n",
       "       14.8, 14. , 34.6, 13.3, 18.2, 22.2, 22.8, 48.8, 27.5, 23.7, 30.1,\n",
       "       13.1, 11.9, 18.2, 19.3, 15.4, 17.8, 22. , 33.4, 16.5, 24.7, 36.1,\n",
       "       48.3, 13.8, 20.5, 21.6, 20.2, 43.5, 13.3, 19.4, 13.9, 32.5, 21.7,\n",
       "       50. , 24.7, 14.3, 22.6, 17.6, 20.9, 21.1, 15.1, 12. , 17. , 50. ,\n",
       "       11.9, 24.2, 20. , 24.3, 23. , 17.8, 25.2, 15.6, 22.6, 29.1, 12.7,\n",
       "       23.8,  8.8, 17.1, 33. , 24.6, 18.3,  7.4, 23.8, 20. , 28.5, 17.2,\n",
       "       22.9, 20.4, 28.1, 30.1, 22.7, 39.8, 24.5, 10.4, 33.2, 19.9, 18.1,\n",
       "       23.2, 11.8,  7. , 23.9, 23.9, 30.8, 18.7, 34.7, 15.2, 22.1, 28.4,\n",
       "       17.4, 24.4, 20.1, 16.7, 42.8, 20.7, 19. , 27.5, 22.8, 44.8, 14.5,\n",
       "       13.2, 23.4, 16.6, 15.7, 18.7, 21.4, 50. , 23.7, 31.6, 17.3, 19.5,\n",
       "       22.9, 17.5, 24.3, 43.8, 16.7, 20.4, 11.3, 27.5])"
      ]
     },
     "execution_count": 40,
     "metadata": {},
     "output_type": "execute_result"
    }
   ],
   "source": [
    "y_trainA"
   ]
  },
  {
   "cell_type": "code",
   "execution_count": null,
   "metadata": {},
   "outputs": [],
   "source": []
  }
 ],
 "metadata": {
  "kernelspec": {
   "display_name": "Python 3",
   "language": "python",
   "name": "python3"
  },
  "language_info": {
   "codemirror_mode": {
    "name": "ipython",
    "version": 3
   },
   "file_extension": ".py",
   "mimetype": "text/x-python",
   "name": "python",
   "nbconvert_exporter": "python",
   "pygments_lexer": "ipython3",
   "version": "3.7.9"
  }
 },
 "nbformat": 4,
 "nbformat_minor": 4
}
